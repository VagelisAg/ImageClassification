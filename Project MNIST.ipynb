{
 "cells": [
  {
   "cell_type": "markdown",
   "id": "151233fb-f434-4af0-8193-705d964c26fe",
   "metadata": {},
   "source": [
    "Problem 1"
   ]
  },
  {
   "cell_type": "markdown",
   "id": "04106bd7-5cd5-4c94-a384-667f1fa3f751",
   "metadata": {},
   "source": [
    "1)"
   ]
  },
  {
   "cell_type": "code",
   "execution_count": 3,
   "id": "fe50326a-5456-475f-a494-f62a34350a16",
   "metadata": {},
   "outputs": [],
   "source": [
    "import tensorflow as tf\n",
    "tf.random.set_seed(42)"
   ]
  },
  {
   "cell_type": "code",
   "execution_count": 4,
   "id": "6c12e425-5132-473e-89b9-6abc670bcb6c",
   "metadata": {},
   "outputs": [],
   "source": [
    "fashion_mnist = tf.keras.datasets.fashion_mnist.load_data()\n",
    "(X_train_full, y_train_full), (X_test, y_test) = fashion_mnist\n"
   ]
  },
  {
   "cell_type": "code",
   "execution_count": 3,
   "id": "a25fc38e-0b52-44d4-94ea-f4bec622d10f",
   "metadata": {},
   "outputs": [
    {
     "data": {
      "text/plain": [
       "(60000, 28, 28)"
      ]
     },
     "execution_count": 3,
     "metadata": {},
     "output_type": "execute_result"
    }
   ],
   "source": [
    "X_train_full.shape"
   ]
  },
  {
   "cell_type": "code",
   "execution_count": 4,
   "id": "dfdcf97e-9334-438a-8ad7-7dbe99c4f92e",
   "metadata": {},
   "outputs": [
    {
     "data": {
      "text/plain": [
       "(10000, 28, 28)"
      ]
     },
     "execution_count": 4,
     "metadata": {},
     "output_type": "execute_result"
    }
   ],
   "source": [
    "X_test.shape"
   ]
  },
  {
   "cell_type": "code",
   "execution_count": 5,
   "id": "b7186595-a2cc-47bc-8477-980b547c9fc4",
   "metadata": {},
   "outputs": [],
   "source": [
    "X_train, y_train = X_train_full[:50000], y_train_full[:50000]\n",
    "X_valid, y_valid = X_train_full[50000:], y_train_full[50000:]"
   ]
  },
  {
   "cell_type": "code",
   "execution_count": 6,
   "id": "961ec165-b9fe-4231-bd1d-facb953f7d91",
   "metadata": {},
   "outputs": [
    {
     "data": {
      "text/plain": [
       "((50000, 28, 28), (10000, 28, 28))"
      ]
     },
     "execution_count": 6,
     "metadata": {},
     "output_type": "execute_result"
    }
   ],
   "source": [
    "X_train.shape,X_valid.shape"
   ]
  },
  {
   "cell_type": "code",
   "execution_count": 25,
   "id": "c311e1af-5a02-44ae-9f94-287bc8bf92e8",
   "metadata": {},
   "outputs": [
    {
     "name": "stdout",
     "output_type": "stream",
     "text": [
      "X_train.shape[0]-50000\n",
      "X_train.shape[1]-28\n",
      "X_train.shape[2]-28\n"
     ]
    }
   ],
   "source": [
    "for i in range(len(X_train.shape)):\n",
    "    print(f\"X_train.shape[{i}]-{X_train.shape[i]}\")"
   ]
  },
  {
   "cell_type": "markdown",
   "id": "05111b31-71df-45c6-910c-e9c153a20418",
   "metadata": {},
   "source": [
    "We load the Mnist dataset and split the data in training and testing and we use the last 10000 features of training as validation set"
   ]
  },
  {
   "cell_type": "markdown",
   "id": "ea6fd262-45ad-44b4-9816-4a5a08ab4263",
   "metadata": {},
   "source": [
    "2)"
   ]
  },
  {
   "cell_type": "code",
   "execution_count": 6,
   "id": "7c3c6a2b-7983-420a-aaa9-ff0e3509ff04",
   "metadata": {},
   "outputs": [],
   "source": [
    "import pandas as pd\n",
    "import numpy as np\n",
    "import seaborn as sns\n",
    "import matplotlib.pyplot as plt"
   ]
  },
  {
   "cell_type": "code",
   "execution_count": 7,
   "id": "b331f533-3845-4e04-b852-a40abaf9bfee",
   "metadata": {},
   "outputs": [],
   "source": [
    "class_names = [\"T-shirt/top\", \"Trouser\", \"Pullover\", \"Dress\", \"Coat\",\n",
    "               \"Sandal\", \"Shirt\", \"Sneaker\", \"Bag\", \"Ankle boot\"]"
   ]
  },
  {
   "cell_type": "code",
   "execution_count": 9,
   "id": "1a1ed47a-d678-4fd7-8601-e3e977b96264",
   "metadata": {},
   "outputs": [],
   "source": [
    "train=pd.DataFrame(y_train).value_counts()\n",
    "test=pd.DataFrame(y_test).value_counts()\n",
    "valid=pd.DataFrame(y_valid).value_counts()"
   ]
  },
  {
   "cell_type": "code",
   "execution_count": 10,
   "id": "9266b8db-6b46-4a5c-91db-a5fb2a661c1a",
   "metadata": {},
   "outputs": [
    {
     "name": "stdout",
     "output_type": "stream",
     "text": [
      "7    5045\n",
      "8    5032\n",
      "6    5030\n",
      "1    5012\n",
      "5    5004\n",
      "2    4992\n",
      "3    4979\n",
      "9    4979\n",
      "0    4977\n",
      "4    4950\n",
      "Name: count, dtype: int64\n"
     ]
    }
   ],
   "source": [
    "print(train)"
   ]
  },
  {
   "cell_type": "code",
   "execution_count": 11,
   "id": "ea6147e3-a24f-4c60-984b-49020e87fecb",
   "metadata": {},
   "outputs": [],
   "source": [
    "classes = pd.DataFrame({ \"Class\": class_names, \"Training\": train, \"Validation\": valid, \"Test\": test})"
   ]
  },
  {
   "cell_type": "code",
   "execution_count": 12,
   "id": "6b6fb8bd-835d-4985-aaa0-c10479b978d9",
   "metadata": {},
   "outputs": [
    {
     "data": {
      "text/html": [
       "<div>\n",
       "<style scoped>\n",
       "    .dataframe tbody tr th:only-of-type {\n",
       "        vertical-align: middle;\n",
       "    }\n",
       "\n",
       "    .dataframe tbody tr th {\n",
       "        vertical-align: top;\n",
       "    }\n",
       "\n",
       "    .dataframe thead th {\n",
       "        text-align: right;\n",
       "    }\n",
       "</style>\n",
       "<table border=\"1\" class=\"dataframe\">\n",
       "  <thead>\n",
       "    <tr style=\"text-align: right;\">\n",
       "      <th></th>\n",
       "      <th>Class</th>\n",
       "      <th>Training</th>\n",
       "      <th>Validation</th>\n",
       "      <th>Test</th>\n",
       "    </tr>\n",
       "    <tr>\n",
       "      <th>0</th>\n",
       "      <th></th>\n",
       "      <th></th>\n",
       "      <th></th>\n",
       "      <th></th>\n",
       "    </tr>\n",
       "  </thead>\n",
       "  <tbody>\n",
       "    <tr>\n",
       "      <th>0</th>\n",
       "      <td>T-shirt/top</td>\n",
       "      <td>4977</td>\n",
       "      <td>1023</td>\n",
       "      <td>1000</td>\n",
       "    </tr>\n",
       "    <tr>\n",
       "      <th>1</th>\n",
       "      <td>Trouser</td>\n",
       "      <td>5012</td>\n",
       "      <td>988</td>\n",
       "      <td>1000</td>\n",
       "    </tr>\n",
       "    <tr>\n",
       "      <th>2</th>\n",
       "      <td>Pullover</td>\n",
       "      <td>4992</td>\n",
       "      <td>1008</td>\n",
       "      <td>1000</td>\n",
       "    </tr>\n",
       "    <tr>\n",
       "      <th>3</th>\n",
       "      <td>Dress</td>\n",
       "      <td>4979</td>\n",
       "      <td>1021</td>\n",
       "      <td>1000</td>\n",
       "    </tr>\n",
       "    <tr>\n",
       "      <th>4</th>\n",
       "      <td>Coat</td>\n",
       "      <td>4950</td>\n",
       "      <td>1050</td>\n",
       "      <td>1000</td>\n",
       "    </tr>\n",
       "    <tr>\n",
       "      <th>5</th>\n",
       "      <td>Sandal</td>\n",
       "      <td>5004</td>\n",
       "      <td>996</td>\n",
       "      <td>1000</td>\n",
       "    </tr>\n",
       "    <tr>\n",
       "      <th>6</th>\n",
       "      <td>Shirt</td>\n",
       "      <td>5030</td>\n",
       "      <td>970</td>\n",
       "      <td>1000</td>\n",
       "    </tr>\n",
       "    <tr>\n",
       "      <th>7</th>\n",
       "      <td>Sneaker</td>\n",
       "      <td>5045</td>\n",
       "      <td>955</td>\n",
       "      <td>1000</td>\n",
       "    </tr>\n",
       "    <tr>\n",
       "      <th>8</th>\n",
       "      <td>Bag</td>\n",
       "      <td>5032</td>\n",
       "      <td>968</td>\n",
       "      <td>1000</td>\n",
       "    </tr>\n",
       "    <tr>\n",
       "      <th>9</th>\n",
       "      <td>Ankle boot</td>\n",
       "      <td>4979</td>\n",
       "      <td>1021</td>\n",
       "      <td>1000</td>\n",
       "    </tr>\n",
       "  </tbody>\n",
       "</table>\n",
       "</div>"
      ],
      "text/plain": [
       "         Class  Training  Validation  Test\n",
       "0                                         \n",
       "0  T-shirt/top      4977        1023  1000\n",
       "1      Trouser      5012         988  1000\n",
       "2     Pullover      4992        1008  1000\n",
       "3        Dress      4979        1021  1000\n",
       "4         Coat      4950        1050  1000\n",
       "5       Sandal      5004         996  1000\n",
       "6        Shirt      5030         970  1000\n",
       "7      Sneaker      5045         955  1000\n",
       "8          Bag      5032         968  1000\n",
       "9   Ankle boot      4979        1021  1000"
      ]
     },
     "execution_count": 12,
     "metadata": {},
     "output_type": "execute_result"
    }
   ],
   "source": [
    "classes"
   ]
  },
  {
   "cell_type": "code",
   "execution_count": 13,
   "id": "72248d67-9e45-47ee-b6a5-8a392bc16012",
   "metadata": {
    "scrolled": true
   },
   "outputs": [
    {
     "data": {
      "image/png": "[encoded data removed]",
      "text/plain": [
       "<Figure size 1200x800 with 1 Axes>"
      ]
     },
     "metadata": {},
     "output_type": "display_data"
    }
   ],
   "source": [
    "plt.figure(figsize=(12,8))\n",
    "x = range(len(classes[\"Class\"]))\n",
    "plt.bar(x,classes[\"Training\"],color ='#7BC8F6', width = 0.25, \n",
    "        edgecolor ='grey',label=\"Training\") \n",
    "\n",
    "plt.bar([i + 0.25 for i in x],classes[\"Validation\"], color ='#A52A2A', width = 0.25, \n",
    "        edgecolor ='grey',label=\"Validation\") \n",
    "plt.bar([i + 0.5 for i in x],classes[\"Test\"],  color ='#380282', width = 0.25, \n",
    "       edgecolor ='grey',label=\"Test\") \n",
    "plt.rc('xtick', labelsize=10)\n",
    "plt.xticks([i + 0.25 for i in x], classes[\"Class\"],rotation=25)\n",
    "plt.legend(loc=\"upper right\")\n",
    "\n",
    "plt.tight_layout()\n",
    "\n",
    "plt.show()\n"
   ]
  },
  {
   "cell_type": "markdown",
   "id": "bff256af-9afb-4430-8ba1-6f7dd6675a54",
   "metadata": {},
   "source": [
    "We plot the Training/Validation/Test distribution per class/label."
   ]
  },
  {
   "cell_type": "code",
   "execution_count": 14,
   "id": "da1fd3ee-43ba-4c1f-b177-1e3a89d2540c",
   "metadata": {},
   "outputs": [
    {
     "data": {
      "text/html": [
       "<div>\n",
       "<style scoped>\n",
       "    .dataframe tbody tr th:only-of-type {\n",
       "        vertical-align: middle;\n",
       "    }\n",
       "\n",
       "    .dataframe tbody tr th {\n",
       "        vertical-align: top;\n",
       "    }\n",
       "\n",
       "    .dataframe thead th {\n",
       "        text-align: right;\n",
       "    }\n",
       "</style>\n",
       "<table border=\"1\" class=\"dataframe\">\n",
       "  <thead>\n",
       "    <tr style=\"text-align: right;\">\n",
       "      <th></th>\n",
       "      <th>Class</th>\n",
       "      <th>Training</th>\n",
       "      <th>Validation</th>\n",
       "      <th>Test</th>\n",
       "    </tr>\n",
       "    <tr>\n",
       "      <th>0</th>\n",
       "      <th></th>\n",
       "      <th></th>\n",
       "      <th></th>\n",
       "      <th></th>\n",
       "    </tr>\n",
       "  </thead>\n",
       "  <tbody>\n",
       "    <tr>\n",
       "      <th>9</th>\n",
       "      <td>Ankle boot</td>\n",
       "      <td>4979</td>\n",
       "      <td>1021</td>\n",
       "      <td>1000</td>\n",
       "    </tr>\n",
       "    <tr>\n",
       "      <th>8</th>\n",
       "      <td>Bag</td>\n",
       "      <td>5032</td>\n",
       "      <td>968</td>\n",
       "      <td>1000</td>\n",
       "    </tr>\n",
       "    <tr>\n",
       "      <th>4</th>\n",
       "      <td>Coat</td>\n",
       "      <td>4950</td>\n",
       "      <td>1050</td>\n",
       "      <td>1000</td>\n",
       "    </tr>\n",
       "    <tr>\n",
       "      <th>3</th>\n",
       "      <td>Dress</td>\n",
       "      <td>4979</td>\n",
       "      <td>1021</td>\n",
       "      <td>1000</td>\n",
       "    </tr>\n",
       "    <tr>\n",
       "      <th>2</th>\n",
       "      <td>Pullover</td>\n",
       "      <td>4992</td>\n",
       "      <td>1008</td>\n",
       "      <td>1000</td>\n",
       "    </tr>\n",
       "    <tr>\n",
       "      <th>5</th>\n",
       "      <td>Sandal</td>\n",
       "      <td>5004</td>\n",
       "      <td>996</td>\n",
       "      <td>1000</td>\n",
       "    </tr>\n",
       "    <tr>\n",
       "      <th>6</th>\n",
       "      <td>Shirt</td>\n",
       "      <td>5030</td>\n",
       "      <td>970</td>\n",
       "      <td>1000</td>\n",
       "    </tr>\n",
       "    <tr>\n",
       "      <th>7</th>\n",
       "      <td>Sneaker</td>\n",
       "      <td>5045</td>\n",
       "      <td>955</td>\n",
       "      <td>1000</td>\n",
       "    </tr>\n",
       "    <tr>\n",
       "      <th>0</th>\n",
       "      <td>T-shirt/top</td>\n",
       "      <td>4977</td>\n",
       "      <td>1023</td>\n",
       "      <td>1000</td>\n",
       "    </tr>\n",
       "    <tr>\n",
       "      <th>1</th>\n",
       "      <td>Trouser</td>\n",
       "      <td>5012</td>\n",
       "      <td>988</td>\n",
       "      <td>1000</td>\n",
       "    </tr>\n",
       "  </tbody>\n",
       "</table>\n",
       "</div>"
      ],
      "text/plain": [
       "         Class  Training  Validation  Test\n",
       "0                                         \n",
       "9   Ankle boot      4979        1021  1000\n",
       "8          Bag      5032         968  1000\n",
       "4         Coat      4950        1050  1000\n",
       "3        Dress      4979        1021  1000\n",
       "2     Pullover      4992        1008  1000\n",
       "5       Sandal      5004         996  1000\n",
       "6        Shirt      5030         970  1000\n",
       "7      Sneaker      5045         955  1000\n",
       "0  T-shirt/top      4977        1023  1000\n",
       "1      Trouser      5012         988  1000"
      ]
     },
     "execution_count": 14,
     "metadata": {},
     "output_type": "execute_result"
    }
   ],
   "source": [
    "classes.sort_values(by=\"Class\")"
   ]
  },
  {
   "cell_type": "markdown",
   "id": "2dffbb83-2023-4576-9af6-e18afd597982",
   "metadata": {},
   "source": [
    "3)"
   ]
  },
  {
   "cell_type": "code",
   "execution_count": 15,
   "id": "6cf14663-b3b2-4c6a-a8e1-3b88037a18b7",
   "metadata": {},
   "outputs": [],
   "source": [
    "train_min, train_max = X_train.min(), X_train.max()\n",
    "val_min, val_max = X_valid.min(), X_valid.max()\n",
    "test_min, test_max = X_test.min(), X_test.max()"
   ]
  },
  {
   "cell_type": "code",
   "execution_count": 16,
   "id": "313da5dc-e0c1-43a7-a9e5-c66e7564c8d3",
   "metadata": {},
   "outputs": [
    {
     "name": "stdout",
     "output_type": "stream",
     "text": [
      " The range in Training is 0-255\n",
      " The range in Validation is 0-255\n",
      " The range in Test is 0-255\n"
     ]
    }
   ],
   "source": [
    "print(f\" The range in Training is {X_train.min()}-{X_train.max()}\")\n",
    "print(f\" The range in Validation is {X_valid.min()}-{X_valid.max()}\")\n",
    "print(f\" The range in Test is {X_test.min()}-{X_test.max()}\")"
   ]
  },
  {
   "cell_type": "code",
   "execution_count": 8,
   "id": "2790e3ff-1c39-4d96-95a1-32b80fb65265",
   "metadata": {},
   "outputs": [],
   "source": [
    "X_train, X_valid, X_test = X_train / 255., X_valid / 255., X_test / 255. #normalization"
   ]
  },
  {
   "cell_type": "markdown",
   "id": "d93ebbb5-e2c1-46a6-88d8-55e974cb7198",
   "metadata": {},
   "source": [
    "4)"
   ]
  },
  {
   "cell_type": "code",
   "execution_count": 9,
   "id": "55180e14-c32c-432c-91af-6b33cfbc8418",
   "metadata": {},
   "outputs": [],
   "source": [
    "import matplotlib.pyplot as plt"
   ]
  },
  {
   "cell_type": "code",
   "execution_count": 12,
   "id": "7c4413aa-f61e-4533-a7b6-507253d80166",
   "metadata": {},
   "outputs": [
    {
     "data": {
      "image/png": "[encoded data removed]",
      "text/plain": [
       "<Figure size 200x200 with 1 Axes>"
      ]
     },
     "metadata": {},
     "output_type": "display_data"
    }
   ],
   "source": [
    "plt.figure(figsize=(2,2))\n",
    "plt.imshow(X_train[0], cmap=\"binary\")\n",
    "plt.axis('off')\n",
    "plt.show()"
   ]
  },
  {
   "cell_type": "code",
   "execution_count": 20,
   "id": "4a4ab693-68d7-4169-b31a-de94cc891003",
   "metadata": {},
   "outputs": [
    {
     "data": {
      "text/plain": [
       "(50000, 28, 28)"
      ]
     },
     "execution_count": 20,
     "metadata": {},
     "output_type": "execute_result"
    }
   ],
   "source": [
    "X_train.shape"
   ]
  },
  {
   "cell_type": "code",
   "execution_count": 10,
   "id": "65336627-5b10-4d88-9946-936d15ce95a3",
   "metadata": {},
   "outputs": [
    {
     "data": {
      "text/plain": [
       "14"
      ]
     },
     "execution_count": 10,
     "metadata": {},
     "output_type": "execute_result"
    }
   ],
   "source": [
    "m=X_train.shape[1] // 2;m # the value to divide the picture in  two parts"
   ]
  },
  {
   "cell_type": "code",
   "execution_count": 11,
   "id": "6aa3f7ff-c007-49b0-8884-1c2d3b77463b",
   "metadata": {},
   "outputs": [],
   "source": [
    "X_train_upper = X_train[:, :m, :]\n",
    "X_train_lower = X_train[:, m:, :]\n"
   ]
  },
  {
   "cell_type": "code",
   "execution_count": 23,
   "id": "df14c950-d4be-4b5b-954a-af7c7f1ac8ec",
   "metadata": {},
   "outputs": [
    {
     "data": {
      "image/png": "[encoded data removed]",
      "text/plain": [
       "<Figure size 640x480 with 1 Axes>"
      ]
     },
     "metadata": {},
     "output_type": "display_data"
    },
    {
     "data": {
      "image/png": "[encoded data removed]",
      "text/plain": [
       "<Figure size 640x480 with 1 Axes>"
      ]
     },
     "metadata": {},
     "output_type": "display_data"
    }
   ],
   "source": [
    "plt.subplot(121)\n",
    "plt.imshow(X_train_upper[0], cmap=\"binary\")\n",
    "plt.axis('off')\n",
    "plt.show()\n",
    "plt.subplot(122)\n",
    "plt.imshow(X_train_lower[0], cmap=\"binary\")\n",
    "plt.axis('off')\n",
    "plt.show()"
   ]
  },
  {
   "cell_type": "code",
   "execution_count": 12,
   "id": "aa8e42fe-0d6d-41dd-88f7-757c4d7b5c88",
   "metadata": {},
   "outputs": [],
   "source": [
    "X_valid_upper = X_valid[:, :m, :]\n",
    "X_valid_lower = X_valid[:, m:, :]"
   ]
  },
  {
   "cell_type": "code",
   "execution_count": 13,
   "id": "f850c1c0-46f4-49d2-9f92-5a2bbd9ae565",
   "metadata": {},
   "outputs": [],
   "source": [
    "X_test_upper = X_test[:, :m, :]\n",
    "X_test_lower = X_test[:, m:, :]"
   ]
  },
  {
   "cell_type": "markdown",
   "id": "c7dcaffe-1e2c-44d1-bad1-3e4dbf47a8b2",
   "metadata": {},
   "source": [
    "5)"
   ]
  },
  {
   "cell_type": "code",
   "execution_count": 14,
   "id": "25d7fd80-8929-411c-961d-0bebcdd376f2",
   "metadata": {
    "collapsed": true,
    "jupyter": {
     "outputs_hidden": true
    }
   },
   "outputs": [
    {
     "data": {
      "image/png": "[encoded data removed]",
      "text/plain": [
       "<Figure size 600x480 with 1 Axes>"
      ]
     },
     "metadata": {},
     "output_type": "display_data"
    },
    {
     "data": {
      "image/png": "[encoded data removed]",
      "text/plain": [
       "<Figure size 640x480 with 1 Axes>"
      ]
     },
     "metadata": {},
     "output_type": "display_data"
    },
    {
     "data": {
      "image/png": "[encoded data removed]",
      "text/plain": [
       "<Figure size 640x480 with 1 Axes>"
      ]
     },
     "metadata": {},
     "output_type": "display_data"
    },
    {
     "data": {
      "image/png": "[encoded data removed]",
      "text/plain": [
       "<Figure size 640x480 with 1 Axes>"
      ]
     },
     "metadata": {},
     "output_type": "display_data"
    },
    {
     "data": {
      "image/png": "[encoded data removed]",
      "text/plain": [
       "<Figure size 640x480 with 1 Axes>"
      ]
     },
     "metadata": {},
     "output_type": "display_data"
    },
    {
     "data": {
      "image/png": "[encoded data removed]",
      "text/plain": [
       "<Figure size 640x480 with 1 Axes>"
      ]
     },
     "metadata": {},
     "output_type": "display_data"
    },
    {
     "data": {
      "image/png": "[encoded data removed]",
      "text/plain": [
       "<Figure size 640x480 with 1 Axes>"
      ]
     },
     "metadata": {},
     "output_type": "display_data"
    },
    {
     "data": {
      "image/png": "[encoded data removed]",
      "text/plain": [
       "<Figure size 640x480 with 1 Axes>"
      ]
     },
     "metadata": {},
     "output_type": "display_data"
    },
    {
     "data": {
      "image/png": "[encoded data removed]",
      "text/plain": [
       "<Figure size 640x480 with 1 Axes>"
      ]
     },
     "metadata": {},
     "output_type": "display_data"
    },
    {
     "data": {
      "image/png": "[encoded data removed]",
      "text/plain": [
       "<Figure size 640x480 with 1 Axes>"
      ]
     },
     "metadata": {},
     "output_type": "display_data"
    },
    {
     "data": {
      "image/png": "[encoded data removed]",
      "text/plain": [
       "<Figure size 640x480 with 1 Axes>"
      ]
     },
     "metadata": {},
     "output_type": "display_data"
    },
    {
     "data": {
      "image/png": "[encoded data removed]",
      "text/plain": [
       "<Figure size 640x480 with 1 Axes>"
      ]
     },
     "metadata": {},
     "output_type": "display_data"
    },
    {
     "data": {
      "image/png": "[encoded data removed]",
      "text/plain": [
       "<Figure size 640x480 with 1 Axes>"
      ]
     },
     "metadata": {},
     "output_type": "display_data"
    },
    {
     "data": {
      "image/png": "[encoded data removed]",
      "text/plain": [
       "<Figure size 640x480 with 1 Axes>"
      ]
     },
     "metadata": {},
     "output_type": "display_data"
    },
    {
     "data": {
      "image/png": "[encoded data removed]",
      "text/plain": [
       "<Figure size 640x480 with 1 Axes>"
      ]
     },
     "metadata": {},
     "output_type": "display_data"
    },
    {
     "data": {
      "image/png": "[encoded data removed]",
      "text/plain": [
       "<Figure size 640x480 with 1 Axes>"
      ]
     },
     "metadata": {},
     "output_type": "display_data"
    },
    {
     "data": {
      "image/png": "[encoded data removed]",
      "text/plain": [
       "<Figure size 640x480 with 1 Axes>"
      ]
     },
     "metadata": {},
     "output_type": "display_data"
    },
    {
     "data": {
      "image/png": "[encoded data removed]",
      "text/plain": [
       "<Figure size 640x480 with 1 Axes>"
      ]
     },
     "metadata": {},
     "output_type": "display_data"
    },
    {
     "data": {
      "image/png": "[encoded data removed]",
      "text/plain": [
       "<Figure size 640x480 with 1 Axes>"
      ]
     },
     "metadata": {},
     "output_type": "display_data"
    },
    {
     "data": {
      "image/png": "[encoded data removed]",
      "text/plain": [
       "<Figure size 640x480 with 1 Axes>"
      ]
     },
     "metadata": {},
     "output_type": "display_data"
    },
    {
     "data": {
      "image/png": "[encoded data removed]",
      "text/plain": [
       "<Figure size 640x480 with 1 Axes>"
      ]
     },
     "metadata": {},
     "output_type": "display_data"
    },
    {
     "data": {
      "image/png": "[encoded data removed]",
      "text/plain": [
       "<Figure size 640x480 with 1 Axes>"
      ]
     },
     "metadata": {},
     "output_type": "display_data"
    },
    {
     "data": {
      "image/png": "[encoded data removed]",
      "text/plain": [
       "<Figure size 640x480 with 1 Axes>"
      ]
     },
     "metadata": {},
     "output_type": "display_data"
    },
    {
     "data": {
      "image/png": "[encoded data removed]",
      "text/plain": [
       "<Figure size 640x480 with 1 Axes>"
      ]
     },
     "metadata": {},
     "output_type": "display_data"
    },
    {
     "data": {
      "image/png": "[encoded data removed]",
      "text/plain": [
       "<Figure size 640x480 with 1 Axes>"
      ]
     },
     "metadata": {},
     "output_type": "display_data"
    },
    {
     "data": {
      "image/png": "[encoded data removed]",
      "text/plain": [
       "<Figure size 640x480 with 1 Axes>"
      ]
     },
     "metadata": {},
     "output_type": "display_data"
    },
    {
     "data": {
      "image/png": "[encoded data removed]",
      "text/plain": [
       "<Figure size 640x480 with 1 Axes>"
      ]
     },
     "metadata": {},
     "output_type": "display_data"
    },
    {
     "data": {
      "image/png": "[encoded data removed]",
      "text/plain": [
       "<Figure size 640x480 with 1 Axes>"
      ]
     },
     "metadata": {},
     "output_type": "display_data"
    },
    {
     "data": {
      "image/png": "[encoded data removed]",
      "text/plain": [
       "<Figure size 640x480 with 1 Axes>"
      ]
     },
     "metadata": {},
     "output_type": "display_data"
    },
    {
     "data": {
      "image/png": "[encoded data removed]",
      "text/plain": [
       "<Figure size 640x480 with 1 Axes>"
      ]
     },
     "metadata": {},
     "output_type": "display_data"
    },
    {
     "data": {
      "image/png": "[encoded data removed]",
      "text/plain": [
       "<Figure size 640x480 with 1 Axes>"
      ]
     },
     "metadata": {},
     "output_type": "display_data"
    },
    {
     "data": {
      "image/png": "[encoded data removed]",
      "text/plain": [
       "<Figure size 640x480 with 1 Axes>"
      ]
     },
     "metadata": {},
     "output_type": "display_data"
    },
    {
     "data": {
      "image/png": "[encoded data removed]",
      "text/plain": [
       "<Figure size 640x480 with 1 Axes>"
      ]
     },
     "metadata": {},
     "output_type": "display_data"
    },
    {
     "data": {
      "image/png": "[encoded data removed]",
      "text/plain": [
       "<Figure size 640x480 with 1 Axes>"
      ]
     },
     "metadata": {},
     "output_type": "display_data"
    },
    {
     "data": {
      "image/png": "[encoded data removed]",
      "text/plain": [
       "<Figure size 640x480 with 1 Axes>"
      ]
     },
     "metadata": {},
     "output_type": "display_data"
    },
    {
     "data": {
      "image/png": "[encoded data removed]",
      "text/plain": [
       "<Figure size 640x480 with 1 Axes>"
      ]
     },
     "metadata": {},
     "output_type": "display_data"
    },
    {
     "data": {
      "image/png": "[encoded data removed]",
      "text/plain": [
       "<Figure size 640x480 with 1 Axes>"
      ]
     },
     "metadata": {},
     "output_type": "display_data"
    },
    {
     "data": {
      "image/png": "[encoded data removed]",
      "text/plain": [
       "<Figure size 640x480 with 1 Axes>"
      ]
     },
     "metadata": {},
     "output_type": "display_data"
    },
    {
     "data": {
      "image/png": "[encoded data removed]",
      "text/plain": [
       "<Figure size 640x480 with 1 Axes>"
      ]
     },
     "metadata": {},
     "output_type": "display_data"
    },
    {
     "data": {
      "image/png": "[encoded data removed]",
      "text/plain": [
       "<Figure size 640x480 with 1 Axes>"
      ]
     },
     "metadata": {},
     "output_type": "display_data"
    },
    {
     "data": {
      "image/png": "[encoded data removed]",
      "text/plain": [
       "<Figure size 640x480 with 1 Axes>"
      ]
     },
     "metadata": {},
     "output_type": "display_data"
    },
    {
     "data": {
      "image/png": "[encoded data removed]",
      "text/plain": [
       "<Figure size 640x480 with 1 Axes>"
      ]
     },
     "metadata": {},
     "output_type": "display_data"
    },
    {
     "data": {
      "image/png": "[encoded data removed]",
      "text/plain": [
       "<Figure size 640x480 with 1 Axes>"
      ]
     },
     "metadata": {},
     "output_type": "display_data"
    },
    {
     "data": {
      "image/png": "[encoded data removed]",
      "text/plain": [
       "<Figure size 640x480 with 1 Axes>"
      ]
     },
     "metadata": {},
     "output_type": "display_data"
    },
    {
     "data": {
      "image/png": "[encoded data removed]",
      "text/plain": [
       "<Figure size 640x480 with 1 Axes>"
      ]
     },
     "metadata": {},
     "output_type": "display_data"
    },
    {
     "data": {
      "image/png": "[encoded data removed]",
      "text/plain": [
       "<Figure size 640x480 with 1 Axes>"
      ]
     },
     "metadata": {},
     "output_type": "display_data"
    },
    {
     "data": {
      "image/png": "[encoded data removed]",
      "text/plain": [
       "<Figure size 640x480 with 1 Axes>"
      ]
     },
     "metadata": {},
     "output_type": "display_data"
    },
    {
     "data": {
      "image/png": "[encoded data removed]",
      "text/plain": [
       "<Figure size 640x480 with 1 Axes>"
      ]
     },
     "metadata": {},
     "output_type": "display_data"
    },
    {
     "data": {
      "image/png": "[encoded data removed]",
      "text/plain": [
       "<Figure size 640x480 with 1 Axes>"
      ]
     },
     "metadata": {},
     "output_type": "display_data"
    },
    {
     "data": {
      "image/png": "[encoded data removed]",
      "text/plain": [
       "<Figure size 640x480 with 1 Axes>"
      ]
     },
     "metadata": {},
     "output_type": "display_data"
    },
    {
     "data": {
      "image/png": "[encoded data removed]",
      "text/plain": [
       "<Figure size 640x480 with 1 Axes>"
      ]
     },
     "metadata": {},
     "output_type": "display_data"
    },
    {
     "data": {
      "image/png": "[encoded data removed]",
      "text/plain": [
       "<Figure size 640x480 with 1 Axes>"
      ]
     },
     "metadata": {},
     "output_type": "display_data"
    },
    {
     "data": {
      "image/png": "[encoded data removed]",
      "text/plain": [
       "<Figure size 640x480 with 1 Axes>"
      ]
     },
     "metadata": {},
     "output_type": "display_data"
    },
    {
     "data": {
      "image/png": "[encoded data removed]",
      "text/plain": [
       "<Figure size 640x480 with 1 Axes>"
      ]
     },
     "metadata": {},
     "output_type": "display_data"
    },
    {
     "data": {
      "image/png": "[encoded data removed]",
      "text/plain": [
       "<Figure size 640x480 with 1 Axes>"
      ]
     },
     "metadata": {},
     "output_type": "display_data"
    },
    {
     "data": {
      "image/png": "[encoded data removed]",
      "text/plain": [
       "<Figure size 640x480 with 1 Axes>"
      ]
     },
     "metadata": {},
     "output_type": "display_data"
    },
    {
     "data": {
      "image/png": "[encoded data removed]",
      "text/plain": [
       "<Figure size 640x480 with 1 Axes>"
      ]
     },
     "metadata": {},
     "output_type": "display_data"
    },
    {
     "data": {
      "image/png": "[encoded data removed]",
      "text/plain": [
       "<Figure size 640x480 with 1 Axes>"
      ]
     },
     "metadata": {},
     "output_type": "display_data"
    },
    {
     "data": {
      "image/png": "[encoded data removed]",
      "text/plain": [
       "<Figure size 640x480 with 1 Axes>"
      ]
     },
     "metadata": {},
     "output_type": "display_data"
    },
    {
     "data": {
      "image/png": "[encoded data removed]",
      "text/plain": [
       "<Figure size 640x480 with 1 Axes>"
      ]
     },
     "metadata": {},
     "output_type": "display_data"
    }
   ],
   "source": [
    "plt.figure(figsize=(5* 1.2, 4 * 1.2))\n",
    "for i in range(20):\n",
    "    plt.subplot(451)\n",
    "    plt.imshow(X_train_upper[i], cmap=\"binary\")\n",
    "    plt.axis('off')\n",
    "    plt.show()\n",
    "    plt.subplot(452)\n",
    "    plt.imshow(X_train_lower[i], cmap=\"binary\")\n",
    "    plt.axis('off')\n",
    "    plt.show()\n",
    "    plt.subplot(453)\n",
    "    plt.imshow(X_train[i], cmap=\"binary\")\n",
    "    plt.axis('off')\n",
    "    plt.show() \n",
    "   "
   ]
  },
  {
   "cell_type": "code",
   "execution_count": 35,
   "id": "c4ae6e9e-d190-4a3b-9ec6-0948cab90335",
   "metadata": {
    "scrolled": true
   },
   "outputs": [
    {
     "data": {
      "image/png": "[encoded data removed]",
      "text/plain": [
       "<Figure size 1000x800 with 20 Axes>"
      ]
     },
     "metadata": {},
     "output_type": "display_data"
    },
    {
     "data": {
      "image/png": "[encoded data removed]",
      "text/plain": [
       "<Figure size 1000x800 with 20 Axes>"
      ]
     },
     "metadata": {},
     "output_type": "display_data"
    },
    {
     "data": {
      "image/png": "[encoded data removed]",
      "text/plain": [
       "<Figure size 1000x800 with 20 Axes>"
      ]
     },
     "metadata": {},
     "output_type": "display_data"
    }
   ],
   "source": [
    "def plot_images(images, title):\n",
    "    fig, axes = plt.subplots(4, 5, figsize=(10, 8))\n",
    "    fig.suptitle(title, fontsize=14)\n",
    "    \n",
    "    for i, ax in enumerate(axes.flat):\n",
    "        ax.imshow(images[i], cmap=\"binary\")\n",
    "        ax.axis(\"off\")\n",
    "    plt.show()\n",
    "\n",
    "# Visualizing the first 20 instances\n",
    "plot_images(X_train_upper[:20], \"Upper Half of Images\")\n",
    "plot_images(X_train_lower[:20], \"Lower Half of Images\")\n",
    "plot_images(X_train[:20], \"Original Images\")"
   ]
  },
  {
   "cell_type": "markdown",
   "id": "681ecda7-0c1d-4b80-bd37-dd2098f037f1",
   "metadata": {},
   "source": [
    "6)"
   ]
  },
  {
   "cell_type": "code",
   "execution_count": 38,
   "id": "a74913a0-87c8-4032-9a1f-c879ed0cbc4f",
   "metadata": {},
   "outputs": [],
   "source": [
    "from tensorflow.keras.models import Sequential\n",
    "from tensorflow.keras.layers import Dense, Flatten\n",
    "from tensorflow.keras.optimizers import SGD\n"
   ]
  },
  {
   "cell_type": "code",
   "execution_count": 27,
   "id": "e650d41c-9aff-448b-9576-ff3a9f6ca64f",
   "metadata": {
    "collapsed": true,
    "jupyter": {
     "outputs_hidden": true
    },
    "scrolled": true
   },
   "outputs": [
    {
     "name": "stdout",
     "output_type": "stream",
     "text": [
      "Collecting keras-tuner\n",
      "  Downloading keras_tuner-1.4.7-py3-none-any.whl.metadata (5.4 kB)\n",
      "Requirement already satisfied: keras in c:\\users\\vagelis\\anaconda3\\envs\\mlenv\\lib\\site-packages (from keras-tuner) (3.8.0)\n",
      "Requirement already satisfied: packaging in c:\\users\\vagelis\\anaconda3\\envs\\mlenv\\lib\\site-packages (from keras-tuner) (23.2)\n",
      "Requirement already satisfied: requests in c:\\users\\vagelis\\anaconda3\\envs\\mlenv\\lib\\site-packages (from keras-tuner) (2.31.0)\n",
      "Collecting kt-legacy (from keras-tuner)\n",
      "  Downloading kt_legacy-1.0.5-py3-none-any.whl.metadata (221 bytes)\n",
      "Requirement already satisfied: absl-py in c:\\users\\vagelis\\anaconda3\\envs\\mlenv\\lib\\site-packages (from keras->keras-tuner) (2.1.0)\n",
      "Requirement already satisfied: numpy in c:\\users\\vagelis\\anaconda3\\envs\\mlenv\\lib\\site-packages (from keras->keras-tuner) (1.26.2)\n",
      "Requirement already satisfied: rich in c:\\users\\vagelis\\anaconda3\\envs\\mlenv\\lib\\site-packages (from keras->keras-tuner) (13.7.0)\n",
      "Requirement already satisfied: namex in c:\\users\\vagelis\\anaconda3\\envs\\mlenv\\lib\\site-packages (from keras->keras-tuner) (0.0.8)\n",
      "Requirement already satisfied: h5py in c:\\users\\vagelis\\anaconda3\\envs\\mlenv\\lib\\site-packages (from keras->keras-tuner) (3.12.1)\n",
      "Requirement already satisfied: optree in c:\\users\\vagelis\\anaconda3\\envs\\mlenv\\lib\\site-packages (from keras->keras-tuner) (0.14.0)\n",
      "Requirement already satisfied: ml-dtypes in c:\\users\\vagelis\\anaconda3\\envs\\mlenv\\lib\\site-packages (from keras->keras-tuner) (0.4.1)\n",
      "Requirement already satisfied: charset-normalizer<4,>=2 in c:\\users\\vagelis\\anaconda3\\envs\\mlenv\\lib\\site-packages (from requests->keras-tuner) (3.3.2)\n",
      "Requirement already satisfied: idna<4,>=2.5 in c:\\users\\vagelis\\anaconda3\\envs\\mlenv\\lib\\site-packages (from requests->keras-tuner) (3.4)\n",
      "Requirement already satisfied: urllib3<3,>=1.21.1 in c:\\users\\vagelis\\anaconda3\\envs\\mlenv\\lib\\site-packages (from requests->keras-tuner) (2.1.0)\n",
      "Requirement already satisfied: certifi>=2017.4.17 in c:\\users\\vagelis\\anaconda3\\envs\\mlenv\\lib\\site-packages (from requests->keras-tuner) (2023.7.22)\n",
      "Requirement already satisfied: typing-extensions>=4.5.0 in c:\\users\\vagelis\\anaconda3\\envs\\mlenv\\lib\\site-packages (from optree->keras->keras-tuner) (4.8.0)\n",
      "Requirement already satisfied: markdown-it-py>=2.2.0 in c:\\users\\vagelis\\anaconda3\\envs\\mlenv\\lib\\site-packages (from rich->keras->keras-tuner) (3.0.0)\n",
      "Requirement already satisfied: pygments<3.0.0,>=2.13.0 in c:\\users\\vagelis\\anaconda3\\envs\\mlenv\\lib\\site-packages (from rich->keras->keras-tuner) (2.16.1)\n",
      "Requirement already satisfied: mdurl~=0.1 in c:\\users\\vagelis\\anaconda3\\envs\\mlenv\\lib\\site-packages (from markdown-it-py>=2.2.0->rich->keras->keras-tuner) (0.1.2)\n",
      "Downloading keras_tuner-1.4.7-py3-none-any.whl (129 kB)\n",
      "   ---------------------------------------- 0.0/129.1 kB ? eta -:--:--\n",
      "   --------- ------------------------------ 30.7/129.1 kB ? eta -:--:--\n",
      "   ------------------ -------------------- 61.4/129.1 kB 825.8 kB/s eta 0:00:01\n",
      "   ------------------------------------ - 122.9/129.1 kB 901.1 kB/s eta 0:00:01\n",
      "   -------------------------------------- 129.1/129.1 kB 849.3 kB/s eta 0:00:00\n",
      "Downloading kt_legacy-1.0.5-py3-none-any.whl (9.6 kB)\n",
      "Installing collected packages: kt-legacy, keras-tuner\n",
      "Successfully installed keras-tuner-1.4.7 kt-legacy-1.0.5\n",
      "Note: you may need to restart the kernel to use updated packages.\n"
     ]
    }
   ],
   "source": [
    "pip install keras-tuner"
   ]
  },
  {
   "cell_type": "code",
   "execution_count": 31,
   "id": "4b60e5e6-5599-432a-9d6b-bf2432ec3c89",
   "metadata": {},
   "outputs": [],
   "source": [
    "import keras_tuner as kt"
   ]
  },
  {
   "cell_type": "code",
   "execution_count": 32,
   "id": "040f5241-724b-4fad-93b0-fff0a425c098",
   "metadata": {},
   "outputs": [],
   "source": [
    "def build_model(hp): #define function\n",
    "    n_hidden = hp.Int(\"n_hidden\", min_value=0, max_value=5, default=2)\n",
    "    n_neurons = hp.Int(\"n_neurons\", min_value=16, max_value=256)\n",
    "    learning_rate = hp.Float(\"learning_rate\", min_value=1e-4, max_value=1e-2,\n",
    "                             sampling=\"log\")\n",
    "    optimizer = hp.Choice(\"optimizer\", values=[\"sgd\", \"adam\"])\n",
    "    if optimizer == \"sgd\":\n",
    "        optimizer = tf.keras.optimizers.SGD(learning_rate=learning_rate)\n",
    "    else:\n",
    "        optimizer = tf.keras.optimizers.Adam(learning_rate=learning_rate)\n",
    "\n",
    "    model = tf.keras.Sequential()\n",
    "    model.add(tf.keras.layers.Flatten())\n",
    "    for _ in range(n_hidden):\n",
    "        model.add(tf.keras.layers.Dense(n_neurons, activation=\"relu\"))\n",
    "    model.add(tf.keras.layers.Dense(10, activation=\"softmax\"))\n",
    "    model.compile(loss=\"sparse_categorical_crossentropy\", optimizer=optimizer,\n",
    "                  metrics=[\"accuracy\"])\n",
    "    return model"
   ]
  },
  {
   "cell_type": "code",
   "execution_count": 33,
   "id": "758b2702-2c46-477d-b4ec-9b63b1143564",
   "metadata": {},
   "outputs": [
    {
     "name": "stdout",
     "output_type": "stream",
     "text": [
      "Trial 5 Complete [00h 01m 05s]\n",
      "val_accuracy: 0.7664999961853027\n",
      "\n",
      "Best val_accuracy So Far: 0.8644999861717224\n",
      "Total elapsed time: 00h 05m 39s\n"
     ]
    }
   ],
   "source": [
    "random_search_tuner = kt.RandomSearch( #select search algorithm\n",
    "    build_model, objective=\"val_accuracy\", max_trials=5, overwrite=True,\n",
    "    directory=\"my_fashion_mnist\", project_name=\"my_rnd_search\", seed=42)\n",
    "random_search_tuner.search(X_train, y_train, epochs=10,\n",
    "                           validation_data=(X_valid, y_valid))"
   ]
  },
  {
   "cell_type": "code",
   "execution_count": 34,
   "id": "cb19ffa0-d5fe-4bee-adb6-c944b562b2b9",
   "metadata": {},
   "outputs": [
    {
     "name": "stderr",
     "output_type": "stream",
     "text": [
      "C:\\Users\\vagelis\\anaconda3\\envs\\MLenv\\Lib\\site-packages\\keras\\src\\saving\\saving_lib.py:757: UserWarning: Skipping variable loading for optimizer 'adam', because it has 2 variables whereas the saved optimizer has 14 variables. \n",
      "  saveable.load_own_variables(weights_store.get(inner_path))\n"
     ]
    },
    {
     "data": {
      "text/plain": [
       "<Sequential name=sequential, built=True>"
      ]
     },
     "execution_count": 34,
     "metadata": {},
     "output_type": "execute_result"
    }
   ],
   "source": [
    "top3_models = random_search_tuner.get_best_models(num_models=3)\n",
    "best_model = top3_models[0];best_model"
   ]
  },
  {
   "cell_type": "code",
   "execution_count": 35,
   "id": "900410ef-2698-41ed-94eb-38f0db76ffc1",
   "metadata": {},
   "outputs": [
    {
     "name": "stdout",
     "output_type": "stream",
     "text": [
      "<Sequential name=sequential, built=True>\n",
      "<Sequential name=sequential, built=True>\n",
      "<Sequential name=sequential, built=True>\n"
     ]
    }
   ],
   "source": [
    "for model in top3_models:\n",
    "    print(model)                    #best model sequential"
   ]
  },
  {
   "cell_type": "code",
   "execution_count": 45,
   "id": "58560143-a0b9-4386-9e84-03c70bcf5de3",
   "metadata": {},
   "outputs": [
    {
     "data": {
      "text/plain": [
       "[<keras_tuner.src.engine.trial.Trial at 0x24d7f03b290>,\n",
       " <keras_tuner.src.engine.trial.Trial at 0x24d7f6cecd0>,\n",
       " <keras_tuner.src.engine.trial.Trial at 0x24d7f69f650>,\n",
       " <keras_tuner.src.engine.trial.Trial at 0x24d7f679c50>,\n",
       " <keras_tuner.src.engine.trial.Trial at 0x24d1dd40c10>]"
      ]
     },
     "execution_count": 45,
     "metadata": {},
     "output_type": "execute_result"
    }
   ],
   "source": [
    "best_trial = random_search_tuner.oracle.get_best_trials(num_trials=5);best_trial"
   ]
  },
  {
   "cell_type": "code",
   "execution_count": 56,
   "id": "ff4814f4-095a-4cba-8a90-f61a43498582",
   "metadata": {
    "collapsed": true,
    "jupyter": {
     "outputs_hidden": true
    }
   },
   "outputs": [
    {
     "name": "stdout",
     "output_type": "stream",
     "text": [
      "Trial 3 summary\n",
      "Hyperparameters:\n",
      "n_hidden: 5\n",
      "n_neurons: 37\n",
      "learning_rate: 0.008547485565344062\n",
      "optimizer: sgd\n",
      "Score: 0.8644999861717224\n",
      "None\n",
      "Trial 2 summary\n",
      "Hyperparameters:\n",
      "n_hidden: 2\n",
      "n_neurons: 74\n",
      "learning_rate: 0.00905127409782462\n",
      "optimizer: adam\n",
      "Score: 0.8549000024795532\n",
      "None\n",
      "Trial 1 summary\n",
      "Hyperparameters:\n",
      "n_hidden: 5\n",
      "n_neurons: 100\n",
      "learning_rate: 0.0012482904754698163\n",
      "optimizer: sgd\n",
      "Score: 0.8264999985694885\n",
      "None\n",
      "Trial 0 summary\n",
      "Hyperparameters:\n",
      "n_hidden: 3\n",
      "n_neurons: 25\n",
      "learning_rate: 0.0006562536901904111\n",
      "optimizer: sgd\n",
      "Score: 0.7741000056266785\n",
      "None\n",
      "Trial 4 summary\n",
      "Hyperparameters:\n",
      "n_hidden: 3\n",
      "n_neurons: 70\n",
      "learning_rate: 0.00041268008323824807\n",
      "optimizer: sgd\n",
      "Score: 0.7664999961853027\n",
      "None\n"
     ]
    }
   ],
   "source": [
    "for trial in range(len(best_trial)):\n",
    "    print(best_trial[trial].summary()) #we check 5 trial best trial is the first"
   ]
  },
  {
   "cell_type": "code",
   "execution_count": 64,
   "id": "a20c35ec-8fec-461d-b959-2b31a060cc3d",
   "metadata": {},
   "outputs": [
    {
     "name": "stdout",
     "output_type": "stream",
     "text": [
      "Trial 3 summary\n",
      "Hyperparameters:\n",
      "n_hidden: 5\n",
      "n_neurons: 37\n",
      "learning_rate: 0.008547485565344062\n",
      "optimizer: sgd\n",
      "Score: 0.8644999861717224\n"
     ]
    }
   ],
   "source": [
    "best_trial[0].summary()"
   ]
  },
  {
   "cell_type": "code",
   "execution_count": 39,
   "id": "7a562b59-76fb-4a12-a133-9abe6f559f50",
   "metadata": {},
   "outputs": [
    {
     "name": "stderr",
     "output_type": "stream",
     "text": [
      "C:\\Users\\vagelis\\anaconda3\\envs\\MLenv\\Lib\\site-packages\\keras\\src\\layers\\reshaping\\flatten.py:37: UserWarning: Do not pass an `input_shape`/`input_dim` argument to a layer. When using Sequential models, prefer using an `Input(shape)` object as the first layer in the model instead.\n",
      "  super().__init__(**kwargs)\n"
     ]
    }
   ],
   "source": [
    "\n",
    "tf.random.set_seed(42)\n",
    "model = Sequential([\n",
    "    Flatten(input_shape=[28, 28]),  # Flatten the 28x28 images into a 1D vector with 784 features\n",
    "    Dense(128, activation='relu'), \n",
    "    Dense(64, activation='relu'),\n",
    "    Dense(32, activation='relu'),\n",
    "    Dense(32, activation='relu'),\n",
    "    Dense(32, activation='relu'),   \n",
    "    Dense(10, activation='softmax') # Output layer for multiclass classification (10 classes)\n",
    "])"
   ]
  },
  {
   "cell_type": "code",
   "execution_count": 40,
   "id": "97bb0487-650a-4e11-95ed-24519c0f3dd7",
   "metadata": {},
   "outputs": [],
   "source": [
    "model.compile(\n",
    "    optimizer=SGD(learning_rate=0.0085),  \n",
    "    loss='sparse_categorical_crossentropy',  # Loss function for multiclass classification\n",
    "    metrics=['accuracy']  \n",
    ")"
   ]
  },
  {
   "cell_type": "code",
   "execution_count": 67,
   "id": "f3cef121-5ca5-4d83-93c6-e062ac20ba91",
   "metadata": {},
   "outputs": [
    {
     "data": {
      "text/html": [
       "<pre style=\"white-space:pre;overflow-x:auto;line-height:normal;font-family:Menlo,'DejaVu Sans Mono',consolas,'Courier New',monospace\"><span style=\"font-weight: bold\">Model: \"sequential_1\"</span>\n",
       "</pre>\n"
      ],
      "text/plain": [
       "\u001b[1mModel: \"sequential_1\"\u001b[0m\n"
      ]
     },
     "metadata": {},
     "output_type": "display_data"
    },
    {
     "data": {
      "text/html": [
       "<pre style=\"white-space:pre;overflow-x:auto;line-height:normal;font-family:Menlo,'DejaVu Sans Mono',consolas,'Courier New',monospace\">┏━━━━━━━━━━━━━━━━━━━━━━━━━━━━━━━━━━━━━━┳━━━━━━━━━━━━━━━━━━━━━━━━━━━━━┳━━━━━━━━━━━━━━━━━┓\n",
       "┃<span style=\"font-weight: bold\"> Layer (type)                         </span>┃<span style=\"font-weight: bold\"> Output Shape                </span>┃<span style=\"font-weight: bold\">         Param # </span>┃\n",
       "┡━━━━━━━━━━━━━━━━━━━━━━━━━━━━━━━━━━━━━━╇━━━━━━━━━━━━━━━━━━━━━━━━━━━━━╇━━━━━━━━━━━━━━━━━┩\n",
       "│ flatten_1 (<span style=\"color: #0087ff; text-decoration-color: #0087ff\">Flatten</span>)                  │ (<span style=\"color: #00d7ff; text-decoration-color: #00d7ff\">None</span>, <span style=\"color: #00af00; text-decoration-color: #00af00\">784</span>)                 │               <span style=\"color: #00af00; text-decoration-color: #00af00\">0</span> │\n",
       "├──────────────────────────────────────┼─────────────────────────────┼─────────────────┤\n",
       "│ dense_6 (<span style=\"color: #0087ff; text-decoration-color: #0087ff\">Dense</span>)                      │ (<span style=\"color: #00d7ff; text-decoration-color: #00d7ff\">None</span>, <span style=\"color: #00af00; text-decoration-color: #00af00\">128</span>)                 │         <span style=\"color: #00af00; text-decoration-color: #00af00\">100,480</span> │\n",
       "├──────────────────────────────────────┼─────────────────────────────┼─────────────────┤\n",
       "│ dense_7 (<span style=\"color: #0087ff; text-decoration-color: #0087ff\">Dense</span>)                      │ (<span style=\"color: #00d7ff; text-decoration-color: #00d7ff\">None</span>, <span style=\"color: #00af00; text-decoration-color: #00af00\">64</span>)                  │           <span style=\"color: #00af00; text-decoration-color: #00af00\">8,256</span> │\n",
       "├──────────────────────────────────────┼─────────────────────────────┼─────────────────┤\n",
       "│ dense_8 (<span style=\"color: #0087ff; text-decoration-color: #0087ff\">Dense</span>)                      │ (<span style=\"color: #00d7ff; text-decoration-color: #00d7ff\">None</span>, <span style=\"color: #00af00; text-decoration-color: #00af00\">32</span>)                  │           <span style=\"color: #00af00; text-decoration-color: #00af00\">2,080</span> │\n",
       "├──────────────────────────────────────┼─────────────────────────────┼─────────────────┤\n",
       "│ dense_9 (<span style=\"color: #0087ff; text-decoration-color: #0087ff\">Dense</span>)                      │ (<span style=\"color: #00d7ff; text-decoration-color: #00d7ff\">None</span>, <span style=\"color: #00af00; text-decoration-color: #00af00\">32</span>)                  │           <span style=\"color: #00af00; text-decoration-color: #00af00\">1,056</span> │\n",
       "├──────────────────────────────────────┼─────────────────────────────┼─────────────────┤\n",
       "│ dense_10 (<span style=\"color: #0087ff; text-decoration-color: #0087ff\">Dense</span>)                     │ (<span style=\"color: #00d7ff; text-decoration-color: #00d7ff\">None</span>, <span style=\"color: #00af00; text-decoration-color: #00af00\">32</span>)                  │           <span style=\"color: #00af00; text-decoration-color: #00af00\">1,056</span> │\n",
       "├──────────────────────────────────────┼─────────────────────────────┼─────────────────┤\n",
       "│ dense_11 (<span style=\"color: #0087ff; text-decoration-color: #0087ff\">Dense</span>)                     │ (<span style=\"color: #00d7ff; text-decoration-color: #00d7ff\">None</span>, <span style=\"color: #00af00; text-decoration-color: #00af00\">10</span>)                  │             <span style=\"color: #00af00; text-decoration-color: #00af00\">330</span> │\n",
       "└──────────────────────────────────────┴─────────────────────────────┴─────────────────┘\n",
       "</pre>\n"
      ],
      "text/plain": [
       "┏━━━━━━━━━━━━━━━━━━━━━━━━━━━━━━━━━━━━━━┳━━━━━━━━━━━━━━━━━━━━━━━━━━━━━┳━━━━━━━━━━━━━━━━━┓\n",
       "┃\u001b[1m \u001b[0m\u001b[1mLayer (type)                        \u001b[0m\u001b[1m \u001b[0m┃\u001b[1m \u001b[0m\u001b[1mOutput Shape               \u001b[0m\u001b[1m \u001b[0m┃\u001b[1m \u001b[0m\u001b[1m        Param #\u001b[0m\u001b[1m \u001b[0m┃\n",
       "┡━━━━━━━━━━━━━━━━━━━━━━━━━━━━━━━━━━━━━━╇━━━━━━━━━━━━━━━━━━━━━━━━━━━━━╇━━━━━━━━━━━━━━━━━┩\n",
       "│ flatten_1 (\u001b[38;5;33mFlatten\u001b[0m)                  │ (\u001b[38;5;45mNone\u001b[0m, \u001b[38;5;34m784\u001b[0m)                 │               \u001b[38;5;34m0\u001b[0m │\n",
       "├──────────────────────────────────────┼─────────────────────────────┼─────────────────┤\n",
       "│ dense_6 (\u001b[38;5;33mDense\u001b[0m)                      │ (\u001b[38;5;45mNone\u001b[0m, \u001b[38;5;34m128\u001b[0m)                 │         \u001b[38;5;34m100,480\u001b[0m │\n",
       "├──────────────────────────────────────┼─────────────────────────────┼─────────────────┤\n",
       "│ dense_7 (\u001b[38;5;33mDense\u001b[0m)                      │ (\u001b[38;5;45mNone\u001b[0m, \u001b[38;5;34m64\u001b[0m)                  │           \u001b[38;5;34m8,256\u001b[0m │\n",
       "├──────────────────────────────────────┼─────────────────────────────┼─────────────────┤\n",
       "│ dense_8 (\u001b[38;5;33mDense\u001b[0m)                      │ (\u001b[38;5;45mNone\u001b[0m, \u001b[38;5;34m32\u001b[0m)                  │           \u001b[38;5;34m2,080\u001b[0m │\n",
       "├──────────────────────────────────────┼─────────────────────────────┼─────────────────┤\n",
       "│ dense_9 (\u001b[38;5;33mDense\u001b[0m)                      │ (\u001b[38;5;45mNone\u001b[0m, \u001b[38;5;34m32\u001b[0m)                  │           \u001b[38;5;34m1,056\u001b[0m │\n",
       "├──────────────────────────────────────┼─────────────────────────────┼─────────────────┤\n",
       "│ dense_10 (\u001b[38;5;33mDense\u001b[0m)                     │ (\u001b[38;5;45mNone\u001b[0m, \u001b[38;5;34m32\u001b[0m)                  │           \u001b[38;5;34m1,056\u001b[0m │\n",
       "├──────────────────────────────────────┼─────────────────────────────┼─────────────────┤\n",
       "│ dense_11 (\u001b[38;5;33mDense\u001b[0m)                     │ (\u001b[38;5;45mNone\u001b[0m, \u001b[38;5;34m10\u001b[0m)                  │             \u001b[38;5;34m330\u001b[0m │\n",
       "└──────────────────────────────────────┴─────────────────────────────┴─────────────────┘\n"
      ]
     },
     "metadata": {},
     "output_type": "display_data"
    },
    {
     "data": {
      "text/html": [
       "<pre style=\"white-space:pre;overflow-x:auto;line-height:normal;font-family:Menlo,'DejaVu Sans Mono',consolas,'Courier New',monospace\"><span style=\"font-weight: bold\"> Total params: </span><span style=\"color: #00af00; text-decoration-color: #00af00\">113,258</span> (442.41 KB)\n",
       "</pre>\n"
      ],
      "text/plain": [
       "\u001b[1m Total params: \u001b[0m\u001b[38;5;34m113,258\u001b[0m (442.41 KB)\n"
      ]
     },
     "metadata": {},
     "output_type": "display_data"
    },
    {
     "data": {
      "text/html": [
       "<pre style=\"white-space:pre;overflow-x:auto;line-height:normal;font-family:Menlo,'DejaVu Sans Mono',consolas,'Courier New',monospace\"><span style=\"font-weight: bold\"> Trainable params: </span><span style=\"color: #00af00; text-decoration-color: #00af00\">113,258</span> (442.41 KB)\n",
       "</pre>\n"
      ],
      "text/plain": [
       "\u001b[1m Trainable params: \u001b[0m\u001b[38;5;34m113,258\u001b[0m (442.41 KB)\n"
      ]
     },
     "metadata": {},
     "output_type": "display_data"
    },
    {
     "data": {
      "text/html": [
       "<pre style=\"white-space:pre;overflow-x:auto;line-height:normal;font-family:Menlo,'DejaVu Sans Mono',consolas,'Courier New',monospace\"><span style=\"font-weight: bold\"> Non-trainable params: </span><span style=\"color: #00af00; text-decoration-color: #00af00\">0</span> (0.00 B)\n",
       "</pre>\n"
      ],
      "text/plain": [
       "\u001b[1m Non-trainable params: \u001b[0m\u001b[38;5;34m0\u001b[0m (0.00 B)\n"
      ]
     },
     "metadata": {},
     "output_type": "display_data"
    }
   ],
   "source": [
    "model.summary()\n"
   ]
  },
  {
   "cell_type": "code",
   "execution_count": 41,
   "id": "75337216-0282-4f46-a0e7-aa8ca2dcd203",
   "metadata": {
    "scrolled": true
   },
   "outputs": [
    {
     "name": "stdout",
     "output_type": "stream",
     "text": [
      "Epoch 1/10\n",
      "\u001b[1m1563/1563\u001b[0m \u001b[32m━━━━━━━━━━━━━━━━━━━━\u001b[0m\u001b[37m\u001b[0m \u001b[1m10s\u001b[0m 5ms/step - accuracy: 0.4989 - loss: 1.5124 - val_accuracy: 0.7752 - val_loss: 0.6344\n",
      "Epoch 2/10\n",
      "\u001b[1m1563/1563\u001b[0m \u001b[32m━━━━━━━━━━━━━━━━━━━━\u001b[0m\u001b[37m\u001b[0m \u001b[1m6s\u001b[0m 4ms/step - accuracy: 0.7973 - loss: 0.5680 - val_accuracy: 0.8132 - val_loss: 0.5295\n",
      "Epoch 3/10\n",
      "\u001b[1m1563/1563\u001b[0m \u001b[32m━━━━━━━━━━━━━━━━━━━━\u001b[0m\u001b[37m\u001b[0m \u001b[1m6s\u001b[0m 4ms/step - accuracy: 0.8287 - loss: 0.4806 - val_accuracy: 0.8267 - val_loss: 0.4907\n",
      "Epoch 4/10\n",
      "\u001b[1m1563/1563\u001b[0m \u001b[32m━━━━━━━━━━━━━━━━━━━━\u001b[0m\u001b[37m\u001b[0m \u001b[1m7s\u001b[0m 4ms/step - accuracy: 0.8416 - loss: 0.4379 - val_accuracy: 0.8353 - val_loss: 0.4589\n",
      "Epoch 5/10\n",
      "\u001b[1m1563/1563\u001b[0m \u001b[32m━━━━━━━━━━━━━━━━━━━━\u001b[0m\u001b[37m\u001b[0m \u001b[1m7s\u001b[0m 4ms/step - accuracy: 0.8515 - loss: 0.4098 - val_accuracy: 0.8408 - val_loss: 0.4422\n",
      "Epoch 6/10\n",
      "\u001b[1m1563/1563\u001b[0m \u001b[32m━━━━━━━━━━━━━━━━━━━━\u001b[0m\u001b[37m\u001b[0m \u001b[1m6s\u001b[0m 4ms/step - accuracy: 0.8607 - loss: 0.3884 - val_accuracy: 0.8466 - val_loss: 0.4232\n",
      "Epoch 7/10\n",
      "\u001b[1m1563/1563\u001b[0m \u001b[32m━━━━━━━━━━━━━━━━━━━━\u001b[0m\u001b[37m\u001b[0m \u001b[1m11s\u001b[0m 5ms/step - accuracy: 0.8669 - loss: 0.3713 - val_accuracy: 0.8532 - val_loss: 0.4072\n",
      "Epoch 8/10\n",
      "\u001b[1m1563/1563\u001b[0m \u001b[32m━━━━━━━━━━━━━━━━━━━━\u001b[0m\u001b[37m\u001b[0m \u001b[1m7s\u001b[0m 4ms/step - accuracy: 0.8719 - loss: 0.3568 - val_accuracy: 0.8564 - val_loss: 0.3964\n",
      "Epoch 9/10\n",
      "\u001b[1m1563/1563\u001b[0m \u001b[32m━━━━━━━━━━━━━━━━━━━━\u001b[0m\u001b[37m\u001b[0m \u001b[1m7s\u001b[0m 4ms/step - accuracy: 0.8764 - loss: 0.3443 - val_accuracy: 0.8603 - val_loss: 0.3867\n",
      "Epoch 10/10\n",
      "\u001b[1m1563/1563\u001b[0m \u001b[32m━━━━━━━━━━━━━━━━━━━━\u001b[0m\u001b[37m\u001b[0m \u001b[1m7s\u001b[0m 4ms/step - accuracy: 0.8804 - loss: 0.3333 - val_accuracy: 0.8619 - val_loss: 0.3795\n"
     ]
    }
   ],
   "source": [
    "h=model.fit(X_train, y_train, epochs=10, batch_size=32, validation_data=(X_valid, y_valid))"
   ]
  },
  {
   "cell_type": "code",
   "execution_count": 94,
   "id": "b7caf05f-4c62-4787-98c1-8d7e9a14b026",
   "metadata": {},
   "outputs": [
    {
     "name": "stderr",
     "output_type": "stream",
     "text": [
      "WARNING:absl:You are saving your model as an HDF5 file via `model.save()` or `keras.saving.save_model(model)`. This file format is considered legacy. We recommend using instead the native Keras format, e.g. `model.save('my_model.keras')` or `keras.saving.save_model(model, 'my_model.keras')`. \n"
     ]
    }
   ],
   "source": [
    "import os.path\n",
    "if os.path.isfile('models/medical_trial_model.h5') is False:\n",
    "    model.save('models/medical_trial_model.h5')\n",
    "    "
   ]
  },
  {
   "cell_type": "code",
   "execution_count": 1,
   "id": "57ceabe3-18c1-402e-b9c5-38635a5aa540",
   "metadata": {},
   "outputs": [
    {
     "name": "stderr",
     "output_type": "stream",
     "text": [
      "WARNING:absl:Compiled the loaded model, but the compiled metrics have yet to be built. `model.compile_metrics` will be empty until you train or evaluate the model.\n"
     ]
    }
   ],
   "source": [
    "from tensorflow.keras.models import load_model\n",
    "new_model = load_model('models/medical_trial_model.h5')"
   ]
  },
  {
   "cell_type": "code",
   "execution_count": 98,
   "id": "504b1e3e-72a1-42ea-85b6-e6b11cb6f61f",
   "metadata": {
    "collapsed": true,
    "jupyter": {
     "outputs_hidden": true
    }
   },
   "outputs": [
    {
     "data": {
      "text/plain": [
       "[array([[-0.05688054, -0.07757661,  0.0785725 , ...,  0.01353372,\n",
       "         -0.00376073, -0.03512138],\n",
       "        [ 0.07461815, -0.04802269, -0.05150626, ..., -0.00398173,\n",
       "         -0.07604922,  0.08140436],\n",
       "        [-0.00593132,  0.06110356, -0.0196644 , ...,  0.05341588,\n",
       "          0.05229332, -0.01372716],\n",
       "        ...,\n",
       "        [-0.06558347,  0.00550046,  0.06375263, ..., -0.00835241,\n",
       "          0.02325862, -0.05864608],\n",
       "        [ 0.02679791, -0.06797379,  0.05323991, ...,  0.07908835,\n",
       "          0.04088614, -0.05393549],\n",
       "        [-0.0724373 ,  0.03328717, -0.04304864, ...,  0.06019454,\n",
       "          0.0767037 ,  0.02953889]], dtype=float32),\n",
       " array([ 0.24498217,  0.06350803,  0.21340787,  0.09387549,  0.23288228,\n",
       "         0.00563084, -0.00166347,  0.03482864, -0.0557585 ,  0.17021973,\n",
       "         0.177767  ,  0.16656432,  0.08729321,  0.16979697,  0.02518999,\n",
       "        -0.02001357,  0.06830973,  0.01334275, -0.01539711,  0.01412653,\n",
       "        -0.06727692, -0.00124809, -0.01148245,  0.09316356,  0.00380552,\n",
       "         0.29145512,  0.01601742, -0.08697322,  0.09388725,  0.1745992 ,\n",
       "         0.14867443,  0.04255964,  0.07129008,  0.12809071,  0.10875472,\n",
       "         0.17176636,  0.13866077,  0.00064204,  0.05196938,  0.25057116,\n",
       "        -0.22590785,  0.13683502, -0.02097704, -0.02185226, -0.00870686,\n",
       "        -0.06997189, -0.22314245, -0.04136133,  0.109555  , -0.05148514,\n",
       "         0.12615028,  0.18814734, -0.00502517, -0.1569121 ,  0.05983064,\n",
       "         0.10908723,  0.05476951,  0.06611455,  0.32234153,  0.13080616,\n",
       "         0.17408448,  0.03578948,  0.25126132,  0.10925114, -0.04292728,\n",
       "        -0.02447514,  0.17047912,  0.06466462, -0.09927621, -0.04110384,\n",
       "         0.12190372,  0.04654535, -0.03251372, -0.05969859,  0.05719674,\n",
       "         0.08326669,  0.00421253, -0.01071575,  0.11370081, -0.05112144,\n",
       "        -0.10553448,  0.13423222,  0.29049385,  0.11803991, -0.00231487,\n",
       "         0.14945371, -0.02314553,  0.02774333, -0.10932453, -0.06238946,\n",
       "        -0.09246544,  0.17615311,  0.02128021,  0.2667527 ,  0.18614869,\n",
       "         0.03036877, -0.05191674,  0.06486028,  0.00477641, -0.0776315 ,\n",
       "         0.0666455 , -0.11425884, -0.05955939,  0.15503377, -0.06369881,\n",
       "        -0.08992407, -0.097545  ,  0.12269928,  0.18998091,  0.19415866,\n",
       "        -0.08297805, -0.01318775,  0.01921149,  0.03253352, -0.02418779,\n",
       "         0.08347391,  0.0084488 ,  0.11076099,  0.05429366,  0.14344431,\n",
       "         0.04855379,  0.10018488,  0.15192078, -0.02303916,  0.16799045,\n",
       "         0.05296445, -0.02967634, -0.04294857], dtype=float32),\n",
       " array([[-0.13251117,  0.2098571 , -0.08710651, ..., -0.07898106,\n",
       "         -0.1762895 ,  0.12279265],\n",
       "        [-0.17943543, -0.05017938, -0.18349591, ...,  0.0707774 ,\n",
       "          0.06487209, -0.04671275],\n",
       "        [-0.01522617,  0.10107708, -0.02757409, ..., -0.2118591 ,\n",
       "          0.1614416 ,  0.071996  ],\n",
       "        ...,\n",
       "        [ 0.09732981,  0.20361947,  0.06606175, ...,  0.03219355,\n",
       "          0.1722583 , -0.03702555],\n",
       "        [ 0.11252113, -0.17266937,  0.09692443, ..., -0.16634308,\n",
       "         -0.15316373,  0.12920737],\n",
       "        [-0.0002204 ,  0.16170135,  0.20435412, ..., -0.11247381,\n",
       "          0.08380027, -0.02502842]], dtype=float32),\n",
       " array([ 0.11332648,  0.04857274, -0.03510964,  0.03474084,  0.20229146,\n",
       "        -0.00862556, -0.0837751 ,  0.01257347, -0.02241671,  0.09852901,\n",
       "        -0.09607051, -0.00445968, -0.00606654,  0.05774185, -0.07660243,\n",
       "         0.08153354,  0.10152803,  0.2706118 ,  0.07523929,  0.11404982,\n",
       "        -0.02038424,  0.14778514,  0.05961965,  0.06650439,  0.19103171,\n",
       "         0.12249469,  0.01853205,  0.03109399, -0.01068249,  0.15145673,\n",
       "         0.02449493, -0.03047974, -0.04869725,  0.07347443,  0.07268219,\n",
       "         0.17699835, -0.02912155,  0.05548001, -0.00271199,  0.11155615,\n",
       "         0.22690229, -0.0110283 ,  0.11197654,  0.11312425, -0.06543048,\n",
       "         0.06204091,  0.05947464,  0.05235123,  0.26489958,  0.18475586,\n",
       "        -0.00393076,  0.0397467 ,  0.03252986,  0.12457549,  0.01433594,\n",
       "         0.06412553,  0.03244454,  0.02528069,  0.08852409,  0.15826744,\n",
       "         0.00890802, -0.01499808, -0.01850261,  0.07550948], dtype=float32),\n",
       " array([[ 0.20278603,  0.31661204, -0.18018606, ..., -0.2448584 ,\n",
       "         -0.14712742,  0.14119141],\n",
       "        [ 0.11349163,  0.39414638, -0.0680432 , ..., -0.05512745,\n",
       "          0.15266572,  0.0207004 ],\n",
       "        [-0.18525535, -0.18333648,  0.07075178, ..., -0.21787713,\n",
       "          0.01811876,  0.20157082],\n",
       "        ...,\n",
       "        [ 0.33571422, -0.2085622 , -0.22948779, ..., -0.01866218,\n",
       "          0.00372124, -0.11839519],\n",
       "        [-0.08927135, -0.263829  , -0.10677085, ..., -0.13868167,\n",
       "         -0.07050534,  0.05972536],\n",
       "        [-0.37970024, -0.04454436,  0.05872884, ...,  0.12251066,\n",
       "          0.0382237 ,  0.23534483]], dtype=float32),\n",
       " array([ 0.11090874,  0.26968977,  0.03368792, -0.00721122,  0.16178057,\n",
       "        -0.02657626,  0.22985962,  0.26138064,  0.10523969,  0.08807091,\n",
       "        -0.03958687,  0.16357604,  0.24205442,  0.10548712,  0.09083134,\n",
       "        -0.00383905, -0.00358065,  0.15336448, -0.13335305, -0.00386588,\n",
       "         0.04842499, -0.00574961,  0.01010681, -0.0715251 ,  0.09926129,\n",
       "         0.0004804 , -0.05510953, -0.00393458, -0.01366336, -0.01089557,\n",
       "        -0.00045178,  0.00819734], dtype=float32),\n",
       " array([[-1.0957592e-02, -2.2714964e-01,  4.7320530e-01, ...,\n",
       "         -1.4995408e-01, -3.5479987e-01, -1.4605558e-01],\n",
       "        [-1.5692480e-01, -1.0117575e-02,  3.3272186e-01, ...,\n",
       "         -3.2637778e-01,  3.4365219e-01,  1.7225623e-01],\n",
       "        [-2.2214479e-03,  1.8772718e-01, -8.6779334e-02, ...,\n",
       "         -2.3156472e-01, -2.4628972e-01,  2.1816944e-01],\n",
       "        ...,\n",
       "        [ 2.9428473e-01,  9.5581405e-02,  3.1351159e-05, ...,\n",
       "          9.9094748e-02,  7.6720178e-02,  2.4872574e-01],\n",
       "        [ 2.0592630e-02,  1.6219160e-01, -1.7531307e-01, ...,\n",
       "          1.6612464e-01,  6.9757357e-02,  2.4320701e-01],\n",
       "        [-8.4655806e-02,  9.0652324e-02,  2.7353457e-01, ...,\n",
       "         -2.5784838e-01, -1.1785606e-01,  1.3464487e-01]], dtype=float32),\n",
       " array([-1.7381147e-03,  2.4769740e-02,  8.4668927e-02,  6.4242529e-03,\n",
       "         1.8098480e-01,  1.0362185e-01,  1.2737590e-01,  7.1446739e-02,\n",
       "        -2.3825036e-03,  1.4230517e-01,  1.8333718e-04,  7.4256316e-02,\n",
       "        -2.9782705e-02,  2.4761593e-01, -1.3977169e-01,  1.5651203e-03,\n",
       "         2.4645709e-02,  3.2446366e-02,  2.3052786e-01,  5.1673863e-02,\n",
       "        -5.0639007e-02,  1.1236908e-01,  1.2849548e-01,  8.2756869e-02,\n",
       "         1.5103662e-01,  1.1425908e-02,  1.4428148e-01,  1.8581147e-01,\n",
       "         1.1402516e-01,  7.1042545e-02,  5.1889304e-02,  6.3362066e-03],\n",
       "       dtype=float32),\n",
       " array([[-0.05779821, -0.11585225,  0.05843849, ..., -0.19342971,\n",
       "          0.20751381, -0.23217039],\n",
       "        [-0.08319046, -0.20566367, -0.03933572, ...,  0.01637579,\n",
       "         -0.01506755,  0.26336202],\n",
       "        [-0.05373332, -0.3801876 ,  0.13774921, ...,  0.36471298,\n",
       "          0.31073406, -0.18353161],\n",
       "        ...,\n",
       "        [ 0.01869965, -0.00765652,  0.17610362, ...,  0.0365566 ,\n",
       "         -0.14820094, -0.09445421],\n",
       "        [ 0.09524222, -0.43211424, -0.01689397, ..., -0.15105683,\n",
       "          0.48234043,  0.08935507],\n",
       "        [ 0.30596182,  0.17201154, -0.05838497, ...,  0.27779564,\n",
       "         -0.18243846,  0.28153244]], dtype=float32),\n",
       " array([ 0.05665083, -0.03038175, -0.03929786,  0.19907576,  0.05150237,\n",
       "         0.10547078,  0.1554882 ,  0.06603488,  0.00020203, -0.03436787,\n",
       "         0.00131839,  0.02235421,  0.03347582,  0.00529555, -0.04967643,\n",
       "         0.10213429,  0.04558522,  0.01245169,  0.01770779,  0.00863602,\n",
       "         0.00045189,  0.06330942,  0.0859732 , -0.0475011 , -0.00731461,\n",
       "        -0.00329204, -0.00910664,  0.00033869,  0.13455345,  0.03167832,\n",
       "         0.10073972, -0.0009178 ], dtype=float32),\n",
       " array([[-4.38397139e-01, -3.87283862e-01,  2.69915052e-02,\n",
       "          1.30618393e-01,  4.27625597e-01,  5.19067168e-01,\n",
       "          1.01380229e-01, -3.05618435e-01, -3.94560754e-01,\n",
       "          6.12701774e-01],\n",
       "        [ 5.57350814e-02, -3.31441820e-01, -5.65755546e-01,\n",
       "         -2.08690926e-01, -1.57384455e-01, -9.55292061e-02,\n",
       "          7.52569795e-01,  1.58255339e-01,  1.09150894e-01,\n",
       "         -1.80256262e-01],\n",
       "        [ 1.26131967e-01,  2.62475967e-01,  1.79776520e-01,\n",
       "          6.60604775e-01,  8.10582519e-01, -6.75250471e-01,\n",
       "          6.82738781e-01, -8.47963274e-01,  2.91258961e-01,\n",
       "         -3.01847517e-01],\n",
       "        [-2.09844142e-01, -4.71621782e-01,  3.97163749e-01,\n",
       "         -7.44879127e-01, -4.23808783e-01,  8.51697862e-01,\n",
       "          7.79401511e-02,  3.78315359e-01,  1.03944980e-01,\n",
       "         -4.88649607e-02],\n",
       "        [-4.95750666e-01, -6.59040034e-01,  2.04032794e-01,\n",
       "          1.55718908e-01, -7.63341337e-02,  4.21571851e-01,\n",
       "         -3.34801555e-01, -2.79976070e-01,  1.10022381e-01,\n",
       "          7.15342991e-04],\n",
       "        [ 6.73041165e-01,  5.94237685e-01, -4.87107098e-01,\n",
       "         -3.64472717e-02, -4.55579251e-01,  2.14333102e-01,\n",
       "         -4.14757818e-01,  5.55696964e-01, -4.97010276e-02,\n",
       "          1.56171113e-01],\n",
       "        [-1.80343181e-01, -3.83629739e-01, -2.37635866e-01,\n",
       "          6.96730375e-01,  2.10527182e-01,  4.89060372e-01,\n",
       "          2.91900516e-01, -4.98737618e-02, -4.00032014e-01,\n",
       "         -4.00346100e-01],\n",
       "        [-4.70199257e-01,  8.11665177e-01, -1.71851158e-01,\n",
       "         -3.07110459e-01, -2.59996504e-01,  1.01484425e-01,\n",
       "          2.38558933e-01, -2.77025104e-01,  4.10002749e-03,\n",
       "         -2.92223454e-01],\n",
       "        [ 2.08243147e-01, -2.34563187e-01, -3.13964933e-01,\n",
       "         -3.21294427e-01, -3.69407475e-01,  3.22318375e-01,\n",
       "         -3.25107783e-01, -8.92684422e-03,  1.84555456e-01,\n",
       "         -1.70764133e-01],\n",
       "        [-2.06814781e-01,  3.75496864e-01, -6.42699957e-01,\n",
       "          3.18438590e-01,  1.10993229e-01, -4.94884074e-01,\n",
       "         -8.48064840e-01,  4.59159344e-01,  5.80256820e-01,\n",
       "          5.00713706e-01],\n",
       "        [-2.96690255e-01,  5.69875956e-01,  4.30101335e-01,\n",
       "          8.07041302e-02, -2.65457332e-01, -5.48804224e-01,\n",
       "         -4.47369874e-01, -9.27340314e-02,  4.29589331e-01,\n",
       "          2.41844997e-01],\n",
       "        [ 7.15140283e-01, -2.28269085e-01,  5.72246969e-01,\n",
       "          5.34273833e-02, -2.51936495e-01, -1.86036993e-02,\n",
       "          5.37152231e-01,  9.86759439e-02,  5.73253155e-01,\n",
       "         -4.48556900e-01],\n",
       "        [-1.03881553e-01,  2.56367534e-01,  6.65058851e-01,\n",
       "         -5.07899344e-01,  6.77421808e-01, -3.07087928e-01,\n",
       "         -4.98626709e-01, -3.07260543e-01,  3.86817637e-03,\n",
       "         -1.72296435e-01],\n",
       "        [ 4.99729365e-01, -4.96245891e-01,  7.25323915e-01,\n",
       "         -6.78075850e-01,  6.66251302e-01, -1.00221775e-01,\n",
       "          6.67020202e-01, -7.34322131e-01, -6.85404390e-02,\n",
       "         -6.01884397e-03],\n",
       "        [ 4.09778766e-02,  2.17795566e-01, -1.73665926e-01,\n",
       "         -2.46478111e-01,  2.79512942e-01,  4.52007473e-01,\n",
       "         -1.56688392e-01, -5.23160517e-01,  2.83100337e-01,\n",
       "          2.61410743e-01],\n",
       "        [ 7.63842642e-01, -2.28111103e-01, -2.55186141e-01,\n",
       "          7.06179082e-01, -3.33215535e-01, -5.24155200e-01,\n",
       "         -2.79513717e-01, -1.80687279e-01, -5.30390143e-01,\n",
       "         -3.11854303e-01],\n",
       "        [ 5.22593081e-01,  8.61127973e-01, -1.17363371e-01,\n",
       "         -4.76527750e-01, -2.54025847e-01, -3.69532675e-01,\n",
       "          2.93147832e-01,  1.42662317e-01, -8.27935040e-01,\n",
       "          3.59314561e-01],\n",
       "        [-1.95723429e-01, -3.31489027e-01,  1.15947679e-01,\n",
       "          1.99040651e-01, -2.51689732e-01,  3.25495750e-01,\n",
       "          1.37348488e-01,  1.43374354e-01,  2.37080783e-01,\n",
       "         -3.72683585e-01],\n",
       "        [ 1.88067090e-02, -6.84996620e-02, -2.81063113e-02,\n",
       "          1.18335515e-01,  2.86303431e-01, -2.71949023e-01,\n",
       "         -3.76154929e-01,  2.69213803e-02, -7.38173500e-02,\n",
       "          1.77145079e-01],\n",
       "        [ 1.81268245e-01,  2.71400303e-01,  1.11226611e-01,\n",
       "          1.30715787e-01, -2.37438112e-01, -2.41233915e-01,\n",
       "          1.72661375e-02,  2.18693212e-01, -5.87224901e-01,\n",
       "          4.88574177e-01],\n",
       "        [-7.82479495e-02, -2.54467010e-01, -6.36333674e-02,\n",
       "         -1.87887356e-01,  2.36899525e-01,  2.67558575e-01,\n",
       "         -2.27536127e-01,  2.56582022e-01,  1.17248908e-01,\n",
       "         -3.17787379e-02],\n",
       "        [-2.06347227e-01, -2.47122243e-01,  1.23398803e-01,\n",
       "         -1.16592437e-01,  5.80009855e-02, -4.91115153e-01,\n",
       "          3.48838568e-02,  5.87893546e-01,  4.45418149e-01,\n",
       "         -4.12799150e-01],\n",
       "        [ 3.15798968e-01,  3.45000662e-02,  1.88860044e-01,\n",
       "          2.08293810e-01, -2.70964235e-01, -6.18018687e-01,\n",
       "         -2.43446864e-02, -2.93415189e-01, -1.44505739e-01,\n",
       "         -3.11387450e-01],\n",
       "        [ 3.38770270e-01, -3.47670227e-01, -3.20269495e-01,\n",
       "          4.31202389e-02,  1.60940304e-01,  4.01203800e-03,\n",
       "          7.09302425e-01, -4.46073651e-01,  5.00999451e-01,\n",
       "          1.98825434e-01],\n",
       "        [ 3.45976532e-01, -3.43893409e-01,  3.37512046e-02,\n",
       "         -1.06571596e-02, -3.45278621e-01,  1.82791978e-01,\n",
       "          1.61770865e-01, -6.64418796e-03,  3.16569060e-01,\n",
       "          6.64495230e-02],\n",
       "        [ 1.11795790e-01, -3.41972187e-02, -4.10552025e-02,\n",
       "         -2.67963618e-01, -4.52133596e-01, -5.70574880e-01,\n",
       "         -1.35011956e-01,  5.78002572e-01, -4.22784537e-01,\n",
       "          8.12854171e-01],\n",
       "        [-1.92036748e-01,  1.09076045e-01,  1.48842961e-01,\n",
       "          4.01104927e-01,  1.86161160e-01, -6.11320324e-02,\n",
       "          5.39053082e-01,  2.29148850e-01, -2.07432285e-01,\n",
       "          1.48424596e-01],\n",
       "        [ 3.26412678e-01,  1.67387769e-01,  5.31043559e-02,\n",
       "         -5.49265966e-02,  1.58899546e-01, -2.28107169e-01,\n",
       "         -5.36717148e-03,  6.04056492e-02,  2.02020347e-01,\n",
       "         -1.40804142e-01],\n",
       "        [-5.01800440e-02, -3.72993499e-01, -5.32977954e-02,\n",
       "         -1.00685462e-01, -1.25184119e-01,  6.22435331e-01,\n",
       "          6.76348984e-01, -4.83327419e-01, -7.74666309e-01,\n",
       "          1.92418005e-02],\n",
       "        [-2.25216225e-02, -3.31955820e-01, -4.43779945e-01,\n",
       "         -1.53934717e-01, -2.18994528e-01,  6.34770632e-01,\n",
       "         -7.06744373e-01,  6.44881427e-01,  6.10885203e-01,\n",
       "         -5.15060544e-01],\n",
       "        [-6.64062679e-01,  5.04647754e-02,  2.16567487e-01,\n",
       "          4.58021641e-01,  2.32966527e-01, -6.04625404e-01,\n",
       "         -2.73853630e-01, -2.31240883e-01, -6.91266179e-01,\n",
       "         -4.44723994e-01],\n",
       "        [-5.65316342e-02, -2.53050178e-02,  4.00960356e-01,\n",
       "         -3.85770090e-02,  3.29605401e-01,  3.29916120e-01,\n",
       "         -4.38629180e-01,  1.49828702e-01, -1.12259865e-01,\n",
       "          3.28919679e-01]], dtype=float32),\n",
       " array([ 0.01747933,  0.02590954,  0.15146345,  0.06099097, -0.12264235,\n",
       "         0.29948863,  0.02303965, -0.02983537, -0.20950833, -0.21637402],\n",
       "       dtype=float32)]"
      ]
     },
     "execution_count": 98,
     "metadata": {},
     "output_type": "execute_result"
    }
   ],
   "source": [
    "model.get_weights()"
   ]
  },
  {
   "cell_type": "code",
   "execution_count": 2,
   "id": "8db4faa1-d147-4a4c-85b3-ef1a7bad22e4",
   "metadata": {
    "collapsed": true,
    "jupyter": {
     "outputs_hidden": true
    }
   },
   "outputs": [
    {
     "data": {
      "text/plain": [
       "[array([[-0.05688054, -0.07757661,  0.0785725 , ...,  0.01353372,\n",
       "         -0.00376073, -0.03512138],\n",
       "        [ 0.07461815, -0.04802269, -0.05150626, ..., -0.00398173,\n",
       "         -0.07604922,  0.08140436],\n",
       "        [-0.00593132,  0.06110356, -0.0196644 , ...,  0.05341588,\n",
       "          0.05229332, -0.01372716],\n",
       "        ...,\n",
       "        [-0.06558347,  0.00550046,  0.06375263, ..., -0.00835241,\n",
       "          0.02325862, -0.05864608],\n",
       "        [ 0.02679791, -0.06797379,  0.05323991, ...,  0.07908835,\n",
       "          0.04088614, -0.05393549],\n",
       "        [-0.0724373 ,  0.03328717, -0.04304864, ...,  0.06019454,\n",
       "          0.0767037 ,  0.02953889]], dtype=float32),\n",
       " array([ 0.24498217,  0.06350803,  0.21340787,  0.09387549,  0.23288228,\n",
       "         0.00563084, -0.00166347,  0.03482864, -0.0557585 ,  0.17021973,\n",
       "         0.177767  ,  0.16656432,  0.08729321,  0.16979697,  0.02518999,\n",
       "        -0.02001357,  0.06830973,  0.01334275, -0.01539711,  0.01412653,\n",
       "        -0.06727692, -0.00124809, -0.01148245,  0.09316356,  0.00380552,\n",
       "         0.29145512,  0.01601742, -0.08697322,  0.09388725,  0.1745992 ,\n",
       "         0.14867443,  0.04255964,  0.07129008,  0.12809071,  0.10875472,\n",
       "         0.17176636,  0.13866077,  0.00064204,  0.05196938,  0.25057116,\n",
       "        -0.22590785,  0.13683502, -0.02097704, -0.02185226, -0.00870686,\n",
       "        -0.06997189, -0.22314245, -0.04136133,  0.109555  , -0.05148514,\n",
       "         0.12615028,  0.18814734, -0.00502517, -0.1569121 ,  0.05983064,\n",
       "         0.10908723,  0.05476951,  0.06611455,  0.32234153,  0.13080616,\n",
       "         0.17408448,  0.03578948,  0.25126132,  0.10925114, -0.04292728,\n",
       "        -0.02447514,  0.17047912,  0.06466462, -0.09927621, -0.04110384,\n",
       "         0.12190372,  0.04654535, -0.03251372, -0.05969859,  0.05719674,\n",
       "         0.08326669,  0.00421253, -0.01071575,  0.11370081, -0.05112144,\n",
       "        -0.10553448,  0.13423222,  0.29049385,  0.11803991, -0.00231487,\n",
       "         0.14945371, -0.02314553,  0.02774333, -0.10932453, -0.06238946,\n",
       "        -0.09246544,  0.17615311,  0.02128021,  0.2667527 ,  0.18614869,\n",
       "         0.03036877, -0.05191674,  0.06486028,  0.00477641, -0.0776315 ,\n",
       "         0.0666455 , -0.11425884, -0.05955939,  0.15503377, -0.06369881,\n",
       "        -0.08992407, -0.097545  ,  0.12269928,  0.18998091,  0.19415866,\n",
       "        -0.08297805, -0.01318775,  0.01921149,  0.03253352, -0.02418779,\n",
       "         0.08347391,  0.0084488 ,  0.11076099,  0.05429366,  0.14344431,\n",
       "         0.04855379,  0.10018488,  0.15192078, -0.02303916,  0.16799045,\n",
       "         0.05296445, -0.02967634, -0.04294857], dtype=float32),\n",
       " array([[-0.13251117,  0.2098571 , -0.08710651, ..., -0.07898106,\n",
       "         -0.1762895 ,  0.12279265],\n",
       "        [-0.17943543, -0.05017938, -0.18349591, ...,  0.0707774 ,\n",
       "          0.06487209, -0.04671275],\n",
       "        [-0.01522617,  0.10107708, -0.02757409, ..., -0.2118591 ,\n",
       "          0.1614416 ,  0.071996  ],\n",
       "        ...,\n",
       "        [ 0.09732981,  0.20361947,  0.06606175, ...,  0.03219355,\n",
       "          0.1722583 , -0.03702555],\n",
       "        [ 0.11252113, -0.17266937,  0.09692443, ..., -0.16634308,\n",
       "         -0.15316373,  0.12920737],\n",
       "        [-0.0002204 ,  0.16170135,  0.20435412, ..., -0.11247381,\n",
       "          0.08380027, -0.02502842]], dtype=float32),\n",
       " array([ 0.11332648,  0.04857274, -0.03510964,  0.03474084,  0.20229146,\n",
       "        -0.00862556, -0.0837751 ,  0.01257347, -0.02241671,  0.09852901,\n",
       "        -0.09607051, -0.00445968, -0.00606654,  0.05774185, -0.07660243,\n",
       "         0.08153354,  0.10152803,  0.2706118 ,  0.07523929,  0.11404982,\n",
       "        -0.02038424,  0.14778514,  0.05961965,  0.06650439,  0.19103171,\n",
       "         0.12249469,  0.01853205,  0.03109399, -0.01068249,  0.15145673,\n",
       "         0.02449493, -0.03047974, -0.04869725,  0.07347443,  0.07268219,\n",
       "         0.17699835, -0.02912155,  0.05548001, -0.00271199,  0.11155615,\n",
       "         0.22690229, -0.0110283 ,  0.11197654,  0.11312425, -0.06543048,\n",
       "         0.06204091,  0.05947464,  0.05235123,  0.26489958,  0.18475586,\n",
       "        -0.00393076,  0.0397467 ,  0.03252986,  0.12457549,  0.01433594,\n",
       "         0.06412553,  0.03244454,  0.02528069,  0.08852409,  0.15826744,\n",
       "         0.00890802, -0.01499808, -0.01850261,  0.07550948], dtype=float32),\n",
       " array([[ 0.20278603,  0.31661204, -0.18018606, ..., -0.2448584 ,\n",
       "         -0.14712742,  0.14119141],\n",
       "        [ 0.11349163,  0.39414638, -0.0680432 , ..., -0.05512745,\n",
       "          0.15266572,  0.0207004 ],\n",
       "        [-0.18525535, -0.18333648,  0.07075178, ..., -0.21787713,\n",
       "          0.01811876,  0.20157082],\n",
       "        ...,\n",
       "        [ 0.33571422, -0.2085622 , -0.22948779, ..., -0.01866218,\n",
       "          0.00372124, -0.11839519],\n",
       "        [-0.08927135, -0.263829  , -0.10677085, ..., -0.13868167,\n",
       "         -0.07050534,  0.05972536],\n",
       "        [-0.37970024, -0.04454436,  0.05872884, ...,  0.12251066,\n",
       "          0.0382237 ,  0.23534483]], dtype=float32),\n",
       " array([ 0.11090874,  0.26968977,  0.03368792, -0.00721122,  0.16178057,\n",
       "        -0.02657626,  0.22985962,  0.26138064,  0.10523969,  0.08807091,\n",
       "        -0.03958687,  0.16357604,  0.24205442,  0.10548712,  0.09083134,\n",
       "        -0.00383905, -0.00358065,  0.15336448, -0.13335305, -0.00386588,\n",
       "         0.04842499, -0.00574961,  0.01010681, -0.0715251 ,  0.09926129,\n",
       "         0.0004804 , -0.05510953, -0.00393458, -0.01366336, -0.01089557,\n",
       "        -0.00045178,  0.00819734], dtype=float32),\n",
       " array([[-1.0957592e-02, -2.2714964e-01,  4.7320530e-01, ...,\n",
       "         -1.4995408e-01, -3.5479987e-01, -1.4605558e-01],\n",
       "        [-1.5692480e-01, -1.0117575e-02,  3.3272186e-01, ...,\n",
       "         -3.2637778e-01,  3.4365219e-01,  1.7225623e-01],\n",
       "        [-2.2214479e-03,  1.8772718e-01, -8.6779334e-02, ...,\n",
       "         -2.3156472e-01, -2.4628972e-01,  2.1816944e-01],\n",
       "        ...,\n",
       "        [ 2.9428473e-01,  9.5581405e-02,  3.1351159e-05, ...,\n",
       "          9.9094748e-02,  7.6720178e-02,  2.4872574e-01],\n",
       "        [ 2.0592630e-02,  1.6219160e-01, -1.7531307e-01, ...,\n",
       "          1.6612464e-01,  6.9757357e-02,  2.4320701e-01],\n",
       "        [-8.4655806e-02,  9.0652324e-02,  2.7353457e-01, ...,\n",
       "         -2.5784838e-01, -1.1785606e-01,  1.3464487e-01]], dtype=float32),\n",
       " array([-1.7381147e-03,  2.4769740e-02,  8.4668927e-02,  6.4242529e-03,\n",
       "         1.8098480e-01,  1.0362185e-01,  1.2737590e-01,  7.1446739e-02,\n",
       "        -2.3825036e-03,  1.4230517e-01,  1.8333718e-04,  7.4256316e-02,\n",
       "        -2.9782705e-02,  2.4761593e-01, -1.3977169e-01,  1.5651203e-03,\n",
       "         2.4645709e-02,  3.2446366e-02,  2.3052786e-01,  5.1673863e-02,\n",
       "        -5.0639007e-02,  1.1236908e-01,  1.2849548e-01,  8.2756869e-02,\n",
       "         1.5103662e-01,  1.1425908e-02,  1.4428148e-01,  1.8581147e-01,\n",
       "         1.1402516e-01,  7.1042545e-02,  5.1889304e-02,  6.3362066e-03],\n",
       "       dtype=float32),\n",
       " array([[-0.05779821, -0.11585225,  0.05843849, ..., -0.19342971,\n",
       "          0.20751381, -0.23217039],\n",
       "        [-0.08319046, -0.20566367, -0.03933572, ...,  0.01637579,\n",
       "         -0.01506755,  0.26336202],\n",
       "        [-0.05373332, -0.3801876 ,  0.13774921, ...,  0.36471298,\n",
       "          0.31073406, -0.18353161],\n",
       "        ...,\n",
       "        [ 0.01869965, -0.00765652,  0.17610362, ...,  0.0365566 ,\n",
       "         -0.14820094, -0.09445421],\n",
       "        [ 0.09524222, -0.43211424, -0.01689397, ..., -0.15105683,\n",
       "          0.48234043,  0.08935507],\n",
       "        [ 0.30596182,  0.17201154, -0.05838497, ...,  0.27779564,\n",
       "         -0.18243846,  0.28153244]], dtype=float32),\n",
       " array([ 0.05665083, -0.03038175, -0.03929786,  0.19907576,  0.05150237,\n",
       "         0.10547078,  0.1554882 ,  0.06603488,  0.00020203, -0.03436787,\n",
       "         0.00131839,  0.02235421,  0.03347582,  0.00529555, -0.04967643,\n",
       "         0.10213429,  0.04558522,  0.01245169,  0.01770779,  0.00863602,\n",
       "         0.00045189,  0.06330942,  0.0859732 , -0.0475011 , -0.00731461,\n",
       "        -0.00329204, -0.00910664,  0.00033869,  0.13455345,  0.03167832,\n",
       "         0.10073972, -0.0009178 ], dtype=float32),\n",
       " array([[-4.38397139e-01, -3.87283862e-01,  2.69915052e-02,\n",
       "          1.30618393e-01,  4.27625597e-01,  5.19067168e-01,\n",
       "          1.01380229e-01, -3.05618435e-01, -3.94560754e-01,\n",
       "          6.12701774e-01],\n",
       "        [ 5.57350814e-02, -3.31441820e-01, -5.65755546e-01,\n",
       "         -2.08690926e-01, -1.57384455e-01, -9.55292061e-02,\n",
       "          7.52569795e-01,  1.58255339e-01,  1.09150894e-01,\n",
       "         -1.80256262e-01],\n",
       "        [ 1.26131967e-01,  2.62475967e-01,  1.79776520e-01,\n",
       "          6.60604775e-01,  8.10582519e-01, -6.75250471e-01,\n",
       "          6.82738781e-01, -8.47963274e-01,  2.91258961e-01,\n",
       "         -3.01847517e-01],\n",
       "        [-2.09844142e-01, -4.71621782e-01,  3.97163749e-01,\n",
       "         -7.44879127e-01, -4.23808783e-01,  8.51697862e-01,\n",
       "          7.79401511e-02,  3.78315359e-01,  1.03944980e-01,\n",
       "         -4.88649607e-02],\n",
       "        [-4.95750666e-01, -6.59040034e-01,  2.04032794e-01,\n",
       "          1.55718908e-01, -7.63341337e-02,  4.21571851e-01,\n",
       "         -3.34801555e-01, -2.79976070e-01,  1.10022381e-01,\n",
       "          7.15342991e-04],\n",
       "        [ 6.73041165e-01,  5.94237685e-01, -4.87107098e-01,\n",
       "         -3.64472717e-02, -4.55579251e-01,  2.14333102e-01,\n",
       "         -4.14757818e-01,  5.55696964e-01, -4.97010276e-02,\n",
       "          1.56171113e-01],\n",
       "        [-1.80343181e-01, -3.83629739e-01, -2.37635866e-01,\n",
       "          6.96730375e-01,  2.10527182e-01,  4.89060372e-01,\n",
       "          2.91900516e-01, -4.98737618e-02, -4.00032014e-01,\n",
       "         -4.00346100e-01],\n",
       "        [-4.70199257e-01,  8.11665177e-01, -1.71851158e-01,\n",
       "         -3.07110459e-01, -2.59996504e-01,  1.01484425e-01,\n",
       "          2.38558933e-01, -2.77025104e-01,  4.10002749e-03,\n",
       "         -2.92223454e-01],\n",
       "        [ 2.08243147e-01, -2.34563187e-01, -3.13964933e-01,\n",
       "         -3.21294427e-01, -3.69407475e-01,  3.22318375e-01,\n",
       "         -3.25107783e-01, -8.92684422e-03,  1.84555456e-01,\n",
       "         -1.70764133e-01],\n",
       "        [-2.06814781e-01,  3.75496864e-01, -6.42699957e-01,\n",
       "          3.18438590e-01,  1.10993229e-01, -4.94884074e-01,\n",
       "         -8.48064840e-01,  4.59159344e-01,  5.80256820e-01,\n",
       "          5.00713706e-01],\n",
       "        [-2.96690255e-01,  5.69875956e-01,  4.30101335e-01,\n",
       "          8.07041302e-02, -2.65457332e-01, -5.48804224e-01,\n",
       "         -4.47369874e-01, -9.27340314e-02,  4.29589331e-01,\n",
       "          2.41844997e-01],\n",
       "        [ 7.15140283e-01, -2.28269085e-01,  5.72246969e-01,\n",
       "          5.34273833e-02, -2.51936495e-01, -1.86036993e-02,\n",
       "          5.37152231e-01,  9.86759439e-02,  5.73253155e-01,\n",
       "         -4.48556900e-01],\n",
       "        [-1.03881553e-01,  2.56367534e-01,  6.65058851e-01,\n",
       "         -5.07899344e-01,  6.77421808e-01, -3.07087928e-01,\n",
       "         -4.98626709e-01, -3.07260543e-01,  3.86817637e-03,\n",
       "         -1.72296435e-01],\n",
       "        [ 4.99729365e-01, -4.96245891e-01,  7.25323915e-01,\n",
       "         -6.78075850e-01,  6.66251302e-01, -1.00221775e-01,\n",
       "          6.67020202e-01, -7.34322131e-01, -6.85404390e-02,\n",
       "         -6.01884397e-03],\n",
       "        [ 4.09778766e-02,  2.17795566e-01, -1.73665926e-01,\n",
       "         -2.46478111e-01,  2.79512942e-01,  4.52007473e-01,\n",
       "         -1.56688392e-01, -5.23160517e-01,  2.83100337e-01,\n",
       "          2.61410743e-01],\n",
       "        [ 7.63842642e-01, -2.28111103e-01, -2.55186141e-01,\n",
       "          7.06179082e-01, -3.33215535e-01, -5.24155200e-01,\n",
       "         -2.79513717e-01, -1.80687279e-01, -5.30390143e-01,\n",
       "         -3.11854303e-01],\n",
       "        [ 5.22593081e-01,  8.61127973e-01, -1.17363371e-01,\n",
       "         -4.76527750e-01, -2.54025847e-01, -3.69532675e-01,\n",
       "          2.93147832e-01,  1.42662317e-01, -8.27935040e-01,\n",
       "          3.59314561e-01],\n",
       "        [-1.95723429e-01, -3.31489027e-01,  1.15947679e-01,\n",
       "          1.99040651e-01, -2.51689732e-01,  3.25495750e-01,\n",
       "          1.37348488e-01,  1.43374354e-01,  2.37080783e-01,\n",
       "         -3.72683585e-01],\n",
       "        [ 1.88067090e-02, -6.84996620e-02, -2.81063113e-02,\n",
       "          1.18335515e-01,  2.86303431e-01, -2.71949023e-01,\n",
       "         -3.76154929e-01,  2.69213803e-02, -7.38173500e-02,\n",
       "          1.77145079e-01],\n",
       "        [ 1.81268245e-01,  2.71400303e-01,  1.11226611e-01,\n",
       "          1.30715787e-01, -2.37438112e-01, -2.41233915e-01,\n",
       "          1.72661375e-02,  2.18693212e-01, -5.87224901e-01,\n",
       "          4.88574177e-01],\n",
       "        [-7.82479495e-02, -2.54467010e-01, -6.36333674e-02,\n",
       "         -1.87887356e-01,  2.36899525e-01,  2.67558575e-01,\n",
       "         -2.27536127e-01,  2.56582022e-01,  1.17248908e-01,\n",
       "         -3.17787379e-02],\n",
       "        [-2.06347227e-01, -2.47122243e-01,  1.23398803e-01,\n",
       "         -1.16592437e-01,  5.80009855e-02, -4.91115153e-01,\n",
       "          3.48838568e-02,  5.87893546e-01,  4.45418149e-01,\n",
       "         -4.12799150e-01],\n",
       "        [ 3.15798968e-01,  3.45000662e-02,  1.88860044e-01,\n",
       "          2.08293810e-01, -2.70964235e-01, -6.18018687e-01,\n",
       "         -2.43446864e-02, -2.93415189e-01, -1.44505739e-01,\n",
       "         -3.11387450e-01],\n",
       "        [ 3.38770270e-01, -3.47670227e-01, -3.20269495e-01,\n",
       "          4.31202389e-02,  1.60940304e-01,  4.01203800e-03,\n",
       "          7.09302425e-01, -4.46073651e-01,  5.00999451e-01,\n",
       "          1.98825434e-01],\n",
       "        [ 3.45976532e-01, -3.43893409e-01,  3.37512046e-02,\n",
       "         -1.06571596e-02, -3.45278621e-01,  1.82791978e-01,\n",
       "          1.61770865e-01, -6.64418796e-03,  3.16569060e-01,\n",
       "          6.64495230e-02],\n",
       "        [ 1.11795790e-01, -3.41972187e-02, -4.10552025e-02,\n",
       "         -2.67963618e-01, -4.52133596e-01, -5.70574880e-01,\n",
       "         -1.35011956e-01,  5.78002572e-01, -4.22784537e-01,\n",
       "          8.12854171e-01],\n",
       "        [-1.92036748e-01,  1.09076045e-01,  1.48842961e-01,\n",
       "          4.01104927e-01,  1.86161160e-01, -6.11320324e-02,\n",
       "          5.39053082e-01,  2.29148850e-01, -2.07432285e-01,\n",
       "          1.48424596e-01],\n",
       "        [ 3.26412678e-01,  1.67387769e-01,  5.31043559e-02,\n",
       "         -5.49265966e-02,  1.58899546e-01, -2.28107169e-01,\n",
       "         -5.36717148e-03,  6.04056492e-02,  2.02020347e-01,\n",
       "         -1.40804142e-01],\n",
       "        [-5.01800440e-02, -3.72993499e-01, -5.32977954e-02,\n",
       "         -1.00685462e-01, -1.25184119e-01,  6.22435331e-01,\n",
       "          6.76348984e-01, -4.83327419e-01, -7.74666309e-01,\n",
       "          1.92418005e-02],\n",
       "        [-2.25216225e-02, -3.31955820e-01, -4.43779945e-01,\n",
       "         -1.53934717e-01, -2.18994528e-01,  6.34770632e-01,\n",
       "         -7.06744373e-01,  6.44881427e-01,  6.10885203e-01,\n",
       "         -5.15060544e-01],\n",
       "        [-6.64062679e-01,  5.04647754e-02,  2.16567487e-01,\n",
       "          4.58021641e-01,  2.32966527e-01, -6.04625404e-01,\n",
       "         -2.73853630e-01, -2.31240883e-01, -6.91266179e-01,\n",
       "         -4.44723994e-01],\n",
       "        [-5.65316342e-02, -2.53050178e-02,  4.00960356e-01,\n",
       "         -3.85770090e-02,  3.29605401e-01,  3.29916120e-01,\n",
       "         -4.38629180e-01,  1.49828702e-01, -1.12259865e-01,\n",
       "          3.28919679e-01]], dtype=float32),\n",
       " array([ 0.01747933,  0.02590954,  0.15146345,  0.06099097, -0.12264235,\n",
       "         0.29948863,  0.02303965, -0.02983537, -0.20950833, -0.21637402],\n",
       "       dtype=float32)]"
      ]
     },
     "execution_count": 2,
     "metadata": {},
     "output_type": "execute_result"
    }
   ],
   "source": [
    "new_model.get_weights()"
   ]
  },
  {
   "cell_type": "code",
   "execution_count": 49,
   "id": "16d7f295-fdb6-4e5e-8e26-c24152424337",
   "metadata": {},
   "outputs": [
    {
     "data": {
      "text/plain": [
       "<Figure size 1000x1000 with 0 Axes>"
      ]
     },
     "metadata": {},
     "output_type": "display_data"
    },
    {
     "data": {
      "image/png": "[encoded data removed]",
      "text/plain": [
       "<Figure size 640x480 with 1 Axes>"
      ]
     },
     "metadata": {},
     "output_type": "display_data"
    }
   ],
   "source": [
    "plt.style.use(\"ggplot\")\n",
    "plt.figure(figsize=(10,10))\n",
    "pd.DataFrame(h.history).plot( xlim=[0, 9], ylim=[0, 1], grid=True, xlabel=\"Epoch\", style=[\"r--\", \"r--o\", \"b-\", \"b-*\"],linewidth=1)\n",
    "plt.legend(loc=\"lower left\") \n",
    "plt.title(\"Base Model\")\n",
    "plt.show()"
   ]
  },
  {
   "cell_type": "code",
   "execution_count": null,
   "id": "f37eda0c-4621-4a51-bb3a-a93f69680956",
   "metadata": {},
   "outputs": [],
   "source": []
  },
  {
   "cell_type": "markdown",
   "id": "31bc84cf-5426-4ccc-9410-9b68ae19885e",
   "metadata": {},
   "source": [
    "7)"
   ]
  },
  {
   "cell_type": "code",
   "execution_count": 50,
   "id": "dde7adc4-8ab1-465f-b5ff-7beeea282216",
   "metadata": {},
   "outputs": [],
   "source": [
    "from sklearn.metrics import classification_report"
   ]
  },
  {
   "cell_type": "code",
   "execution_count": 51,
   "id": "78f39898-0a81-4227-af95-270d624954c6",
   "metadata": {},
   "outputs": [
    {
     "name": "stderr",
     "output_type": "stream",
     "text": [
      "C:\\Users\\vagelis\\anaconda3\\envs\\MLenv\\Lib\\site-packages\\keras\\src\\layers\\reshaping\\flatten.py:37: UserWarning: Do not pass an `input_shape`/`input_dim` argument to a layer. When using Sequential models, prefer using an `Input(shape)` object as the first layer in the model instead.\n",
      "  super().__init__(**kwargs)\n"
     ]
    }
   ],
   "source": [
    "tf.random.set_seed(42)\n",
    "model2 = Sequential([\n",
    "        Flatten(input_shape=(14, 28)),  # Adjusted input shape for cropped images\n",
    "        Dense(128, activation='relu'),\n",
    "        Dense(64, activation='relu'),\n",
    "        Dense(10, activation='softmax')  \n",
    "    ])\n"
   ]
  },
  {
   "cell_type": "code",
   "execution_count": 52,
   "id": "28aad1c2-419e-46ca-a14f-712fe2148a56",
   "metadata": {},
   "outputs": [],
   "source": [
    "model2.compile(optimizer=SGD(learning_rate=0.0001),\n",
    "                  loss='sparse_categorical_crossentropy',\n",
    "                  metrics=['accuracy'])"
   ]
  },
  {
   "cell_type": "code",
   "execution_count": 53,
   "id": "72b57197-9b4c-4a3d-81da-0d58265deff3",
   "metadata": {},
   "outputs": [],
   "source": [
    "weights = model2.get_weights() #store initial weights into a variable"
   ]
  },
  {
   "cell_type": "code",
   "execution_count": 65,
   "id": "8b579635-b4e3-4618-9b2e-ada742a5daca",
   "metadata": {
    "scrolled": true
   },
   "outputs": [
    {
     "name": "stdout",
     "output_type": "stream",
     "text": [
      "Epoch 1/10\n",
      "\u001b[1m1563/1563\u001b[0m \u001b[32m━━━━━━━━━━━━━━━━━━━━\u001b[0m\u001b[37m\u001b[0m \u001b[1m6s\u001b[0m 4ms/step - accuracy: 0.1849 - loss: 2.3250 - val_accuracy: 0.2497 - val_loss: 2.2333\n",
      "Epoch 2/10\n",
      "\u001b[1m1563/1563\u001b[0m \u001b[32m━━━━━━━━━━━━━━━━━━━━\u001b[0m\u001b[37m\u001b[0m \u001b[1m6s\u001b[0m 3ms/step - accuracy: 0.2583 - loss: 2.2149 - val_accuracy: 0.2920 - val_loss: 2.1536\n",
      "Epoch 3/10\n",
      "\u001b[1m1563/1563\u001b[0m \u001b[32m━━━━━━━━━━━━━━━━━━━━\u001b[0m\u001b[37m\u001b[0m \u001b[1m11s\u001b[0m 4ms/step - accuracy: 0.2984 - loss: 2.1396 - val_accuracy: 0.3423 - val_loss: 2.0826\n",
      "Epoch 4/10\n",
      "\u001b[1m1563/1563\u001b[0m \u001b[32m━━━━━━━━━━━━━━━━━━━━\u001b[0m\u001b[37m\u001b[0m \u001b[1m6s\u001b[0m 4ms/step - accuracy: 0.3617 - loss: 2.0704 - val_accuracy: 0.4276 - val_loss: 2.0141\n",
      "Epoch 5/10\n",
      "\u001b[1m1563/1563\u001b[0m \u001b[32m━━━━━━━━━━━━━━━━━━━━\u001b[0m\u001b[37m\u001b[0m \u001b[1m10s\u001b[0m 4ms/step - accuracy: 0.4489 - loss: 2.0028 - val_accuracy: 0.4987 - val_loss: 1.9452\n",
      "Epoch 6/10\n",
      "\u001b[1m1563/1563\u001b[0m \u001b[32m━━━━━━━━━━━━━━━━━━━━\u001b[0m\u001b[37m\u001b[0m \u001b[1m10s\u001b[0m 4ms/step - accuracy: 0.5073 - loss: 1.9342 - val_accuracy: 0.5294 - val_loss: 1.8742\n",
      "Epoch 7/10\n",
      "\u001b[1m1563/1563\u001b[0m \u001b[32m━━━━━━━━━━━━━━━━━━━━\u001b[0m\u001b[37m\u001b[0m \u001b[1m6s\u001b[0m 4ms/step - accuracy: 0.5301 - loss: 1.8634 - val_accuracy: 0.5422 - val_loss: 1.8020\n",
      "Epoch 8/10\n",
      "\u001b[1m1563/1563\u001b[0m \u001b[32m━━━━━━━━━━━━━━━━━━━━\u001b[0m\u001b[37m\u001b[0m \u001b[1m10s\u001b[0m 3ms/step - accuracy: 0.5400 - loss: 1.7916 - val_accuracy: 0.5486 - val_loss: 1.7304\n",
      "Epoch 9/10\n",
      "\u001b[1m1563/1563\u001b[0m \u001b[32m━━━━━━━━━━━━━━━━━━━━\u001b[0m\u001b[37m\u001b[0m \u001b[1m5s\u001b[0m 3ms/step - accuracy: 0.5442 - loss: 1.7206 - val_accuracy: 0.5535 - val_loss: 1.6611\n",
      "Epoch 10/10\n",
      "\u001b[1m1563/1563\u001b[0m \u001b[32m━━━━━━━━━━━━━━━━━━━━\u001b[0m\u001b[37m\u001b[0m \u001b[1m6s\u001b[0m 3ms/step - accuracy: 0.5472 - loss: 1.6520 - val_accuracy: 0.5585 - val_loss: 1.5956\n"
     ]
    },
    {
     "data": {
      "text/plain": [
       "<keras.src.callbacks.history.History at 0x1846934cbd0>"
      ]
     },
     "execution_count": 65,
     "metadata": {},
     "output_type": "execute_result"
    }
   ],
   "source": [
    "# Train model on upper-half data \n",
    "\n",
    "model2.fit(X_train_upper, y_train, epochs=10, batch_size=32, validation_data=(X_valid_upper, y_valid))"
   ]
  },
  {
   "cell_type": "code",
   "execution_count": 66,
   "id": "e9b77829-55ed-4e36-9a6c-c7b8937ba48b",
   "metadata": {},
   "outputs": [
    {
     "name": "stdout",
     "output_type": "stream",
     "text": [
      "\u001b[1m313/313\u001b[0m \u001b[32m━━━━━━━━━━━━━━━━━━━━\u001b[0m\u001b[37m\u001b[0m \u001b[1m1s\u001b[0m 2ms/step   \n"
     ]
    }
   ],
   "source": [
    "y_pred_upper = np.argmax(model2.predict(X_test_upper), axis=1)"
   ]
  },
  {
   "cell_type": "code",
   "execution_count": 67,
   "id": "4e3ff8cf-dc66-4f38-aef6-d7c996faddd1",
   "metadata": {},
   "outputs": [
    {
     "data": {
      "text/plain": [
       "array([9, 2, 1, ..., 0, 1, 7], dtype=int64)"
      ]
     },
     "execution_count": 67,
     "metadata": {},
     "output_type": "execute_result"
    }
   ],
   "source": [
    "y_pred_upper"
   ]
  },
  {
   "cell_type": "code",
   "execution_count": 68,
   "id": "74e9dca2-a02c-4208-a809-3fa459513772",
   "metadata": {},
   "outputs": [],
   "source": [
    "report_upper = classification_report(y_test, y_pred_upper,output_dict=True)"
   ]
  },
  {
   "cell_type": "code",
   "execution_count": 69,
   "id": "c418e0c1-76f1-4f08-914f-8c1a0c35ee87",
   "metadata": {},
   "outputs": [],
   "source": [
    "model2.set_weights(weights) #reset weights into the initial weight"
   ]
  },
  {
   "cell_type": "code",
   "execution_count": 70,
   "id": "40a05d3c-37e1-441d-b691-85c0e22029cd",
   "metadata": {},
   "outputs": [
    {
     "name": "stdout",
     "output_type": "stream",
     "text": [
      "Epoch 1/10\n",
      "\u001b[1m1563/1563\u001b[0m \u001b[32m━━━━━━━━━━━━━━━━━━━━\u001b[0m\u001b[37m\u001b[0m \u001b[1m5s\u001b[0m 3ms/step - accuracy: 0.1335 - loss: 2.3069 - val_accuracy: 0.2678 - val_loss: 2.1818\n",
      "Epoch 2/10\n",
      "\u001b[1m1563/1563\u001b[0m \u001b[32m━━━━━━━━━━━━━━━━━━━━\u001b[0m\u001b[37m\u001b[0m \u001b[1m6s\u001b[0m 4ms/step - accuracy: 0.2913 - loss: 2.1577 - val_accuracy: 0.3571 - val_loss: 2.0809\n",
      "Epoch 3/10\n",
      "\u001b[1m1563/1563\u001b[0m \u001b[32m━━━━━━━━━━━━━━━━━━━━\u001b[0m\u001b[37m\u001b[0m \u001b[1m5s\u001b[0m 3ms/step - accuracy: 0.3739 - loss: 2.0629 - val_accuracy: 0.4067 - val_loss: 1.9945\n",
      "Epoch 4/10\n",
      "\u001b[1m1563/1563\u001b[0m \u001b[32m━━━━━━━━━━━━━━━━━━━━\u001b[0m\u001b[37m\u001b[0m \u001b[1m5s\u001b[0m 3ms/step - accuracy: 0.4229 - loss: 1.9790 - val_accuracy: 0.4435 - val_loss: 1.9144\n",
      "Epoch 5/10\n",
      "\u001b[1m1563/1563\u001b[0m \u001b[32m━━━━━━━━━━━━━━━━━━━━\u001b[0m\u001b[37m\u001b[0m \u001b[1m6s\u001b[0m 4ms/step - accuracy: 0.4536 - loss: 1.9005 - val_accuracy: 0.4736 - val_loss: 1.8387\n",
      "Epoch 6/10\n",
      "\u001b[1m1563/1563\u001b[0m \u001b[32m━━━━━━━━━━━━━━━━━━━━\u001b[0m\u001b[37m\u001b[0m \u001b[1m5s\u001b[0m 3ms/step - accuracy: 0.4756 - loss: 1.8264 - val_accuracy: 0.4945 - val_loss: 1.7668\n",
      "Epoch 7/10\n",
      "\u001b[1m1563/1563\u001b[0m \u001b[32m━━━━━━━━━━━━━━━━━━━━\u001b[0m\u001b[37m\u001b[0m \u001b[1m6s\u001b[0m 4ms/step - accuracy: 0.4936 - loss: 1.7559 - val_accuracy: 0.5098 - val_loss: 1.6983\n",
      "Epoch 8/10\n",
      "\u001b[1m1563/1563\u001b[0m \u001b[32m━━━━━━━━━━━━━━━━━━━━\u001b[0m\u001b[37m\u001b[0m \u001b[1m5s\u001b[0m 3ms/step - accuracy: 0.5104 - loss: 1.6889 - val_accuracy: 0.5246 - val_loss: 1.6335\n",
      "Epoch 9/10\n",
      "\u001b[1m1563/1563\u001b[0m \u001b[32m━━━━━━━━━━━━━━━━━━━━\u001b[0m\u001b[37m\u001b[0m \u001b[1m5s\u001b[0m 3ms/step - accuracy: 0.5265 - loss: 1.6256 - val_accuracy: 0.5389 - val_loss: 1.5727\n",
      "Epoch 10/10\n",
      "\u001b[1m1563/1563\u001b[0m \u001b[32m━━━━━━━━━━━━━━━━━━━━\u001b[0m\u001b[37m\u001b[0m \u001b[1m6s\u001b[0m 4ms/step - accuracy: 0.5398 - loss: 1.5661 - val_accuracy: 0.5513 - val_loss: 1.5162\n"
     ]
    },
    {
     "data": {
      "text/plain": [
       "<keras.src.callbacks.history.History at 0x1846ad5b090>"
      ]
     },
     "execution_count": 70,
     "metadata": {},
     "output_type": "execute_result"
    }
   ],
   "source": [
    "# Train model on lower-half data  \n",
    "model2.fit(X_train_lower, y_train, epochs=10, batch_size=32, validation_data=(X_valid_lower, y_valid))"
   ]
  },
  {
   "cell_type": "code",
   "execution_count": 71,
   "id": "1622b1c8-3e1d-4b14-aa9b-fa21080ac430",
   "metadata": {},
   "outputs": [
    {
     "name": "stdout",
     "output_type": "stream",
     "text": [
      "\u001b[1m313/313\u001b[0m \u001b[32m━━━━━━━━━━━━━━━━━━━━\u001b[0m\u001b[37m\u001b[0m \u001b[1m1s\u001b[0m 2ms/step \n"
     ]
    }
   ],
   "source": [
    "y_pred_lower = np.argmax(model2.predict(X_test_lower), axis=1) #the id-label of maximum"
   ]
  },
  {
   "cell_type": "code",
   "execution_count": 72,
   "id": "7fec97ab-529c-4ab9-be6b-a350d6397d25",
   "metadata": {},
   "outputs": [],
   "source": [
    "report_lower = classification_report(y_test, y_pred_lower,output_dict=True)"
   ]
  },
  {
   "cell_type": "code",
   "execution_count": 73,
   "id": "09607dac-3371-42de-a5a6-35a34f0729d6",
   "metadata": {},
   "outputs": [],
   "source": [
    "df_lower = pd.DataFrame(report_lower).transpose()"
   ]
  },
  {
   "cell_type": "code",
   "execution_count": 74,
   "id": "da0af957-25a9-44c5-82fb-b8e4217df4a6",
   "metadata": {},
   "outputs": [],
   "source": [
    "df_upper = pd.DataFrame(report_upper).transpose()"
   ]
  },
  {
   "cell_type": "code",
   "execution_count": 75,
   "id": "75db45d0-1b3d-47c2-9a5e-a7a1ae84848e",
   "metadata": {},
   "outputs": [
    {
     "data": {
      "text/plain": [
       "(              precision  recall  f1-score     support\n",
       " 0              0.529172  0.7800  0.630558   1000.0000\n",
       " 1              0.986053  0.7070  0.823529   1000.0000\n",
       " 2              0.435484  0.4590  0.446933   1000.0000\n",
       " 3              0.609277  0.6830  0.644036   1000.0000\n",
       " 4              0.300126  0.4760  0.368136   1000.0000\n",
       " 5              0.750000  0.0570  0.105948   1000.0000\n",
       " 6              0.142857  0.0010  0.001986   1000.0000\n",
       " 7              0.540084  0.8960  0.673938   1000.0000\n",
       " 8              0.560947  0.4740  0.513821   1000.0000\n",
       " 9              0.614648  0.8980  0.729785   1000.0000\n",
       " accuracy       0.543100  0.5431  0.543100      0.5431\n",
       " macro avg      0.546865  0.5431  0.493867  10000.0000\n",
       " weighted avg   0.546865  0.5431  0.493867  10000.0000,\n",
       "               precision  recall  f1-score     support\n",
       " 0              0.628983  0.6120  0.620375   1000.0000\n",
       " 1              0.640204  0.8790  0.740834   1000.0000\n",
       " 2              0.426421  0.5100  0.464481   1000.0000\n",
       " 3              0.569385  0.3980  0.468511   1000.0000\n",
       " 4              0.373104  0.7380  0.495635   1000.0000\n",
       " 5              0.857143  0.0300  0.057971   1000.0000\n",
       " 6              0.200000  0.0150  0.027907   1000.0000\n",
       " 7              0.568367  0.7690  0.653634   1000.0000\n",
       " 8              0.895082  0.5460  0.678261   1000.0000\n",
       " 9              0.570843  0.9750  0.720089   1000.0000\n",
       " accuracy       0.547200  0.5472  0.547200      0.5472\n",
       " macro avg      0.572953  0.5472  0.492770  10000.0000\n",
       " weighted avg   0.572953  0.5472  0.492770  10000.0000)"
      ]
     },
     "execution_count": 75,
     "metadata": {},
     "output_type": "execute_result"
    }
   ],
   "source": [
    "df_lower,df_upper"
   ]
  },
  {
   "cell_type": "code",
   "execution_count": 76,
   "id": "c91bd142-0b03-4c94-868f-73fab4272fe1",
   "metadata": {},
   "outputs": [],
   "source": [
    "df_report=df_lower.merge(df_upper,left_index=True,right_index=True)"
   ]
  },
  {
   "cell_type": "code",
   "execution_count": 77,
   "id": "fd977ced-ce93-4143-a5b3-a07f99ec8986",
   "metadata": {},
   "outputs": [],
   "source": [
    "df_report.columns=df_report.columns.str.replace(\"x\",\"lower\").str.replace(\"y\",\"upper\")"
   ]
  },
  {
   "cell_type": "code",
   "execution_count": 78,
   "id": "92954c99-db58-4cc6-8719-3e7997f1a934",
   "metadata": {},
   "outputs": [
    {
     "data": {
      "text/html": [
       "<div>\n",
       "<style scoped>\n",
       "    .dataframe tbody tr th:only-of-type {\n",
       "        vertical-align: middle;\n",
       "    }\n",
       "\n",
       "    .dataframe tbody tr th {\n",
       "        vertical-align: top;\n",
       "    }\n",
       "\n",
       "    .dataframe thead th {\n",
       "        text-align: right;\n",
       "    }\n",
       "</style>\n",
       "<table border=\"1\" class=\"dataframe\">\n",
       "  <thead>\n",
       "    <tr style=\"text-align: right;\">\n",
       "      <th></th>\n",
       "      <th>precision_lower</th>\n",
       "      <th>recall_lower</th>\n",
       "      <th>f1-score_lower</th>\n",
       "      <th>support_lower</th>\n",
       "      <th>precision_upper</th>\n",
       "      <th>recall_upper</th>\n",
       "      <th>f1-score_upper</th>\n",
       "      <th>support_upper</th>\n",
       "    </tr>\n",
       "  </thead>\n",
       "  <tbody>\n",
       "    <tr>\n",
       "      <th>0</th>\n",
       "      <td>0.529172</td>\n",
       "      <td>0.7800</td>\n",
       "      <td>0.630558</td>\n",
       "      <td>1000.0000</td>\n",
       "      <td>0.628983</td>\n",
       "      <td>0.6120</td>\n",
       "      <td>0.620375</td>\n",
       "      <td>1000.0000</td>\n",
       "    </tr>\n",
       "    <tr>\n",
       "      <th>1</th>\n",
       "      <td>0.986053</td>\n",
       "      <td>0.7070</td>\n",
       "      <td>0.823529</td>\n",
       "      <td>1000.0000</td>\n",
       "      <td>0.640204</td>\n",
       "      <td>0.8790</td>\n",
       "      <td>0.740834</td>\n",
       "      <td>1000.0000</td>\n",
       "    </tr>\n",
       "    <tr>\n",
       "      <th>2</th>\n",
       "      <td>0.435484</td>\n",
       "      <td>0.4590</td>\n",
       "      <td>0.446933</td>\n",
       "      <td>1000.0000</td>\n",
       "      <td>0.426421</td>\n",
       "      <td>0.5100</td>\n",
       "      <td>0.464481</td>\n",
       "      <td>1000.0000</td>\n",
       "    </tr>\n",
       "    <tr>\n",
       "      <th>3</th>\n",
       "      <td>0.609277</td>\n",
       "      <td>0.6830</td>\n",
       "      <td>0.644036</td>\n",
       "      <td>1000.0000</td>\n",
       "      <td>0.569385</td>\n",
       "      <td>0.3980</td>\n",
       "      <td>0.468511</td>\n",
       "      <td>1000.0000</td>\n",
       "    </tr>\n",
       "    <tr>\n",
       "      <th>4</th>\n",
       "      <td>0.300126</td>\n",
       "      <td>0.4760</td>\n",
       "      <td>0.368136</td>\n",
       "      <td>1000.0000</td>\n",
       "      <td>0.373104</td>\n",
       "      <td>0.7380</td>\n",
       "      <td>0.495635</td>\n",
       "      <td>1000.0000</td>\n",
       "    </tr>\n",
       "    <tr>\n",
       "      <th>5</th>\n",
       "      <td>0.750000</td>\n",
       "      <td>0.0570</td>\n",
       "      <td>0.105948</td>\n",
       "      <td>1000.0000</td>\n",
       "      <td>0.857143</td>\n",
       "      <td>0.0300</td>\n",
       "      <td>0.057971</td>\n",
       "      <td>1000.0000</td>\n",
       "    </tr>\n",
       "    <tr>\n",
       "      <th>6</th>\n",
       "      <td>0.142857</td>\n",
       "      <td>0.0010</td>\n",
       "      <td>0.001986</td>\n",
       "      <td>1000.0000</td>\n",
       "      <td>0.200000</td>\n",
       "      <td>0.0150</td>\n",
       "      <td>0.027907</td>\n",
       "      <td>1000.0000</td>\n",
       "    </tr>\n",
       "    <tr>\n",
       "      <th>7</th>\n",
       "      <td>0.540084</td>\n",
       "      <td>0.8960</td>\n",
       "      <td>0.673938</td>\n",
       "      <td>1000.0000</td>\n",
       "      <td>0.568367</td>\n",
       "      <td>0.7690</td>\n",
       "      <td>0.653634</td>\n",
       "      <td>1000.0000</td>\n",
       "    </tr>\n",
       "    <tr>\n",
       "      <th>8</th>\n",
       "      <td>0.560947</td>\n",
       "      <td>0.4740</td>\n",
       "      <td>0.513821</td>\n",
       "      <td>1000.0000</td>\n",
       "      <td>0.895082</td>\n",
       "      <td>0.5460</td>\n",
       "      <td>0.678261</td>\n",
       "      <td>1000.0000</td>\n",
       "    </tr>\n",
       "    <tr>\n",
       "      <th>9</th>\n",
       "      <td>0.614648</td>\n",
       "      <td>0.8980</td>\n",
       "      <td>0.729785</td>\n",
       "      <td>1000.0000</td>\n",
       "      <td>0.570843</td>\n",
       "      <td>0.9750</td>\n",
       "      <td>0.720089</td>\n",
       "      <td>1000.0000</td>\n",
       "    </tr>\n",
       "    <tr>\n",
       "      <th>accuracy</th>\n",
       "      <td>0.543100</td>\n",
       "      <td>0.5431</td>\n",
       "      <td>0.543100</td>\n",
       "      <td>0.5431</td>\n",
       "      <td>0.547200</td>\n",
       "      <td>0.5472</td>\n",
       "      <td>0.547200</td>\n",
       "      <td>0.5472</td>\n",
       "    </tr>\n",
       "    <tr>\n",
       "      <th>macro avg</th>\n",
       "      <td>0.546865</td>\n",
       "      <td>0.5431</td>\n",
       "      <td>0.493867</td>\n",
       "      <td>10000.0000</td>\n",
       "      <td>0.572953</td>\n",
       "      <td>0.5472</td>\n",
       "      <td>0.492770</td>\n",
       "      <td>10000.0000</td>\n",
       "    </tr>\n",
       "    <tr>\n",
       "      <th>weighted avg</th>\n",
       "      <td>0.546865</td>\n",
       "      <td>0.5431</td>\n",
       "      <td>0.493867</td>\n",
       "      <td>10000.0000</td>\n",
       "      <td>0.572953</td>\n",
       "      <td>0.5472</td>\n",
       "      <td>0.492770</td>\n",
       "      <td>10000.0000</td>\n",
       "    </tr>\n",
       "  </tbody>\n",
       "</table>\n",
       "</div>"
      ],
      "text/plain": [
       "              precision_lower  recall_lower  f1-score_lower  support_lower  \\\n",
       "0                    0.529172        0.7800        0.630558      1000.0000   \n",
       "1                    0.986053        0.7070        0.823529      1000.0000   \n",
       "2                    0.435484        0.4590        0.446933      1000.0000   \n",
       "3                    0.609277        0.6830        0.644036      1000.0000   \n",
       "4                    0.300126        0.4760        0.368136      1000.0000   \n",
       "5                    0.750000        0.0570        0.105948      1000.0000   \n",
       "6                    0.142857        0.0010        0.001986      1000.0000   \n",
       "7                    0.540084        0.8960        0.673938      1000.0000   \n",
       "8                    0.560947        0.4740        0.513821      1000.0000   \n",
       "9                    0.614648        0.8980        0.729785      1000.0000   \n",
       "accuracy             0.543100        0.5431        0.543100         0.5431   \n",
       "macro avg            0.546865        0.5431        0.493867     10000.0000   \n",
       "weighted avg         0.546865        0.5431        0.493867     10000.0000   \n",
       "\n",
       "              precision_upper  recall_upper  f1-score_upper  support_upper  \n",
       "0                    0.628983        0.6120        0.620375      1000.0000  \n",
       "1                    0.640204        0.8790        0.740834      1000.0000  \n",
       "2                    0.426421        0.5100        0.464481      1000.0000  \n",
       "3                    0.569385        0.3980        0.468511      1000.0000  \n",
       "4                    0.373104        0.7380        0.495635      1000.0000  \n",
       "5                    0.857143        0.0300        0.057971      1000.0000  \n",
       "6                    0.200000        0.0150        0.027907      1000.0000  \n",
       "7                    0.568367        0.7690        0.653634      1000.0000  \n",
       "8                    0.895082        0.5460        0.678261      1000.0000  \n",
       "9                    0.570843        0.9750        0.720089      1000.0000  \n",
       "accuracy             0.547200        0.5472        0.547200         0.5472  \n",
       "macro avg            0.572953        0.5472        0.492770     10000.0000  \n",
       "weighted avg         0.572953        0.5472        0.492770     10000.0000  "
      ]
     },
     "execution_count": 78,
     "metadata": {},
     "output_type": "execute_result"
    }
   ],
   "source": [
    "df_report #merged classification reports for lower and upper models for better comparison"
   ]
  },
  {
   "cell_type": "markdown",
   "id": "d99c6b73-2c2f-4e34-a6fb-73a4bd676413",
   "metadata": {},
   "source": [
    "8)"
   ]
  },
  {
   "cell_type": "code",
   "execution_count": 80,
   "id": "5b773b71-bb13-4412-94de-f71d187f1e7d",
   "metadata": {},
   "outputs": [],
   "source": [
    "#One model predicts correct class and the other the incorrect class \n",
    "correct_upper = (y_pred_upper == y_test) & (y_pred_lower != y_test) \n",
    "correct_lower = (y_pred_lower == y_test) & (y_pred_upper != y_test)"
   ]
  },
  {
   "cell_type": "code",
   "execution_count": 88,
   "id": "7bb2108e-3de0-4da8-86a5-33f93aeec6e8",
   "metadata": {},
   "outputs": [
    {
     "data": {
      "text/plain": [
       "False    8808\n",
       "True     1192\n",
       "Name: count, dtype: int64"
      ]
     },
     "execution_count": 88,
     "metadata": {},
     "output_type": "execute_result"
    }
   ],
   "source": [
    "pd.DataFrame(correct_lower).value_counts()"
   ]
  },
  {
   "cell_type": "code",
   "execution_count": 163,
   "id": "d5e38b3c-b59b-47f0-9141-76fa1952e785",
   "metadata": {},
   "outputs": [
    {
     "data": {
      "text/plain": [
       "<matplotlib.legend.Legend at 0x18470250f90>"
      ]
     },
     "execution_count": 163,
     "metadata": {},
     "output_type": "execute_result"
    },
    {
     "data": {
      "image/png": "[encoded data removed]",
      "text/plain": [
       "<Figure size 800x1000 with 1 Axes>"
      ]
     },
     "metadata": {},
     "output_type": "display_data"
    }
   ],
   "source": [
    "plt.style.use(\"ggplot\")\n",
    "\n",
    "plt.figure(figsize=(8,10))\n",
    "pd.DataFrame(correct_lower).value_counts().plot(kind=\"pie\",labels=[\"Not Correct\",\"Correct\"],colors=[\"b\",\"r\"],legend=True)\n",
    "plt.legend(loc=\"lower left\")"
   ]
  },
  {
   "cell_type": "code",
   "execution_count": 51,
   "id": "5fea3e85-e778-45f6-a532-aa840f429d06",
   "metadata": {},
   "outputs": [
    {
     "data": {
      "text/plain": [
       "False    8494\n",
       "True     1506\n",
       "Name: count, dtype: int64"
      ]
     },
     "execution_count": 51,
     "metadata": {},
     "output_type": "execute_result"
    }
   ],
   "source": [
    "pd.DataFrame(correct_upper).value_counts()"
   ]
  },
  {
   "cell_type": "code",
   "execution_count": 121,
   "id": "a0d0dc34-aaf8-4908-8ead-75bf38cbd5a6",
   "metadata": {},
   "outputs": [
    {
     "data": {
      "text/plain": [
       "array([16, 18, 23, 42, 46], dtype=int64)"
      ]
     },
     "execution_count": 121,
     "metadata": {},
     "output_type": "execute_result"
    }
   ],
   "source": [
    "indices5_upper=np.where(correct_upper==True)[0][:5];indices5_upper"
   ]
  },
  {
   "cell_type": "code",
   "execution_count": 122,
   "id": "fb2830c8-a666-4615-bd2a-9e70fcfe9d1a",
   "metadata": {},
   "outputs": [
    {
     "data": {
      "text/plain": [
       "(5,)"
      ]
     },
     "execution_count": 122,
     "metadata": {},
     "output_type": "execute_result"
    }
   ],
   "source": [
    "indices5_upper.shape"
   ]
  },
  {
   "cell_type": "code",
   "execution_count": 125,
   "id": "e8c77f9c-86d3-47a7-b60b-947bda7e7970",
   "metadata": {},
   "outputs": [
    {
     "data": {
      "text/plain": [
       "array([17, 27, 32, 33, 43], dtype=int64)"
      ]
     },
     "execution_count": 125,
     "metadata": {},
     "output_type": "execute_result"
    }
   ],
   "source": [
    "indices5_lower=np.where(correct_lower==True)[0][:5];indices5_lower"
   ]
  },
  {
   "cell_type": "code",
   "execution_count": 123,
   "id": "1b9b5cdf-cb8e-4422-8b13-dca7a9bf8c69",
   "metadata": {},
   "outputs": [
    {
     "name": "stdout",
     "output_type": "stream",
     "text": [
      "Actual 2, Correct Prediction 2, False Prediction 8\n",
      "Actual 8, Correct Prediction 8, False Prediction 9\n",
      "Actual 9, Correct Prediction 9, False Prediction 7\n",
      "Actual 3, Correct Prediction 3, False Prediction 0\n",
      "Actual 2, Correct Prediction 2, False Prediction 4\n"
     ]
    }
   ],
   "source": [
    "for ind in indices5_upper:\n",
    "    print(f\"Actual {y_test[ind]}, Correct Prediction {y_pred_upper[ind]}, False Prediction {y_pred_lower[ind]}\")"
   ]
  },
  {
   "cell_type": "code",
   "execution_count": 126,
   "id": "9b78294f-146b-4d19-a4c4-95da43690905",
   "metadata": {},
   "outputs": [
    {
     "name": "stdout",
     "output_type": "stream",
     "text": [
      "Actual 4, Correct Prediction 4, False Prediction 0\n",
      "Actual 0, Correct Prediction 0, False Prediction 3\n",
      "Actual 3, Correct Prediction 3, False Prediction 1\n",
      "Actual 3, Correct Prediction 3, False Prediction 4\n",
      "Actual 7, Correct Prediction 7, False Prediction 9\n"
     ]
    }
   ],
   "source": [
    "for ind in indices5_lower:\n",
    "    print(f\"Actual {y_test[ind]}, Correct Prediction {y_pred_lower[ind]}, False Prediction {y_pred_upper[ind]}\")"
   ]
  },
  {
   "cell_type": "markdown",
   "id": "16f42de2-801f-400f-b914-b124f906c57b",
   "metadata": {},
   "source": [
    "Problem 2"
   ]
  },
  {
   "cell_type": "markdown",
   "id": "b9bfc40a-72f8-460b-bbe4-6910da0e2f60",
   "metadata": {},
   "source": [
    "1)"
   ]
  },
  {
   "cell_type": "code",
   "execution_count": 128,
   "id": "f8a7ad8e-dcb6-44fd-8a76-53dc15f0cc8f",
   "metadata": {},
   "outputs": [],
   "source": [
    "from tensorflow.keras.optimizers import Adam"
   ]
  },
  {
   "cell_type": "code",
   "execution_count": 129,
   "id": "049fcc63-134b-4061-bb0e-bb49cdbc1ce8",
   "metadata": {},
   "outputs": [
    {
     "name": "stderr",
     "output_type": "stream",
     "text": [
      "C:\\Users\\vagelis\\anaconda3\\envs\\MLenv\\Lib\\site-packages\\keras\\src\\layers\\reshaping\\flatten.py:37: UserWarning: Do not pass an `input_shape`/`input_dim` argument to a layer. When using Sequential models, prefer using an `Input(shape)` object as the first layer in the model instead.\n",
      "  super().__init__(**kwargs)\n"
     ]
    }
   ],
   "source": [
    "model3 = Sequential([\n",
    "        Flatten(input_shape=(14, 28)),  # Adjusted input shape for cropped images\n",
    "        Dense(128, activation='relu'),\n",
    "        Dense(64, activation='relu'),\n",
    "        Dense(32,activation='relu'),\n",
    "        Dense(10, activation='softmax')  \n",
    "    ])"
   ]
  },
  {
   "cell_type": "code",
   "execution_count": 130,
   "id": "14a58e67-d8f6-4ffd-b18a-f19db51adbd6",
   "metadata": {},
   "outputs": [],
   "source": [
    "model3.compile(optimizer=Adam(learning_rate=0.0001),\n",
    "                  loss='sparse_categorical_crossentropy',\n",
    "                  metrics=['accuracy'])"
   ]
  },
  {
   "cell_type": "code",
   "execution_count": 131,
   "id": "03f24e9b-c432-442c-9a5e-91948580bf0f",
   "metadata": {},
   "outputs": [
    {
     "name": "stdout",
     "output_type": "stream",
     "text": [
      "Epoch 1/15\n",
      "\u001b[1m1563/1563\u001b[0m \u001b[32m━━━━━━━━━━━━━━━━━━━━\u001b[0m\u001b[37m\u001b[0m \u001b[1m10s\u001b[0m 5ms/step - accuracy: 0.5415 - loss: 1.3486 - val_accuracy: 0.7699 - val_loss: 0.6743\n",
      "Epoch 2/15\n",
      "\u001b[1m1563/1563\u001b[0m \u001b[32m━━━━━━━━━━━━━━━━━━━━\u001b[0m\u001b[37m\u001b[0m \u001b[1m10s\u001b[0m 5ms/step - accuracy: 0.7746 - loss: 0.6401 - val_accuracy: 0.7914 - val_loss: 0.5903\n",
      "Epoch 3/15\n",
      "\u001b[1m1563/1563\u001b[0m \u001b[32m━━━━━━━━━━━━━━━━━━━━\u001b[0m\u001b[37m\u001b[0m \u001b[1m8s\u001b[0m 5ms/step - accuracy: 0.7951 - loss: 0.5683 - val_accuracy: 0.8009 - val_loss: 0.5546\n",
      "Epoch 4/15\n",
      "\u001b[1m1563/1563\u001b[0m \u001b[32m━━━━━━━━━━━━━━━━━━━━\u001b[0m\u001b[37m\u001b[0m \u001b[1m6s\u001b[0m 4ms/step - accuracy: 0.8061 - loss: 0.5351 - val_accuracy: 0.8034 - val_loss: 0.5355\n",
      "Epoch 5/15\n",
      "\u001b[1m1563/1563\u001b[0m \u001b[32m━━━━━━━━━━━━━━━━━━━━\u001b[0m\u001b[37m\u001b[0m \u001b[1m11s\u001b[0m 4ms/step - accuracy: 0.8136 - loss: 0.5142 - val_accuracy: 0.8101 - val_loss: 0.5222\n",
      "Epoch 6/15\n",
      "\u001b[1m1563/1563\u001b[0m \u001b[32m━━━━━━━━━━━━━━━━━━━━\u001b[0m\u001b[37m\u001b[0m \u001b[1m7s\u001b[0m 5ms/step - accuracy: 0.8189 - loss: 0.4986 - val_accuracy: 0.8117 - val_loss: 0.5127\n",
      "Epoch 7/15\n",
      "\u001b[1m1563/1563\u001b[0m \u001b[32m━━━━━━━━━━━━━━━━━━━━\u001b[0m\u001b[37m\u001b[0m \u001b[1m7s\u001b[0m 4ms/step - accuracy: 0.8219 - loss: 0.4859 - val_accuracy: 0.8138 - val_loss: 0.5043\n",
      "Epoch 8/15\n",
      "\u001b[1m1563/1563\u001b[0m \u001b[32m━━━━━━━━━━━━━━━━━━━━\u001b[0m\u001b[37m\u001b[0m \u001b[1m11s\u001b[0m 5ms/step - accuracy: 0.8261 - loss: 0.4751 - val_accuracy: 0.8142 - val_loss: 0.4971\n",
      "Epoch 9/15\n",
      "\u001b[1m1563/1563\u001b[0m \u001b[32m━━━━━━━━━━━━━━━━━━━━\u001b[0m\u001b[37m\u001b[0m \u001b[1m6s\u001b[0m 4ms/step - accuracy: 0.8297 - loss: 0.4656 - val_accuracy: 0.8157 - val_loss: 0.4902\n",
      "Epoch 10/15\n",
      "\u001b[1m1563/1563\u001b[0m \u001b[32m━━━━━━━━━━━━━━━━━━━━\u001b[0m\u001b[37m\u001b[0m \u001b[1m6s\u001b[0m 4ms/step - accuracy: 0.8324 - loss: 0.4571 - val_accuracy: 0.8186 - val_loss: 0.4848\n",
      "Epoch 11/15\n",
      "\u001b[1m1563/1563\u001b[0m \u001b[32m━━━━━━━━━━━━━━━━━━━━\u001b[0m\u001b[37m\u001b[0m \u001b[1m6s\u001b[0m 4ms/step - accuracy: 0.8346 - loss: 0.4497 - val_accuracy: 0.8203 - val_loss: 0.4794\n",
      "Epoch 12/15\n",
      "\u001b[1m1563/1563\u001b[0m \u001b[32m━━━━━━━━━━━━━━━━━━━━\u001b[0m\u001b[37m\u001b[0m \u001b[1m10s\u001b[0m 4ms/step - accuracy: 0.8370 - loss: 0.4427 - val_accuracy: 0.8224 - val_loss: 0.4751\n",
      "Epoch 13/15\n",
      "\u001b[1m1563/1563\u001b[0m \u001b[32m━━━━━━━━━━━━━━━━━━━━\u001b[0m\u001b[37m\u001b[0m \u001b[1m6s\u001b[0m 4ms/step - accuracy: 0.8396 - loss: 0.4361 - val_accuracy: 0.8250 - val_loss: 0.4702\n",
      "Epoch 14/15\n",
      "\u001b[1m1563/1563\u001b[0m \u001b[32m━━━━━━━━━━━━━━━━━━━━\u001b[0m\u001b[37m\u001b[0m \u001b[1m11s\u001b[0m 4ms/step - accuracy: 0.8419 - loss: 0.4303 - val_accuracy: 0.8256 - val_loss: 0.4671\n",
      "Epoch 15/15\n",
      "\u001b[1m1563/1563\u001b[0m \u001b[32m━━━━━━━━━━━━━━━━━━━━\u001b[0m\u001b[37m\u001b[0m \u001b[1m10s\u001b[0m 4ms/step - accuracy: 0.8439 - loss: 0.4249 - val_accuracy: 0.8265 - val_loss: 0.4637\n"
     ]
    }
   ],
   "source": [
    "history=model3.fit(X_train_upper, y_train, epochs=15, batch_size=32, validation_data=(X_valid_upper, y_valid))"
   ]
  },
  {
   "cell_type": "code",
   "execution_count": 132,
   "id": "d1b52d3e-2a6b-478e-af86-001c2c740748",
   "metadata": {},
   "outputs": [
    {
     "name": "stdout",
     "output_type": "stream",
     "text": [
      "313/313 - 1s - 2ms/step - accuracy: 0.8191 - loss: 0.4902\n"
     ]
    }
   ],
   "source": [
    "Evaluation = model3.evaluate(X_test_upper, y_test, verbose=2)"
   ]
  },
  {
   "cell_type": "code",
   "execution_count": 133,
   "id": "7cb2a19c-298e-47f3-9cf8-e7bb8cd6f91a",
   "metadata": {},
   "outputs": [
    {
     "name": "stdout",
     "output_type": "stream",
     "text": [
      "\u001b[1m313/313\u001b[0m \u001b[32m━━━━━━━━━━━━━━━━━━━━\u001b[0m\u001b[37m\u001b[0m \u001b[1m1s\u001b[0m 2ms/step   \n"
     ]
    }
   ],
   "source": [
    "model3_predictions=np.argmax(model3.predict(X_test_upper), axis=1)"
   ]
  },
  {
   "cell_type": "code",
   "execution_count": 134,
   "id": "38c6dc79-8d9d-44c4-97e3-b0c36a9c3b90",
   "metadata": {},
   "outputs": [],
   "source": [
    "cl_report_model3 = classification_report(y_test, model3_predictions,output_dict=True)"
   ]
  },
  {
   "cell_type": "code",
   "execution_count": 135,
   "id": "5f39d0e1-395e-46a8-9736-77bf70cb675e",
   "metadata": {},
   "outputs": [
    {
     "data": {
      "text/html": [
       "<div>\n",
       "<style scoped>\n",
       "    .dataframe tbody tr th:only-of-type {\n",
       "        vertical-align: middle;\n",
       "    }\n",
       "\n",
       "    .dataframe tbody tr th {\n",
       "        vertical-align: top;\n",
       "    }\n",
       "\n",
       "    .dataframe thead th {\n",
       "        text-align: right;\n",
       "    }\n",
       "</style>\n",
       "<table border=\"1\" class=\"dataframe\">\n",
       "  <thead>\n",
       "    <tr style=\"text-align: right;\">\n",
       "      <th></th>\n",
       "      <th>0</th>\n",
       "      <th>1</th>\n",
       "      <th>2</th>\n",
       "      <th>3</th>\n",
       "      <th>4</th>\n",
       "      <th>5</th>\n",
       "      <th>6</th>\n",
       "      <th>7</th>\n",
       "      <th>8</th>\n",
       "      <th>9</th>\n",
       "      <th>accuracy</th>\n",
       "      <th>macro avg</th>\n",
       "      <th>weighted avg</th>\n",
       "    </tr>\n",
       "  </thead>\n",
       "  <tbody>\n",
       "    <tr>\n",
       "      <th>precision</th>\n",
       "      <td>0.799578</td>\n",
       "      <td>0.949546</td>\n",
       "      <td>0.695171</td>\n",
       "      <td>0.826471</td>\n",
       "      <td>0.719139</td>\n",
       "      <td>0.953751</td>\n",
       "      <td>0.533333</td>\n",
       "      <td>0.866728</td>\n",
       "      <td>0.946054</td>\n",
       "      <td>0.938754</td>\n",
       "      <td>0.8191</td>\n",
       "      <td>0.822853</td>\n",
       "      <td>0.822853</td>\n",
       "    </tr>\n",
       "    <tr>\n",
       "      <th>recall</th>\n",
       "      <td>0.758000</td>\n",
       "      <td>0.941000</td>\n",
       "      <td>0.691000</td>\n",
       "      <td>0.843000</td>\n",
       "      <td>0.635000</td>\n",
       "      <td>0.928000</td>\n",
       "      <td>0.616000</td>\n",
       "      <td>0.943000</td>\n",
       "      <td>0.947000</td>\n",
       "      <td>0.889000</td>\n",
       "      <td>0.8191</td>\n",
       "      <td>0.819100</td>\n",
       "      <td>0.819100</td>\n",
       "    </tr>\n",
       "    <tr>\n",
       "      <th>f1-score</th>\n",
       "      <td>0.778234</td>\n",
       "      <td>0.945254</td>\n",
       "      <td>0.693079</td>\n",
       "      <td>0.834653</td>\n",
       "      <td>0.674456</td>\n",
       "      <td>0.940699</td>\n",
       "      <td>0.571694</td>\n",
       "      <td>0.903257</td>\n",
       "      <td>0.946527</td>\n",
       "      <td>0.913200</td>\n",
       "      <td>0.8191</td>\n",
       "      <td>0.820105</td>\n",
       "      <td>0.820105</td>\n",
       "    </tr>\n",
       "    <tr>\n",
       "      <th>support</th>\n",
       "      <td>1000.000000</td>\n",
       "      <td>1000.000000</td>\n",
       "      <td>1000.000000</td>\n",
       "      <td>1000.000000</td>\n",
       "      <td>1000.000000</td>\n",
       "      <td>1000.000000</td>\n",
       "      <td>1000.000000</td>\n",
       "      <td>1000.000000</td>\n",
       "      <td>1000.000000</td>\n",
       "      <td>1000.000000</td>\n",
       "      <td>0.8191</td>\n",
       "      <td>10000.000000</td>\n",
       "      <td>10000.000000</td>\n",
       "    </tr>\n",
       "  </tbody>\n",
       "</table>\n",
       "</div>"
      ],
      "text/plain": [
       "                     0            1            2            3            4  \\\n",
       "precision     0.799578     0.949546     0.695171     0.826471     0.719139   \n",
       "recall        0.758000     0.941000     0.691000     0.843000     0.635000   \n",
       "f1-score      0.778234     0.945254     0.693079     0.834653     0.674456   \n",
       "support    1000.000000  1000.000000  1000.000000  1000.000000  1000.000000   \n",
       "\n",
       "                     5            6            7            8            9  \\\n",
       "precision     0.953751     0.533333     0.866728     0.946054     0.938754   \n",
       "recall        0.928000     0.616000     0.943000     0.947000     0.889000   \n",
       "f1-score      0.940699     0.571694     0.903257     0.946527     0.913200   \n",
       "support    1000.000000  1000.000000  1000.000000  1000.000000  1000.000000   \n",
       "\n",
       "           accuracy     macro avg  weighted avg  \n",
       "precision    0.8191      0.822853      0.822853  \n",
       "recall       0.8191      0.819100      0.819100  \n",
       "f1-score     0.8191      0.820105      0.820105  \n",
       "support      0.8191  10000.000000  10000.000000  "
      ]
     },
     "execution_count": 135,
     "metadata": {},
     "output_type": "execute_result"
    }
   ],
   "source": [
    "pd.DataFrame(cl_report_model3)"
   ]
  },
  {
   "cell_type": "code",
   "execution_count": 136,
   "id": "12a925e6-ba28-4262-a28e-cf8b98be3d6d",
   "metadata": {},
   "outputs": [
    {
     "data": {
      "text/plain": [
       "({'verbose': 'auto', 'epochs': 15, 'steps': 1563},\n",
       " [0, 1, 2, 3, 4, 5, 6, 7, 8, 9, 10, 11, 12, 13, 14])"
      ]
     },
     "execution_count": 136,
     "metadata": {},
     "output_type": "execute_result"
    }
   ],
   "source": [
    "history.params,history.epoch"
   ]
  },
  {
   "cell_type": "code",
   "execution_count": 164,
   "id": "1237470f-aa82-4e08-9dad-ecaf54e9d860",
   "metadata": {},
   "outputs": [],
   "source": [
    "plt.style.use(\"ggplot\")\n"
   ]
  },
  {
   "cell_type": "code",
   "execution_count": 210,
   "id": "3d453dc7-fdd7-41ee-b120-5b7716711905",
   "metadata": {},
   "outputs": [],
   "source": [
    "# Get best epoch (lowest validation loss)\n",
    "best_epoch_base = np.argmin(history.history['val_loss'])"
   ]
  },
  {
   "cell_type": "code",
   "execution_count": 255,
   "id": "9ff1231e-416d-4e84-88e0-d2c9eba69613",
   "metadata": {},
   "outputs": [
    {
     "data": {
      "text/plain": [
       "14"
      ]
     },
     "execution_count": 255,
     "metadata": {},
     "output_type": "execute_result"
    }
   ],
   "source": [
    "best_epoch_base"
   ]
  },
  {
   "cell_type": "code",
   "execution_count": 239,
   "id": "a5aed034-25e6-43e6-93a3-7b3142389e2d",
   "metadata": {},
   "outputs": [
    {
     "data": {
      "text/plain": [
       "<Figure size 800x1000 with 0 Axes>"
      ]
     },
     "metadata": {},
     "output_type": "display_data"
    },
    {
     "data": {
      "image/png": "[encoded data removed]",
      "text/plain": [
       "<Figure size 640x480 with 1 Axes>"
      ]
     },
     "metadata": {},
     "output_type": "display_data"
    }
   ],
   "source": [
    "plt.figure(figsize=(8,10))\n",
    "pd.DataFrame(history.history).plot( xlim=[0, 14], ylim=[0, 1], grid=True, xlabel=\"Epoch\", style=[\"r--\", \"r--.\", \"b-\", \"b-*\"],linewidth=1)\n",
    "plt.plot(best_epoch_base,min(history.history[\"val_loss\"]),\"ro\")\n",
    "plt.vlines(best_epoch_base,0,min(history.history['val_loss']), linestyle=\"--\", color=\"red\", label=f\"Best Epoch: {best_epoch_base}\",linewidth=1.5)\n",
    "plt.legend(loc=\"lower left\") \n",
    "plt.title(\"Base Model\")\n",
    "plt.show()"
   ]
  },
  {
   "cell_type": "markdown",
   "id": "1fe5e7b8-ba75-46e0-85b2-99d63e67a959",
   "metadata": {},
   "source": [
    "2)"
   ]
  },
  {
   "cell_type": "code",
   "execution_count": 139,
   "id": "fca61491-024d-4dba-9a59-a39cb44a6de4",
   "metadata": {},
   "outputs": [],
   "source": [
    "from tensorflow.keras.callbacks import EarlyStopping"
   ]
  },
  {
   "cell_type": "code",
   "execution_count": 140,
   "id": "2f417b0a-50fa-49b2-af3d-e2d0a642031d",
   "metadata": {},
   "outputs": [],
   "source": [
    "callback=EarlyStopping(patience=2,monitor=\"val_loss\")"
   ]
  },
  {
   "cell_type": "code",
   "execution_count": 240,
   "id": "05b8c922-4f28-445a-bd66-235bdec4a8cd",
   "metadata": {},
   "outputs": [
    {
     "name": "stdout",
     "output_type": "stream",
     "text": [
      "Epoch 1/15\n",
      "\u001b[1m1563/1563\u001b[0m \u001b[32m━━━━━━━━━━━━━━━━━━━━\u001b[0m\u001b[37m\u001b[0m \u001b[1m8s\u001b[0m 5ms/step - accuracy: 0.8663 - loss: 0.3618 - val_accuracy: 0.8388 - val_loss: 0.4366\n",
      "Epoch 2/15\n",
      "\u001b[1m1563/1563\u001b[0m \u001b[32m━━━━━━━━━━━━━━━━━━━━\u001b[0m\u001b[37m\u001b[0m \u001b[1m7s\u001b[0m 4ms/step - accuracy: 0.8681 - loss: 0.3588 - val_accuracy: 0.8408 - val_loss: 0.4353\n",
      "Epoch 3/15\n",
      "\u001b[1m1563/1563\u001b[0m \u001b[32m━━━━━━━━━━━━━━━━━━━━\u001b[0m\u001b[37m\u001b[0m \u001b[1m7s\u001b[0m 4ms/step - accuracy: 0.8690 - loss: 0.3558 - val_accuracy: 0.8408 - val_loss: 0.4344\n",
      "Epoch 4/15\n",
      "\u001b[1m1563/1563\u001b[0m \u001b[32m━━━━━━━━━━━━━━━━━━━━\u001b[0m\u001b[37m\u001b[0m \u001b[1m7s\u001b[0m 4ms/step - accuracy: 0.8705 - loss: 0.3529 - val_accuracy: 0.8424 - val_loss: 0.4332\n",
      "Epoch 5/15\n",
      "\u001b[1m1563/1563\u001b[0m \u001b[32m━━━━━━━━━━━━━━━━━━━━\u001b[0m\u001b[37m\u001b[0m \u001b[1m6s\u001b[0m 4ms/step - accuracy: 0.8710 - loss: 0.3500 - val_accuracy: 0.8431 - val_loss: 0.4332\n",
      "Epoch 6/15\n",
      "\u001b[1m1563/1563\u001b[0m \u001b[32m━━━━━━━━━━━━━━━━━━━━\u001b[0m\u001b[37m\u001b[0m \u001b[1m7s\u001b[0m 4ms/step - accuracy: 0.8720 - loss: 0.3473 - val_accuracy: 0.8432 - val_loss: 0.4323\n",
      "Epoch 7/15\n",
      "\u001b[1m1563/1563\u001b[0m \u001b[32m━━━━━━━━━━━━━━━━━━━━\u001b[0m\u001b[37m\u001b[0m \u001b[1m6s\u001b[0m 4ms/step - accuracy: 0.8738 - loss: 0.3446 - val_accuracy: 0.8439 - val_loss: 0.4317\n",
      "Epoch 8/15\n",
      "\u001b[1m1563/1563\u001b[0m \u001b[32m━━━━━━━━━━━━━━━━━━━━\u001b[0m\u001b[37m\u001b[0m \u001b[1m7s\u001b[0m 4ms/step - accuracy: 0.8745 - loss: 0.3418 - val_accuracy: 0.8444 - val_loss: 0.4312\n",
      "Epoch 9/15\n",
      "\u001b[1m1563/1563\u001b[0m \u001b[32m━━━━━━━━━━━━━━━━━━━━\u001b[0m\u001b[37m\u001b[0m \u001b[1m10s\u001b[0m 4ms/step - accuracy: 0.8753 - loss: 0.3391 - val_accuracy: 0.8437 - val_loss: 0.4315\n",
      "Epoch 10/15\n",
      "\u001b[1m1563/1563\u001b[0m \u001b[32m━━━━━━━━━━━━━━━━━━━━\u001b[0m\u001b[37m\u001b[0m \u001b[1m7s\u001b[0m 5ms/step - accuracy: 0.8763 - loss: 0.3364 - val_accuracy: 0.8440 - val_loss: 0.4316\n"
     ]
    }
   ],
   "source": [
    "history1=model3.fit(X_train_upper, y_train, epochs=15, batch_size=32, validation_data=(X_valid_upper, y_valid),callbacks=[callback])"
   ]
  },
  {
   "cell_type": "code",
   "execution_count": 241,
   "id": "1b9ac2fa-88d2-4d6f-942c-d03f64b2caff",
   "metadata": {},
   "outputs": [
    {
     "name": "stdout",
     "output_type": "stream",
     "text": [
      "\u001b[1m313/313\u001b[0m \u001b[32m━━━━━━━━━━━━━━━━━━━━\u001b[0m\u001b[37m\u001b[0m \u001b[1m1s\u001b[0m 2ms/step  \n"
     ]
    }
   ],
   "source": [
    "model3_callback_predictions=np.argmax(model3.predict(X_test_upper), axis=1)"
   ]
  },
  {
   "cell_type": "code",
   "execution_count": 242,
   "id": "08bd7726-8a3c-4a06-8c62-8bb282a0c2c3",
   "metadata": {},
   "outputs": [],
   "source": [
    "cl_report_model3_callback = classification_report(y_test, model3_callback_predictions,output_dict=True)"
   ]
  },
  {
   "cell_type": "code",
   "execution_count": 243,
   "id": "4baa7a98-c0fa-4b0d-9359-be16854753b7",
   "metadata": {},
   "outputs": [
    {
     "data": {
      "text/html": [
       "<div>\n",
       "<style scoped>\n",
       "    .dataframe tbody tr th:only-of-type {\n",
       "        vertical-align: middle;\n",
       "    }\n",
       "\n",
       "    .dataframe tbody tr th {\n",
       "        vertical-align: top;\n",
       "    }\n",
       "\n",
       "    .dataframe thead th {\n",
       "        text-align: right;\n",
       "    }\n",
       "</style>\n",
       "<table border=\"1\" class=\"dataframe\">\n",
       "  <thead>\n",
       "    <tr style=\"text-align: right;\">\n",
       "      <th></th>\n",
       "      <th>0</th>\n",
       "      <th>1</th>\n",
       "      <th>2</th>\n",
       "      <th>3</th>\n",
       "      <th>4</th>\n",
       "      <th>5</th>\n",
       "      <th>6</th>\n",
       "      <th>7</th>\n",
       "      <th>8</th>\n",
       "      <th>9</th>\n",
       "      <th>accuracy</th>\n",
       "      <th>macro avg</th>\n",
       "      <th>weighted avg</th>\n",
       "    </tr>\n",
       "  </thead>\n",
       "  <tbody>\n",
       "    <tr>\n",
       "      <th>precision</th>\n",
       "      <td>0.815733</td>\n",
       "      <td>0.945491</td>\n",
       "      <td>0.738683</td>\n",
       "      <td>0.841131</td>\n",
       "      <td>0.733402</td>\n",
       "      <td>0.961698</td>\n",
       "      <td>0.577452</td>\n",
       "      <td>0.866667</td>\n",
       "      <td>0.947577</td>\n",
       "      <td>0.944563</td>\n",
       "      <td>0.8351</td>\n",
       "      <td>0.837240</td>\n",
       "      <td>0.837240</td>\n",
       "    </tr>\n",
       "    <tr>\n",
       "      <th>recall</th>\n",
       "      <td>0.757000</td>\n",
       "      <td>0.954000</td>\n",
       "      <td>0.718000</td>\n",
       "      <td>0.863000</td>\n",
       "      <td>0.707000</td>\n",
       "      <td>0.929000</td>\n",
       "      <td>0.630000</td>\n",
       "      <td>0.949000</td>\n",
       "      <td>0.958000</td>\n",
       "      <td>0.886000</td>\n",
       "      <td>0.8351</td>\n",
       "      <td>0.835100</td>\n",
       "      <td>0.835100</td>\n",
       "    </tr>\n",
       "    <tr>\n",
       "      <th>f1-score</th>\n",
       "      <td>0.785270</td>\n",
       "      <td>0.949726</td>\n",
       "      <td>0.728195</td>\n",
       "      <td>0.851925</td>\n",
       "      <td>0.719959</td>\n",
       "      <td>0.945066</td>\n",
       "      <td>0.602582</td>\n",
       "      <td>0.905967</td>\n",
       "      <td>0.952760</td>\n",
       "      <td>0.914345</td>\n",
       "      <td>0.8351</td>\n",
       "      <td>0.835579</td>\n",
       "      <td>0.835579</td>\n",
       "    </tr>\n",
       "    <tr>\n",
       "      <th>support</th>\n",
       "      <td>1000.000000</td>\n",
       "      <td>1000.000000</td>\n",
       "      <td>1000.000000</td>\n",
       "      <td>1000.000000</td>\n",
       "      <td>1000.000000</td>\n",
       "      <td>1000.000000</td>\n",
       "      <td>1000.000000</td>\n",
       "      <td>1000.000000</td>\n",
       "      <td>1000.000000</td>\n",
       "      <td>1000.000000</td>\n",
       "      <td>0.8351</td>\n",
       "      <td>10000.000000</td>\n",
       "      <td>10000.000000</td>\n",
       "    </tr>\n",
       "  </tbody>\n",
       "</table>\n",
       "</div>"
      ],
      "text/plain": [
       "                     0            1            2            3            4  \\\n",
       "precision     0.815733     0.945491     0.738683     0.841131     0.733402   \n",
       "recall        0.757000     0.954000     0.718000     0.863000     0.707000   \n",
       "f1-score      0.785270     0.949726     0.728195     0.851925     0.719959   \n",
       "support    1000.000000  1000.000000  1000.000000  1000.000000  1000.000000   \n",
       "\n",
       "                     5            6            7            8            9  \\\n",
       "precision     0.961698     0.577452     0.866667     0.947577     0.944563   \n",
       "recall        0.929000     0.630000     0.949000     0.958000     0.886000   \n",
       "f1-score      0.945066     0.602582     0.905967     0.952760     0.914345   \n",
       "support    1000.000000  1000.000000  1000.000000  1000.000000  1000.000000   \n",
       "\n",
       "           accuracy     macro avg  weighted avg  \n",
       "precision    0.8351      0.837240      0.837240  \n",
       "recall       0.8351      0.835100      0.835100  \n",
       "f1-score     0.8351      0.835579      0.835579  \n",
       "support      0.8351  10000.000000  10000.000000  "
      ]
     },
     "execution_count": 243,
     "metadata": {},
     "output_type": "execute_result"
    }
   ],
   "source": [
    "pd.DataFrame(cl_report_model3_callback)"
   ]
  },
  {
   "cell_type": "code",
   "execution_count": 244,
   "id": "72a1237f-34df-40af-ae9f-74550a45113e",
   "metadata": {},
   "outputs": [],
   "source": [
    "# Get best epoch (lowest validation loss)\n",
    "best_epoch_erstop = np.argmin(history1.history['val_loss'])"
   ]
  },
  {
   "cell_type": "code",
   "execution_count": 245,
   "id": "576d3eeb-5727-42ba-b96d-4761e0d46d54",
   "metadata": {},
   "outputs": [
    {
     "data": {
      "text/plain": [
       "7"
      ]
     },
     "execution_count": 245,
     "metadata": {},
     "output_type": "execute_result"
    }
   ],
   "source": [
    "best_epoch_erstop"
   ]
  },
  {
   "cell_type": "code",
   "execution_count": 247,
   "id": "df2184af-344b-4f4e-a59d-f3b0cbc634a0",
   "metadata": {},
   "outputs": [
    {
     "data": {
      "image/png": "[encoded data removed]",
      "text/plain": [
       "<Figure size 800x500 with 1 Axes>"
      ]
     },
     "metadata": {},
     "output_type": "display_data"
    }
   ],
   "source": [
    "pd.DataFrame(history1.history).plot(\n",
    "    figsize=(8, 5), xlim=[0, 9], ylim=[0, 1], grid=True, xlabel=\"Epoch\",\n",
    "    style=[\"r--\", \"r--.\", \"b-\", \"b-*\"],linewidth=1)\n",
    "plt.plot(best_epoch_erstop,min(history1.history['val_loss']),\"ro\")\n",
    "plt.vlines(best_epoch_erstop,0,min(history1.history['val_loss']), linestyle=\"--\", color=\"red\", label=f\"Best Epoch: {best_epoch_erstop}\",linewidth=1.5)\n",
    "plt.legend(loc=\"lower left\")\n",
    "plt.title(\"Base Model with Early stopping\")\n",
    "plt.show()"
   ]
  },
  {
   "cell_type": "markdown",
   "id": "1535efa1-43f7-4e78-a19f-37126c818f51",
   "metadata": {},
   "source": [
    "3)"
   ]
  },
  {
   "cell_type": "code",
   "execution_count": 146,
   "id": "ce07d159-0bff-4120-b75e-ee733351aeb2",
   "metadata": {},
   "outputs": [],
   "source": [
    "from tensorflow.keras.layers import BatchNormalization"
   ]
  },
  {
   "cell_type": "code",
   "execution_count": 147,
   "id": "627751ca-79ea-47aa-ac71-4085ed7ce054",
   "metadata": {},
   "outputs": [
    {
     "name": "stderr",
     "output_type": "stream",
     "text": [
      "C:\\Users\\vagelis\\anaconda3\\envs\\MLenv\\Lib\\site-packages\\keras\\src\\layers\\reshaping\\flatten.py:37: UserWarning: Do not pass an `input_shape`/`input_dim` argument to a layer. When using Sequential models, prefer using an `Input(shape)` object as the first layer in the model instead.\n",
      "  super().__init__(**kwargs)\n"
     ]
    }
   ],
   "source": [
    "model4 = Sequential([\n",
    "        Flatten(input_shape=(14, 28)),  \n",
    "        Dense(128, activation='relu',use_bias=False),\n",
    "        BatchNormalization(),\n",
    "        Dense(64, activation='relu',use_bias=False),\n",
    "        BatchNormalization(),\n",
    "        Dense(32,activation='relu',use_bias=False),\n",
    "        BatchNormalization(),\n",
    "        Dense(10, activation='softmax',use_bias=False)  \n",
    "    ])"
   ]
  },
  {
   "cell_type": "code",
   "execution_count": 148,
   "id": "f5fa00f7-a1fe-4942-8ee7-9593bbf5b054",
   "metadata": {},
   "outputs": [],
   "source": [
    "model4.compile(optimizer=Adam(learning_rate=0.0001),  \n",
    "                  loss='sparse_categorical_crossentropy',  \n",
    "                  metrics=['accuracy'])"
   ]
  },
  {
   "cell_type": "code",
   "execution_count": 149,
   "id": "668d8add-0f7d-484c-98a2-f5cbf4963af0",
   "metadata": {},
   "outputs": [
    {
     "name": "stdout",
     "output_type": "stream",
     "text": [
      "Epoch 1/15\n",
      "\u001b[1m1563/1563\u001b[0m \u001b[32m━━━━━━━━━━━━━━━━━━━━\u001b[0m\u001b[37m\u001b[0m \u001b[1m13s\u001b[0m 5ms/step - accuracy: 0.5622 - loss: 1.3601 - val_accuracy: 0.7817 - val_loss: 0.6499\n",
      "Epoch 2/15\n",
      "\u001b[1m1563/1563\u001b[0m \u001b[32m━━━━━━━━━━━━━━━━━━━━\u001b[0m\u001b[37m\u001b[0m \u001b[1m9s\u001b[0m 5ms/step - accuracy: 0.7772 - loss: 0.6630 - val_accuracy: 0.8041 - val_loss: 0.5574\n",
      "Epoch 3/15\n",
      "\u001b[1m1563/1563\u001b[0m \u001b[32m━━━━━━━━━━━━━━━━━━━━\u001b[0m\u001b[37m\u001b[0m \u001b[1m7s\u001b[0m 4ms/step - accuracy: 0.7967 - loss: 0.5741 - val_accuracy: 0.8104 - val_loss: 0.5225\n",
      "Epoch 4/15\n",
      "\u001b[1m1563/1563\u001b[0m \u001b[32m━━━━━━━━━━━━━━━━━━━━\u001b[0m\u001b[37m\u001b[0m \u001b[1m6s\u001b[0m 4ms/step - accuracy: 0.8112 - loss: 0.5259 - val_accuracy: 0.8184 - val_loss: 0.4996\n",
      "Epoch 5/15\n",
      "\u001b[1m1563/1563\u001b[0m \u001b[32m━━━━━━━━━━━━━━━━━━━━\u001b[0m\u001b[37m\u001b[0m \u001b[1m6s\u001b[0m 4ms/step - accuracy: 0.8214 - loss: 0.4935 - val_accuracy: 0.8226 - val_loss: 0.4846\n",
      "Epoch 6/15\n",
      "\u001b[1m1563/1563\u001b[0m \u001b[32m━━━━━━━━━━━━━━━━━━━━\u001b[0m\u001b[37m\u001b[0m \u001b[1m11s\u001b[0m 4ms/step - accuracy: 0.8307 - loss: 0.4673 - val_accuracy: 0.8242 - val_loss: 0.4754\n",
      "Epoch 7/15\n",
      "\u001b[1m1563/1563\u001b[0m \u001b[32m━━━━━━━━━━━━━━━━━━━━\u001b[0m\u001b[37m\u001b[0m \u001b[1m7s\u001b[0m 4ms/step - accuracy: 0.8386 - loss: 0.4469 - val_accuracy: 0.8253 - val_loss: 0.4696\n",
      "Epoch 8/15\n",
      "\u001b[1m1563/1563\u001b[0m \u001b[32m━━━━━━━━━━━━━━━━━━━━\u001b[0m\u001b[37m\u001b[0m \u001b[1m7s\u001b[0m 4ms/step - accuracy: 0.8448 - loss: 0.4280 - val_accuracy: 0.8265 - val_loss: 0.4670\n",
      "Epoch 9/15\n",
      "\u001b[1m1563/1563\u001b[0m \u001b[32m━━━━━━━━━━━━━━━━━━━━\u001b[0m\u001b[37m\u001b[0m \u001b[1m7s\u001b[0m 4ms/step - accuracy: 0.8512 - loss: 0.4120 - val_accuracy: 0.8299 - val_loss: 0.4626\n",
      "Epoch 10/15\n",
      "\u001b[1m1563/1563\u001b[0m \u001b[32m━━━━━━━━━━━━━━━━━━━━\u001b[0m\u001b[37m\u001b[0m \u001b[1m11s\u001b[0m 5ms/step - accuracy: 0.8582 - loss: 0.3976 - val_accuracy: 0.8320 - val_loss: 0.4616\n",
      "Epoch 11/15\n",
      "\u001b[1m1563/1563\u001b[0m \u001b[32m━━━━━━━━━━━━━━━━━━━━\u001b[0m\u001b[37m\u001b[0m \u001b[1m9s\u001b[0m 5ms/step - accuracy: 0.8623 - loss: 0.3835 - val_accuracy: 0.8323 - val_loss: 0.4628\n",
      "Epoch 12/15\n",
      "\u001b[1m1563/1563\u001b[0m \u001b[32m━━━━━━━━━━━━━━━━━━━━\u001b[0m\u001b[37m\u001b[0m \u001b[1m6s\u001b[0m 4ms/step - accuracy: 0.8664 - loss: 0.3708 - val_accuracy: 0.8320 - val_loss: 0.4644\n",
      "Epoch 13/15\n",
      "\u001b[1m1563/1563\u001b[0m \u001b[32m━━━━━━━━━━━━━━━━━━━━\u001b[0m\u001b[37m\u001b[0m \u001b[1m7s\u001b[0m 4ms/step - accuracy: 0.8711 - loss: 0.3597 - val_accuracy: 0.8310 - val_loss: 0.4652\n",
      "Epoch 14/15\n",
      "\u001b[1m1563/1563\u001b[0m \u001b[32m━━━━━━━━━━━━━━━━━━━━\u001b[0m\u001b[37m\u001b[0m \u001b[1m6s\u001b[0m 4ms/step - accuracy: 0.8749 - loss: 0.3483 - val_accuracy: 0.8314 - val_loss: 0.4673\n",
      "Epoch 15/15\n",
      "\u001b[1m1563/1563\u001b[0m \u001b[32m━━━━━━━━━━━━━━━━━━━━\u001b[0m\u001b[37m\u001b[0m \u001b[1m11s\u001b[0m 4ms/step - accuracy: 0.8788 - loss: 0.3389 - val_accuracy: 0.8326 - val_loss: 0.4686\n"
     ]
    }
   ],
   "source": [
    "history2=model4.fit(X_train_upper, y_train, epochs=15, batch_size=32, validation_data=(X_valid_upper, y_valid))"
   ]
  },
  {
   "cell_type": "code",
   "execution_count": 150,
   "id": "5d16a796-dab1-44e2-a5a1-e531a6e12d21",
   "metadata": {},
   "outputs": [
    {
     "name": "stdout",
     "output_type": "stream",
     "text": [
      "\u001b[1m313/313\u001b[0m \u001b[32m━━━━━━━━━━━━━━━━━━━━\u001b[0m\u001b[37m\u001b[0m \u001b[1m1s\u001b[0m 2ms/step   \n"
     ]
    }
   ],
   "source": [
    "model4_predictions=np.argmax(model4.predict(X_test_upper), axis=1)"
   ]
  },
  {
   "cell_type": "code",
   "execution_count": 151,
   "id": "ac5d40f0-1141-4bcc-9f54-2db634ebfecb",
   "metadata": {},
   "outputs": [],
   "source": [
    "cl_report_model4 = classification_report(y_test, model4_predictions,output_dict=True)"
   ]
  },
  {
   "cell_type": "code",
   "execution_count": 152,
   "id": "4cee830e-c951-4e7c-ae66-37fc3ffebabe",
   "metadata": {},
   "outputs": [
    {
     "data": {
      "text/html": [
       "<div>\n",
       "<style scoped>\n",
       "    .dataframe tbody tr th:only-of-type {\n",
       "        vertical-align: middle;\n",
       "    }\n",
       "\n",
       "    .dataframe tbody tr th {\n",
       "        vertical-align: top;\n",
       "    }\n",
       "\n",
       "    .dataframe thead th {\n",
       "        text-align: right;\n",
       "    }\n",
       "</style>\n",
       "<table border=\"1\" class=\"dataframe\">\n",
       "  <thead>\n",
       "    <tr style=\"text-align: right;\">\n",
       "      <th></th>\n",
       "      <th>0</th>\n",
       "      <th>1</th>\n",
       "      <th>2</th>\n",
       "      <th>3</th>\n",
       "      <th>4</th>\n",
       "      <th>5</th>\n",
       "      <th>6</th>\n",
       "      <th>7</th>\n",
       "      <th>8</th>\n",
       "      <th>9</th>\n",
       "      <th>accuracy</th>\n",
       "      <th>macro avg</th>\n",
       "      <th>weighted avg</th>\n",
       "    </tr>\n",
       "  </thead>\n",
       "  <tbody>\n",
       "    <tr>\n",
       "      <th>precision</th>\n",
       "      <td>0.774949</td>\n",
       "      <td>0.944167</td>\n",
       "      <td>0.677298</td>\n",
       "      <td>0.852577</td>\n",
       "      <td>0.700488</td>\n",
       "      <td>0.936937</td>\n",
       "      <td>0.585954</td>\n",
       "      <td>0.873001</td>\n",
       "      <td>0.956434</td>\n",
       "      <td>0.936909</td>\n",
       "      <td>0.8233</td>\n",
       "      <td>0.823871</td>\n",
       "      <td>0.823871</td>\n",
       "    </tr>\n",
       "    <tr>\n",
       "      <th>recall</th>\n",
       "      <td>0.761000</td>\n",
       "      <td>0.947000</td>\n",
       "      <td>0.722000</td>\n",
       "      <td>0.827000</td>\n",
       "      <td>0.718000</td>\n",
       "      <td>0.936000</td>\n",
       "      <td>0.559000</td>\n",
       "      <td>0.928000</td>\n",
       "      <td>0.944000</td>\n",
       "      <td>0.891000</td>\n",
       "      <td>0.8233</td>\n",
       "      <td>0.823300</td>\n",
       "      <td>0.823300</td>\n",
       "    </tr>\n",
       "    <tr>\n",
       "      <th>f1-score</th>\n",
       "      <td>0.767911</td>\n",
       "      <td>0.945582</td>\n",
       "      <td>0.698935</td>\n",
       "      <td>0.839594</td>\n",
       "      <td>0.709136</td>\n",
       "      <td>0.936468</td>\n",
       "      <td>0.572160</td>\n",
       "      <td>0.899661</td>\n",
       "      <td>0.950176</td>\n",
       "      <td>0.913378</td>\n",
       "      <td>0.8233</td>\n",
       "      <td>0.823300</td>\n",
       "      <td>0.823300</td>\n",
       "    </tr>\n",
       "    <tr>\n",
       "      <th>support</th>\n",
       "      <td>1000.000000</td>\n",
       "      <td>1000.000000</td>\n",
       "      <td>1000.000000</td>\n",
       "      <td>1000.000000</td>\n",
       "      <td>1000.000000</td>\n",
       "      <td>1000.000000</td>\n",
       "      <td>1000.000000</td>\n",
       "      <td>1000.000000</td>\n",
       "      <td>1000.000000</td>\n",
       "      <td>1000.000000</td>\n",
       "      <td>0.8233</td>\n",
       "      <td>10000.000000</td>\n",
       "      <td>10000.000000</td>\n",
       "    </tr>\n",
       "  </tbody>\n",
       "</table>\n",
       "</div>"
      ],
      "text/plain": [
       "                     0            1            2            3            4  \\\n",
       "precision     0.774949     0.944167     0.677298     0.852577     0.700488   \n",
       "recall        0.761000     0.947000     0.722000     0.827000     0.718000   \n",
       "f1-score      0.767911     0.945582     0.698935     0.839594     0.709136   \n",
       "support    1000.000000  1000.000000  1000.000000  1000.000000  1000.000000   \n",
       "\n",
       "                     5            6            7            8            9  \\\n",
       "precision     0.936937     0.585954     0.873001     0.956434     0.936909   \n",
       "recall        0.936000     0.559000     0.928000     0.944000     0.891000   \n",
       "f1-score      0.936468     0.572160     0.899661     0.950176     0.913378   \n",
       "support    1000.000000  1000.000000  1000.000000  1000.000000  1000.000000   \n",
       "\n",
       "           accuracy     macro avg  weighted avg  \n",
       "precision    0.8233      0.823871      0.823871  \n",
       "recall       0.8233      0.823300      0.823300  \n",
       "f1-score     0.8233      0.823300      0.823300  \n",
       "support      0.8233  10000.000000  10000.000000  "
      ]
     },
     "execution_count": 152,
     "metadata": {},
     "output_type": "execute_result"
    }
   ],
   "source": [
    "pd.DataFrame(cl_report_model4)"
   ]
  },
  {
   "cell_type": "code",
   "execution_count": 230,
   "id": "c00769c8-34e1-486a-8a52-025418eec1af",
   "metadata": {},
   "outputs": [],
   "source": [
    "best_epoch_batchnorm = np.argmin(history2.history['val_loss'])"
   ]
  },
  {
   "cell_type": "code",
   "execution_count": 254,
   "id": "2ebb015e-11d3-40c4-91dc-6cbe5db7da56",
   "metadata": {},
   "outputs": [
    {
     "data": {
      "text/plain": [
       "9"
      ]
     },
     "execution_count": 254,
     "metadata": {},
     "output_type": "execute_result"
    }
   ],
   "source": [
    "best_epoch_batchnorm"
   ]
  },
  {
   "cell_type": "code",
   "execution_count": 235,
   "id": "28eba3a3-93a9-477e-a5c5-f7eadc092f1d",
   "metadata": {},
   "outputs": [
    {
     "data": {
      "image/png": "[encoded data removed]",
      "text/plain": [
       "<Figure size 800x500 with 1 Axes>"
      ]
     },
     "metadata": {},
     "output_type": "display_data"
    }
   ],
   "source": [
    "pd.DataFrame(history2.history).plot(\n",
    "    figsize=(8, 5), xlim=[0, 14], ylim=[0, 1], grid=True, xlabel=\"Epoch\",linewidth=1,\n",
    "    style=[\"r--\", \"r--.\", \"b-\", \"b-*\"])\n",
    "plt.vlines(best_epoch_batchnorm,0,min(history2.history['val_loss']), linestyle=\"--\", color=\"red\", label=f\"Best Epoch: {best_epoch_batchnorm}\",linewidth=1.5)\n",
    "plt.plot(best_epoch_batchnorm,min(history2.history['val_loss']),\"ro\")\n",
    "plt.legend(loc=\"lower left\")\n",
    "plt.xticks([0,2,4,6,8,9,10,12,14])\n",
    "plt.title(\"Base Model with Batch normalization layers\")\n",
    "plt.show()"
   ]
  },
  {
   "cell_type": "markdown",
   "id": "2ceb43da-7c0a-4fa4-85bf-7a4b968aca70",
   "metadata": {},
   "source": [
    "4)"
   ]
  },
  {
   "cell_type": "code",
   "execution_count": 154,
   "id": "5eae60d3-8427-4293-bb05-62f13683f517",
   "metadata": {},
   "outputs": [],
   "source": [
    "from tensorflow.keras.layers import Dropout"
   ]
  },
  {
   "cell_type": "code",
   "execution_count": 155,
   "id": "50aaaf4b-779c-4aca-83ba-17c0a3bba1ee",
   "metadata": {},
   "outputs": [
    {
     "name": "stderr",
     "output_type": "stream",
     "text": [
      "C:\\Users\\vagelis\\anaconda3\\envs\\MLenv\\Lib\\site-packages\\keras\\src\\layers\\reshaping\\flatten.py:37: UserWarning: Do not pass an `input_shape`/`input_dim` argument to a layer. When using Sequential models, prefer using an `Input(shape)` object as the first layer in the model instead.\n",
      "  super().__init__(**kwargs)\n"
     ]
    }
   ],
   "source": [
    "model5 = Sequential([\n",
    "        Flatten(input_shape=(14, 28)),  \n",
    "        Dense(128, activation='relu'),\n",
    "        Dropout(rate=0.5),\n",
    "        Dense(64, activation='relu'),\n",
    "        Dropout(rate=0.5),\n",
    "        Dense(32,activation='relu'),\n",
    "        Dropout(rate=0.5),\n",
    "        Dense(10, activation='softmax')  \n",
    "    ])"
   ]
  },
  {
   "cell_type": "code",
   "execution_count": 156,
   "id": "7d4dbf68-7f9b-4888-8ab5-2ceb344e0113",
   "metadata": {},
   "outputs": [],
   "source": [
    "model5.compile(optimizer=Adam(learning_rate=0.0001),  \n",
    "                  loss='sparse_categorical_crossentropy',  \n",
    "                  metrics=['accuracy'])"
   ]
  },
  {
   "cell_type": "code",
   "execution_count": 157,
   "id": "168c3f54-6821-45df-ba18-37ff4d82689a",
   "metadata": {},
   "outputs": [
    {
     "name": "stdout",
     "output_type": "stream",
     "text": [
      "Epoch 1/15\n",
      "\u001b[1m1563/1563\u001b[0m \u001b[32m━━━━━━━━━━━━━━━━━━━━\u001b[0m\u001b[37m\u001b[0m \u001b[1m10s\u001b[0m 5ms/step - accuracy: 0.1923 - loss: 2.1655 - val_accuracy: 0.5578 - val_loss: 1.2888\n",
      "Epoch 2/15\n",
      "\u001b[1m1563/1563\u001b[0m \u001b[32m━━━━━━━━━━━━━━━━━━━━\u001b[0m\u001b[37m\u001b[0m \u001b[1m11s\u001b[0m 5ms/step - accuracy: 0.4149 - loss: 1.5343 - val_accuracy: 0.6656 - val_loss: 0.9898\n",
      "Epoch 3/15\n",
      "\u001b[1m1563/1563\u001b[0m \u001b[32m━━━━━━━━━━━━━━━━━━━━\u001b[0m\u001b[37m\u001b[0m \u001b[1m7s\u001b[0m 4ms/step - accuracy: 0.5146 - loss: 1.2737 - val_accuracy: 0.7137 - val_loss: 0.8520\n",
      "Epoch 4/15\n",
      "\u001b[1m1563/1563\u001b[0m \u001b[32m━━━━━━━━━━━━━━━━━━━━\u001b[0m\u001b[37m\u001b[0m \u001b[1m11s\u001b[0m 4ms/step - accuracy: 0.5703 - loss: 1.1313 - val_accuracy: 0.7339 - val_loss: 0.7778\n",
      "Epoch 5/15\n",
      "\u001b[1m1563/1563\u001b[0m \u001b[32m━━━━━━━━━━━━━━━━━━━━\u001b[0m\u001b[37m\u001b[0m \u001b[1m7s\u001b[0m 5ms/step - accuracy: 0.6056 - loss: 1.0472 - val_accuracy: 0.7472 - val_loss: 0.7324\n",
      "Epoch 6/15\n",
      "\u001b[1m1563/1563\u001b[0m \u001b[32m━━━━━━━━━━━━━━━━━━━━\u001b[0m\u001b[37m\u001b[0m \u001b[1m9s\u001b[0m 4ms/step - accuracy: 0.6369 - loss: 0.9777 - val_accuracy: 0.7569 - val_loss: 0.6984\n",
      "Epoch 7/15\n",
      "\u001b[1m1563/1563\u001b[0m \u001b[32m━━━━━━━━━━━━━━━━━━━━\u001b[0m\u001b[37m\u001b[0m \u001b[1m11s\u001b[0m 4ms/step - accuracy: 0.6549 - loss: 0.9296 - val_accuracy: 0.7660 - val_loss: 0.6710\n",
      "Epoch 8/15\n",
      "\u001b[1m1563/1563\u001b[0m \u001b[32m━━━━━━━━━━━━━━━━━━━━\u001b[0m\u001b[37m\u001b[0m \u001b[1m8s\u001b[0m 5ms/step - accuracy: 0.6741 - loss: 0.8935 - val_accuracy: 0.7720 - val_loss: 0.6554\n",
      "Epoch 9/15\n",
      "\u001b[1m1563/1563\u001b[0m \u001b[32m━━━━━━━━━━━━━━━━━━━━\u001b[0m\u001b[37m\u001b[0m \u001b[1m9s\u001b[0m 4ms/step - accuracy: 0.6853 - loss: 0.8624 - val_accuracy: 0.7760 - val_loss: 0.6365\n",
      "Epoch 10/15\n",
      "\u001b[1m1563/1563\u001b[0m \u001b[32m━━━━━━━━━━━━━━━━━━━━\u001b[0m\u001b[37m\u001b[0m \u001b[1m7s\u001b[0m 4ms/step - accuracy: 0.6979 - loss: 0.8423 - val_accuracy: 0.7800 - val_loss: 0.6252\n",
      "Epoch 11/15\n",
      "\u001b[1m1563/1563\u001b[0m \u001b[32m━━━━━━━━━━━━━━━━━━━━\u001b[0m\u001b[37m\u001b[0m \u001b[1m11s\u001b[0m 5ms/step - accuracy: 0.7080 - loss: 0.8212 - val_accuracy: 0.7820 - val_loss: 0.6139\n",
      "Epoch 12/15\n",
      "\u001b[1m1563/1563\u001b[0m \u001b[32m━━━━━━━━━━━━━━━━━━━━\u001b[0m\u001b[37m\u001b[0m \u001b[1m7s\u001b[0m 5ms/step - accuracy: 0.7183 - loss: 0.7970 - val_accuracy: 0.7856 - val_loss: 0.5989\n",
      "Epoch 13/15\n",
      "\u001b[1m1563/1563\u001b[0m \u001b[32m━━━━━━━━━━━━━━━━━━━━\u001b[0m\u001b[37m\u001b[0m \u001b[1m7s\u001b[0m 5ms/step - accuracy: 0.7192 - loss: 0.7872 - val_accuracy: 0.7862 - val_loss: 0.5948\n",
      "Epoch 14/15\n",
      "\u001b[1m1563/1563\u001b[0m \u001b[32m━━━━━━━━━━━━━━━━━━━━\u001b[0m\u001b[37m\u001b[0m \u001b[1m7s\u001b[0m 5ms/step - accuracy: 0.7230 - loss: 0.7669 - val_accuracy: 0.7888 - val_loss: 0.5845\n",
      "Epoch 15/15\n",
      "\u001b[1m1563/1563\u001b[0m \u001b[32m━━━━━━━━━━━━━━━━━━━━\u001b[0m\u001b[37m\u001b[0m \u001b[1m7s\u001b[0m 5ms/step - accuracy: 0.7285 - loss: 0.7620 - val_accuracy: 0.7912 - val_loss: 0.5787\n"
     ]
    }
   ],
   "source": [
    "history3=model5.fit(X_train_upper, y_train, epochs=15, batch_size=32, validation_data=(X_valid_upper, y_valid))"
   ]
  },
  {
   "cell_type": "code",
   "execution_count": 158,
   "id": "b6820599-9562-4473-9020-e23aefa94324",
   "metadata": {},
   "outputs": [
    {
     "name": "stdout",
     "output_type": "stream",
     "text": [
      "\u001b[1m313/313\u001b[0m \u001b[32m━━━━━━━━━━━━━━━━━━━━\u001b[0m\u001b[37m\u001b[0m \u001b[1m1s\u001b[0m 2ms/step   \n"
     ]
    }
   ],
   "source": [
    "model5_predictions=np.argmax(model5.predict(X_test_upper), axis=1)"
   ]
  },
  {
   "cell_type": "code",
   "execution_count": 159,
   "id": "4423d3fe-2efb-44fd-b129-d3178fa41787",
   "metadata": {},
   "outputs": [],
   "source": [
    "cl_report_model5 = classification_report(y_test, model5_predictions,output_dict=True)"
   ]
  },
  {
   "cell_type": "code",
   "execution_count": 160,
   "id": "4242d513-25ac-4f94-b6d2-2b7c6f967a1a",
   "metadata": {},
   "outputs": [
    {
     "data": {
      "text/html": [
       "<div>\n",
       "<style scoped>\n",
       "    .dataframe tbody tr th:only-of-type {\n",
       "        vertical-align: middle;\n",
       "    }\n",
       "\n",
       "    .dataframe tbody tr th {\n",
       "        vertical-align: top;\n",
       "    }\n",
       "\n",
       "    .dataframe thead th {\n",
       "        text-align: right;\n",
       "    }\n",
       "</style>\n",
       "<table border=\"1\" class=\"dataframe\">\n",
       "  <thead>\n",
       "    <tr style=\"text-align: right;\">\n",
       "      <th></th>\n",
       "      <th>0</th>\n",
       "      <th>1</th>\n",
       "      <th>2</th>\n",
       "      <th>3</th>\n",
       "      <th>4</th>\n",
       "      <th>5</th>\n",
       "      <th>6</th>\n",
       "      <th>7</th>\n",
       "      <th>8</th>\n",
       "      <th>9</th>\n",
       "      <th>accuracy</th>\n",
       "      <th>macro avg</th>\n",
       "      <th>weighted avg</th>\n",
       "    </tr>\n",
       "  </thead>\n",
       "  <tbody>\n",
       "    <tr>\n",
       "      <th>precision</th>\n",
       "      <td>0.722122</td>\n",
       "      <td>0.971983</td>\n",
       "      <td>0.622659</td>\n",
       "      <td>0.775763</td>\n",
       "      <td>0.546580</td>\n",
       "      <td>0.928352</td>\n",
       "      <td>0.443333</td>\n",
       "      <td>0.881119</td>\n",
       "      <td>0.939122</td>\n",
       "      <td>0.898931</td>\n",
       "      <td>0.781</td>\n",
       "      <td>0.772996</td>\n",
       "      <td>0.772996</td>\n",
       "    </tr>\n",
       "    <tr>\n",
       "      <th>recall</th>\n",
       "      <td>0.803000</td>\n",
       "      <td>0.902000</td>\n",
       "      <td>0.665000</td>\n",
       "      <td>0.813000</td>\n",
       "      <td>0.839000</td>\n",
       "      <td>0.907000</td>\n",
       "      <td>0.133000</td>\n",
       "      <td>0.882000</td>\n",
       "      <td>0.941000</td>\n",
       "      <td>0.925000</td>\n",
       "      <td>0.781</td>\n",
       "      <td>0.781000</td>\n",
       "      <td>0.781000</td>\n",
       "    </tr>\n",
       "    <tr>\n",
       "      <th>f1-score</th>\n",
       "      <td>0.760417</td>\n",
       "      <td>0.935685</td>\n",
       "      <td>0.643133</td>\n",
       "      <td>0.793945</td>\n",
       "      <td>0.661933</td>\n",
       "      <td>0.917552</td>\n",
       "      <td>0.204615</td>\n",
       "      <td>0.881559</td>\n",
       "      <td>0.940060</td>\n",
       "      <td>0.911779</td>\n",
       "      <td>0.781</td>\n",
       "      <td>0.765068</td>\n",
       "      <td>0.765068</td>\n",
       "    </tr>\n",
       "    <tr>\n",
       "      <th>support</th>\n",
       "      <td>1000.000000</td>\n",
       "      <td>1000.000000</td>\n",
       "      <td>1000.000000</td>\n",
       "      <td>1000.000000</td>\n",
       "      <td>1000.000000</td>\n",
       "      <td>1000.000000</td>\n",
       "      <td>1000.000000</td>\n",
       "      <td>1000.000000</td>\n",
       "      <td>1000.000000</td>\n",
       "      <td>1000.000000</td>\n",
       "      <td>0.781</td>\n",
       "      <td>10000.000000</td>\n",
       "      <td>10000.000000</td>\n",
       "    </tr>\n",
       "  </tbody>\n",
       "</table>\n",
       "</div>"
      ],
      "text/plain": [
       "                     0            1            2            3            4  \\\n",
       "precision     0.722122     0.971983     0.622659     0.775763     0.546580   \n",
       "recall        0.803000     0.902000     0.665000     0.813000     0.839000   \n",
       "f1-score      0.760417     0.935685     0.643133     0.793945     0.661933   \n",
       "support    1000.000000  1000.000000  1000.000000  1000.000000  1000.000000   \n",
       "\n",
       "                     5            6            7            8            9  \\\n",
       "precision     0.928352     0.443333     0.881119     0.939122     0.898931   \n",
       "recall        0.907000     0.133000     0.882000     0.941000     0.925000   \n",
       "f1-score      0.917552     0.204615     0.881559     0.940060     0.911779   \n",
       "support    1000.000000  1000.000000  1000.000000  1000.000000  1000.000000   \n",
       "\n",
       "           accuracy     macro avg  weighted avg  \n",
       "precision     0.781      0.772996      0.772996  \n",
       "recall        0.781      0.781000      0.781000  \n",
       "f1-score      0.781      0.765068      0.765068  \n",
       "support       0.781  10000.000000  10000.000000  "
      ]
     },
     "execution_count": 160,
     "metadata": {},
     "output_type": "execute_result"
    }
   ],
   "source": [
    "pd.DataFrame(cl_report_model5)"
   ]
  },
  {
   "cell_type": "code",
   "execution_count": 236,
   "id": "ca2ecdfb-b77f-412d-baad-a557f35ef894",
   "metadata": {},
   "outputs": [],
   "source": [
    "best_epoch_Dropout= np.argmin(history3.history['val_loss'])"
   ]
  },
  {
   "cell_type": "code",
   "execution_count": 237,
   "id": "1a05f38c-d891-4110-b91e-699a495a3404",
   "metadata": {},
   "outputs": [
    {
     "data": {
      "text/plain": [
       "14"
      ]
     },
     "execution_count": 237,
     "metadata": {},
     "output_type": "execute_result"
    }
   ],
   "source": [
    "best_epoch_Dropout"
   ]
  },
  {
   "cell_type": "code",
   "execution_count": 253,
   "id": "c0ce6b7d-a01b-4ed5-b48d-968f3cb0e203",
   "metadata": {},
   "outputs": [
    {
     "data": {
      "image/png": "[encoded data removed]",
      "text/plain": [
       "<Figure size 800x500 with 1 Axes>"
      ]
     },
     "metadata": {},
     "output_type": "display_data"
    }
   ],
   "source": [
    "pd.DataFrame(history3.history).plot(figsize=(8, 5), xlim=[0, 14], grid=True, xlabel=\"Epoch\", style=[\"r--\", \"r--.\", \"b-\", \"b-*\"],\n",
    "                                   linewidth=1)\n",
    "plt.vlines(best_epoch_Dropout,0,min(history3.history[\"val_loss\"]),linewidth=1.5,linestyle=\"--\",color=\"red\",label=f\"Best Epoch: {best_epoch_Dropout}\")\n",
    "plt.plot(best_epoch_Dropout,min(history3.history[\"val_loss\"]),\"ro\")\n",
    "plt.legend(loc=\"upper right\")\n",
    "plt.title(\"Base Model with Dropout layers\")\n",
    "plt.show()"
   ]
  },
  {
   "cell_type": "code",
   "execution_count": 205,
   "id": "c388d281-bd6d-48f2-ab32-1bb7a290d9ab",
   "metadata": {},
   "outputs": [
    {
     "name": "stderr",
     "output_type": "stream",
     "text": [
      "WARNING:matplotlib.legend:No artists with labels found to put in legend.  Note that artists whose label start with an underscore are ignored when legend() is called with no argument.\n",
      "WARNING:matplotlib.legend:No artists with labels found to put in legend.  Note that artists whose label start with an underscore are ignored when legend() is called with no argument.\n",
      "WARNING:matplotlib.legend:No artists with labels found to put in legend.  Note that artists whose label start with an underscore are ignored when legend() is called with no argument.\n"
     ]
    },
    {
     "data": {
      "text/plain": [
       "<Figure size 1500x1500 with 0 Axes>"
      ]
     },
     "metadata": {},
     "output_type": "display_data"
    },
    {
     "data": {
      "image/png": "[encoded data removed]",
      "text/plain": [
       "<Figure size 1000x700 with 4 Axes>"
      ]
     },
     "metadata": {},
     "output_type": "display_data"
    }
   ],
   "source": [
    "plt.figure(figsize=(15,15))\n",
    "fig, axs = plt.subplots(2, 2)\n",
    "pd.DataFrame(history.history).plot(figsize=(10, 7),ax=axs[0, 0], xlim=[0, 14], ylim=[0, 1], grid=True, xlabel=\"Epoch\", style=[\"r--\", \"r--.\", \"b-\", \"b-*\"],\n",
    "                                   title=\"Base\",linewidth=1)\n",
    "plt.legend(loc=\"lower left\") \n",
    "plt.title(\"Base Model\")\n",
    " \n",
    "pd.DataFrame(history1.history).plot(\n",
    "    figsize=(10, 7),ax=axs[0, 1], xlim=[0, 8], ylim=[0, 1], grid=True, xlabel=\"Epoch\",\n",
    "    style=[\"r--\", \"r--.\", \"b-\", \"b-*\"],linewidth=1,title=\"Early stopping\")\n",
    "plt.legend(loc=\"lower left\")\n",
    "plt.title(\"Base Model with Early stopping\")\n",
    "\n",
    "pd.DataFrame(history2.history).plot(\n",
    "    figsize=(10, 7),ax=axs[1,0], xlim=[0, 14], ylim=[0, 1], grid=True, xlabel=\"Epoch\",linewidth=1,\n",
    "    style=[\"r--\", \"r--.\", \"b-\", \"b-*\"],title=\"Batch Normalization Layers\")\n",
    "plt.legend(loc=\"lower left\") \n",
    "plt.title(\"Base Model with Batch normalization layers\")\n",
    "  \n",
    "pd.DataFrame(history3.history).plot(figsize=(10, 7),ax=axs[1,1],title=\"Dropout layers\", xlim=[0, 14], grid=True, xlabel=\"Epoch\", style=[\"r--\", \"r--.\", \"b-\", \"b-*\"],linewidth=1)\n",
    "plt.legend(loc=\"upper right\")\n",
    "plt.tight_layout()\n",
    "plt.show()"
   ]
  },
  {
   "cell_type": "code",
   "execution_count": null,
   "id": "8416f8a6-0ace-4aea-b4c9-45ddc2e7792c",
   "metadata": {},
   "outputs": [],
   "source": []
  }
 ],
 "metadata": {
  "kernelspec": {
   "display_name": "Python 3 (ipykernel)",
   "language": "python",
   "name": "python3"
  },
  "language_info": {
   "codemirror_mode": {
    "name": "ipython",
    "version": 3
   },
   "file_extension": ".py",
   "mimetype": "text/x-python",
   "name": "python",
   "nbconvert_exporter": "python",
   "pygments_lexer": "ipython3",
   "version": "3.11.5"
  }
 },
 "nbformat": 4,
 "nbformat_minor": 5
}
